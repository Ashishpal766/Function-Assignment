{
  "nbformat": 4,
  "nbformat_minor": 0,
  "metadata": {
    "colab": {
      "provenance": []
    },
    "kernelspec": {
      "name": "python3",
      "display_name": "Python 3"
    },
    "language_info": {
      "name": "python"
    }
  },
  "cells": [
    {
      "cell_type": "markdown",
      "source": [
        "# FUNCTION\n"
      ],
      "metadata": {
        "id": "okqoo3LupUcd"
      }
    },
    {
      "cell_type": "markdown",
      "source": [
        "Q1. What is the difference between a function and a method in Python?\n",
        "\n",
        " ->  The difference between a function and a method boils down to their association with objects. Let's break it down:\n",
        "\n",
        "- Function:\n",
        "\n",
        "A function is a block of organized, reusable code that performs a specific task.\n",
        "It's defined independently in your Python script.\n",
        "You call a function directly by its name, possibly passing arguments.\n",
        "Functions don't inherently operate on any specific object.\n",
        "Think of a function like a standalone tool in your toolbox. You can pick it up and use it whenever you need to perform a particular operation.\n",
        "\n",
        "⚓ Example of a function:"
      ],
      "metadata": {
        "id": "RBHAcQIZpZDK"
      }
    },
    {
      "cell_type": "code",
      "source": [
        "def greet(name):\n",
        "  return f\"Hello, {name}!\"\n",
        "\n",
        "message = greet(\"PW SKILLS\")\n",
        "print(message)"
      ],
      "metadata": {
        "colab": {
          "base_uri": "https://localhost:8080/"
        },
        "id": "laubfZaGqJBq",
        "outputId": "bc551759-5588-4b17-f016-f02f64f9592d"
      },
      "execution_count": null,
      "outputs": [
        {
          "output_type": "stream",
          "name": "stdout",
          "text": [
            "Hello, PW SKILLS!\n"
          ]
        }
      ]
    },
    {
      "cell_type": "markdown",
      "source": [
        "- Method:\n",
        "\n",
        "A method is also a block of organized, reusable code that performs a specific task.\n",
        "Crucially, a method is associated with an object (an instance of a class).\n",
        "You call a method on an object using dot notation (object.method()).\n",
        "Methods can access and modify the data (attributes) of the object they are called on.\n",
        "Imagine a method as a tool that is specifically designed to work with a particular object. It knows about the object's internal workings.\n",
        "\n",
        "⚓ Example of a method:"
      ],
      "metadata": {
        "id": "N0_Bp2OuqqVO"
      }
    },
    {
      "cell_type": "code",
      "source": [
        "class Dog:\n",
        "  def __init__(self, name):\n",
        "    self.name = name\n",
        "\n",
        "  def bark(self):\n",
        "    return \"Woof!\"\n",
        "\n",
        "my_dog = Dog(\"Buddy\")\n",
        "sound = my_dog.bark()\n",
        "print(sound)\n",
        "print(my_dog.name)"
      ],
      "metadata": {
        "colab": {
          "base_uri": "https://localhost:8080/"
        },
        "id": "guE_4uFKqtBU",
        "outputId": "df1525e7-8a20-4d09-eaff-32f06330314a"
      },
      "execution_count": null,
      "outputs": [
        {
          "output_type": "stream",
          "name": "stdout",
          "text": [
            "Woof!\n",
            "Buddy\n"
          ]
        }
      ]
    },
    {
      "cell_type": "markdown",
      "source": [
        "✈ In essence, methods are functions that \"know about\" and can interact with the specific object they are called upon. They are fundamental to object-oriented programming in Python."
      ],
      "metadata": {
        "id": "VAYGI0IRrCi3"
      }
    },
    {
      "cell_type": "markdown",
      "source": [
        "Q2.  Explain the concept of function arguments and parameters in Python.\n",
        "\n",
        "->In Python, the terms \"arguments\" and \"parameters\" are often used interchangeably, but there's a subtle yet important distinction. Let's clarify:\n",
        "\n",
        "- Parameters:\n",
        "\n",
        "✅ Parameters are the names listed in the function definition. They act as placeholders for the values that will be passed into the function when it's called\n",
        "\n",
        "✅ Think of parameters as the empty slots or labels in the function's blueprint, waiting to be filled with actual data.\n",
        "\n",
        "- Arguments:\n",
        "\n",
        "✔ Arguments are the actual values that are passed to the function when you call it.\n",
        "\n",
        "\n",
        "✔ These are the real pieces of data that get assigned to the corresponding parameters in the function definition.\n",
        "\n",
        "♒  Understanding the difference between parameters and arguments, and the various ways to pass arguments in Python, is fundamental to writing flexible and reusable functions. It allows you to design functions that can handle a wide range of inputs and adapt to different situations."
      ],
      "metadata": {
        "id": "oaMBDJuWsEyp"
      }
    },
    {
      "cell_type": "markdown",
      "source": [
        "Q3.  What are the different ways to define and call a function in Python?\n",
        "\n",
        "-> Understanding how to define and call functions is a cornerstone of Python programming. Here are the primary ways to define and subsequently call functions:\n",
        "\n",
        "   1.   Defining a Standard Function using def:\n",
        "\n",
        "This is the most common way to define a function in Python.\n",
        "\n",
        "Definition: You start with the keyword def, followed by the function name, a pair of parentheses (), and a colon :. The parameters (if any) go inside the parentheses. The code block that the function executes is indented below the def line."
      ],
      "metadata": {
        "id": "pxc_wm3JtNVw"
      }
    },
    {
      "cell_type": "code",
      "source": [
        "def greet(name):\n",
        "\n",
        "  print(f\"Hello, {name}!\")\n",
        "\n",
        "def add(x, y):\n",
        "\n",
        "  return x + y\n",
        "\n",
        "def say_hello():\n",
        "\n",
        "  print(\"Hello there how have you been?\")"
      ],
      "metadata": {
        "id": "d8s7QzWZt_9q"
      },
      "execution_count": null,
      "outputs": []
    },
    {
      "cell_type": "markdown",
      "source": [
        "- Calling: You call a standard function by its name followed by parentheses (). If the function has parameters, you provide the corresponding arguments inside the parentheses"
      ],
      "metadata": {
        "id": "Qot41VD_uLix"
      }
    },
    {
      "cell_type": "code",
      "source": [
        "greet(\"Ashish\")\n",
        "result = add(5, 3)\n",
        "print(result)\n",
        "say_hello()"
      ],
      "metadata": {
        "colab": {
          "base_uri": "https://localhost:8080/"
        },
        "id": "SMMrEGcPuNvv",
        "outputId": "7df8e534-55f2-4be4-bd1c-5b23043a8d23"
      },
      "execution_count": null,
      "outputs": [
        {
          "output_type": "stream",
          "name": "stdout",
          "text": [
            "Hello, Ashish!\n",
            "8\n",
            "Hello there how have you been?\n"
          ]
        }
      ]
    },
    {
      "cell_type": "markdown",
      "source": [
        "2. Defining Anonymous Functions (Lambda Functions):\n",
        "\n",
        "Lambda functions are small, single-expression anonymous functions (meaning they don't have a formal name defined with def).\n",
        "\n",
        " - Definition: You use the lambda keyword, followed by the parameters (separated by commas, no parentheses), a colon :, and then the single expression that the function will evaluate and return."
      ],
      "metadata": {
        "id": "57_2heDLu7fF"
      }
    },
    {
      "cell_type": "code",
      "source": [
        "square = lambda x: x**2\n",
        "add = lambda a, b: a + b"
      ],
      "metadata": {
        "id": "wKlFAwtgvKwp"
      },
      "execution_count": null,
      "outputs": []
    },
    {
      "cell_type": "markdown",
      "source": [
        "- Calling: You call a lambda function by assigning it to a variable (though this somewhat defeats the \"anonymous\" nature) and then calling that variable like a regular function"
      ],
      "metadata": {
        "id": "DGyGeidkvTJh"
      }
    },
    {
      "cell_type": "code",
      "source": [
        "result_square = square(5)\n",
        "print(result_square)\n",
        "\n",
        "result_add = add(10, 7)\n",
        "print(result_add)"
      ],
      "metadata": {
        "colab": {
          "base_uri": "https://localhost:8080/"
        },
        "id": "fTVwFRdjvU2E",
        "outputId": "59318119-fd93-4aa8-91df-8d525bd39552"
      },
      "execution_count": null,
      "outputs": [
        {
          "output_type": "stream",
          "name": "stdout",
          "text": [
            "25\n",
            "17\n"
          ]
        }
      ]
    },
    {
      "cell_type": "markdown",
      "source": [
        "3.  Defining Methods within Classes:\n",
        "\n",
        "As we discussed earlier, methods are functions defined inside a class. They are associated with the objects (instances) of that class.\n",
        "\n",
        "\n",
        "- Definition: You define methods within a class block using the def keyword, just like regular functions. The first parameter of a method is conventionally named self, which refers to the instance of the class."
      ],
      "metadata": {
        "id": "ONdkf34HvfHU"
      }
    },
    {
      "cell_type": "code",
      "source": [
        "class Circle:\n",
        "  def __init__(self, radius):\n",
        "    self.radius = radius\n",
        "\n",
        "  def area(self):\n",
        "    return 3.14159 * self.radius**2\n",
        "\n",
        "  def describe(self):\n",
        "    print(f\"This is a circle with radius {self.radius}.\")"
      ],
      "metadata": {
        "id": "rPiNIQGbvp_n"
      },
      "execution_count": null,
      "outputs": []
    },
    {
      "cell_type": "markdown",
      "source": [
        "- Calling: You call a method on an object of the class using dot notation (object.method()). The self parameter is automatically passed by Python."
      ],
      "metadata": {
        "id": "hnpE7PZ0vukY"
      }
    },
    {
      "cell_type": "code",
      "source": [
        "my_circle = Circle(5)\n",
        "circle_area = my_circle.area()\n",
        "print(f\"The area is: {circle_area}\")\n",
        "\n",
        "my_circle.describe()"
      ],
      "metadata": {
        "colab": {
          "base_uri": "https://localhost:8080/"
        },
        "id": "SdfmiIHgvwF1",
        "outputId": "eefb6ed8-7209-473a-e35e-a13a3b06b1ef"
      },
      "execution_count": null,
      "outputs": [
        {
          "output_type": "stream",
          "name": "stdout",
          "text": [
            "The area is: 78.53975\n",
            "This is a circle with radius 5.\n"
          ]
        }
      ]
    },
    {
      "cell_type": "markdown",
      "source": [
        "✈ In Summary:\n",
        "\n",
        "\n",
        "▶ def keyword: The standard way to define named functions.\n",
        "\n",
        "▶ lambda keyword: For defining small, anonymous functions, often used in line.\n",
        "\n",
        "▶ Methods within classes: Functions defined inside a class that operate on the class's objects."
      ],
      "metadata": {
        "id": "pNNAz5nDv7KR"
      }
    },
    {
      "cell_type": "markdown",
      "source": [
        "Q4. . What is the purpose of the `return` statement in a Python function?\n",
        "\n",
        "->  The return statement is absolutely fundamental to the functionality and usefulness of Python functions! Its primary purpose is to send a value (or values) back from the function to the part of the code that called it.\n",
        "\n",
        "Think of a function as a mini-program that performs a specific task. Often, after completing its task, you want the function to give you a result. That's precisely what return does.\n",
        "\n",
        "Here's a breakdown of the key purposes and behaviors of the return statement:\n",
        "\n",
        "⚗ Returning a Value:\n",
        "- The most common use of return is to provide a result of the function's computation or operation.\n",
        "\n",
        "- The expression following the return keyword is evaluated, and its value is sent back to the caller.\n"
      ],
      "metadata": {
        "id": "A1Y_tp-FwUsV"
      }
    },
    {
      "cell_type": "code",
      "source": [
        "def multiply(a, b):\n",
        "  result = a * b\n",
        "  return result\n",
        "\n",
        "product = multiply(5, 4)\n",
        "print(product)"
      ],
      "metadata": {
        "colab": {
          "base_uri": "https://localhost:8080/"
        },
        "id": "cjLMhj-Jw659",
        "outputId": "77373017-10c9-43f6-b4e9-d762d90ae927"
      },
      "execution_count": null,
      "outputs": [
        {
          "output_type": "stream",
          "name": "stdout",
          "text": [
            "20\n"
          ]
        }
      ]
    },
    {
      "cell_type": "markdown",
      "source": [
        "⚗ Returning Multiple Values (as a Tuple):\n",
        "\n",
        "- Python allows you to return multiple values from a function by separating them with commas after the return keyword.\n",
        "\n",
        "- These values are automatically packed into a tuple."
      ],
      "metadata": {
        "id": "H8nDIeGDxB80"
      }
    },
    {
      "cell_type": "code",
      "source": [
        "def divide_and_remainder(numerator, denominator):\n",
        "  quotient = numerator // denominator\n",
        "  remainder = numerator % denominator\n",
        "  return quotient, remainder\n",
        "\n",
        "q, r = divide_and_remainder(17, 5)\n",
        "print(f\"Quotient: {q}, Remainder: {r}\")\n",
        "\n",
        "result_tuple = divide_and_remainder(10, 3)\n",
        "print(result_tuple)"
      ],
      "metadata": {
        "colab": {
          "base_uri": "https://localhost:8080/"
        },
        "id": "QIKtu40txLXA",
        "outputId": "b334361e-20ea-4cc1-8e2c-17d0f865bfed"
      },
      "execution_count": null,
      "outputs": [
        {
          "output_type": "stream",
          "name": "stdout",
          "text": [
            "Quotient: 3, Remainder: 2\n",
            "(3, 1)\n"
          ]
        }
      ]
    },
    {
      "cell_type": "markdown",
      "source": [
        "⚗ Exiting the Function:\n",
        "\n",
        "- When a return statement is encountered within a function, it immediately terminates the execution of that function.\n",
        "\n",
        "- Any code within the function that appears after the return statement will not be executed."
      ],
      "metadata": {
        "id": "zQLkpyv4xUTZ"
      }
    },
    {
      "cell_type": "code",
      "source": [
        "def check_positive(number):\n",
        "  if number > 0:\n",
        "    return True\n",
        "    print(\"This line will not be printed.\")\n",
        "  else:\n",
        "    return False\n",
        "    print(\"This line will also not be printed.\")\n",
        "\n",
        "is_positive = check_positive(7)\n",
        "print(is_positive)\n",
        "is_positive = check_positive(-2)\n",
        "print(is_positive)"
      ],
      "metadata": {
        "colab": {
          "base_uri": "https://localhost:8080/"
        },
        "id": "pu4JOCA0xk0Q",
        "outputId": "d19b0f80-aa5f-44e4-efc9-ae09a626c104"
      },
      "execution_count": null,
      "outputs": [
        {
          "output_type": "stream",
          "name": "stdout",
          "text": [
            "True\n",
            "False\n"
          ]
        }
      ]
    },
    {
      "cell_type": "markdown",
      "source": [
        "♒ In essence, the return statement is the mechanism by which a function communicates its results back to the calling code, and it also serves as a way to exit the function's execution. It's crucial for creating modular and reusable code where functions can perform computations and provide their outcomes for further use in your program."
      ],
      "metadata": {
        "id": "JVk2QcJExutb"
      }
    },
    {
      "cell_type": "markdown",
      "source": [],
      "metadata": {
        "id": "NFLPmCM6x0DH"
      }
    },
    {
      "cell_type": "markdown",
      "source": [
        "Q5.  What are iterators in Python and how do they differ from iterables?\n",
        "\n",
        "-> I terators and iterables are fundamental concepts in Python that underpin how we loop through collections of data efficiently. While often used together, they have distinct roles. Let's unravel their differences:\n",
        "\n",
        "-  Iterables:\n",
        "\n",
        "  ⚛  Definition: An iterable is any Python object that can return its members one at a time. Essentially, it's something you can loop over\n",
        "\n",
        "  ⚛  Capability: Iterables have a special method called __iter__() which, when called, returns an iterator object.\n",
        "\n",
        "  ⚛ Examples: Common built-in iterables include\n",
        "\n",
        "  ♈ Lists ([1, 2, 3])\n",
        "\n",
        "  ♈Tuples ((4, 5, 6))\n",
        "\n",
        "  ♈Strings (\"hello\")\n",
        "\n",
        "  ♈Dictionaries ({'a': 1, 'b': 2}) (iterating over keys by default)\n",
        "\n",
        "  ♈Sets ({7, 8, 9})\n",
        "\n",
        "  ♈Ranges (range(5))\n",
        "\n",
        "  ♈File objects (open(\"my_file.txt\"))\n",
        "\n",
        "  - Think of it as: A container or a source of items that can be accessed sequentially. It's something that can provide an iterator.\n",
        "\n",
        "\n",
        "\n",
        "  - Iterators:\n",
        "\n",
        "  ⚛ Definition: An iterator is an object that allows you to traverse through the elements of an iterable one at a time\n",
        "\n",
        "  ⚛Requirements: Iterators must implement two special methods:\n",
        "\n",
        "\n",
        "\n",
        "\n",
        "           -   __iter__(): Returns the iterator object itself. This allows iterators to be used where an iterable is expected.\n",
        "\n",
        "\n",
        "\n",
        "          - __next__(): Returns the next item in the sequence. When there are no more items, it raises a StopIteration exception."
      ],
      "metadata": {
        "id": "s1jqyBxCx6uU"
      }
    },
    {
      "cell_type": "markdown",
      "source": [
        "Q 6. Explain the concept of generators in Python and how they are defined.\n",
        "\n",
        "-> generators in Python! Generators are a powerful and elegant way to create iterators in a more concise and memory-efficient manner.\n",
        "\n",
        "-  Concept of Generators:\n",
        "\n",
        "At their core, generators are a special kind of function that produces a sequence of values, one at a time, on demand. Unlike regular functions that compute and return a single result, generators \"yield\" values. This \"yielding\" is the key difference.\n",
        "\n",
        "Think of a generator like a factory that produces items one by one as you request them, rather than creating a whole batch upfront. This lazy evaluation makes them incredibly useful for dealing with large or potentially infinite sequences of data without consuming excessive memory.\n",
        "\n",
        "⚛ Key Characteristics of Generators:\n",
        "\n",
        " - Iterator Creation: Generators automatically create iterators. You can iterate over the values produced by a generator using a for loop or by calling next() on the generator object.\n",
        "\n",
        "- azy Evaluation: Values are generated only when they are needed. The generator function's state is saved between calls, allowing it to resume execution from where it left off.\n",
        "\n",
        "- Memory Efficiency: Since values are generated on demand, generators don't need to store the entire sequence in memory. This is a significant advantage when dealing with large datasets. - Simpler Code: Generators often provide a more readable and concise way to implement iterators compared to defining classes with __iter__() and __next__() methods manually."
      ],
      "metadata": {
        "id": "yaGvuNILz7vr"
      }
    },
    {
      "cell_type": "markdown",
      "source": [
        "Q7. What are the advantages of using generators over regular functions?\n",
        "\n",
        "-> You've hit on a key point! Generators offer several significant advantages over regular functions when it comes to producing sequences of values. Here are the main benefits:\n",
        "\n",
        "1. 1. Memory Efficiency (Lazy Evaluation):\n",
        "\n",
        "- Regular Functions: Typically compute all their results and store them in memory (e.g., in a list) before returning. This can be highly memory-intensive, especially when dealing with large or potentially infinite sequences.\n",
        "\n",
        "- Generators: Generate values on demand using the yield keyword. They only hold the state needed to produce the next value in the sequence. This \"lazy evaluation\" means they use a constant amount of memory, regardless of the size of the sequence they produce. This is a massive advantage when working with very large datasets that might not fit into RAM.\n",
        "\n",
        "2.  Improved Performance (Especially for Large Sequences):\n",
        "\n",
        "- Regular Functions: Have to complete their entire computation before returning any result. This can lead to significant delays if the sequence is large.\n",
        "\n",
        "- Generators: Start producing values immediately. The caller can begin processing the first yielded value without waiting for the entire sequence to be generated. This can lead to faster overall processing, especially in scenarios where you don't need all the values at once.\n",
        "\n",
        "\n",
        "3. Simpler Code for Iterators:\n",
        "\n",
        "- Regular Functions (for creating iterators): If you were to create an iterator using a regular function, you'd typically need to manage the state explicitly, often involving helper variables and potentially a class with __iter__() and __next__() methods. This can be more complex and verbose.\n",
        "\n",
        "- Generators: Provide a much more natural and concise way to implement the logic for producing a sequence of values. The yield keyword handles the state management implicitly, making the code cleaner and easier to understand\n",
        "\n",
        "4. Pipeline Processing:\n",
        "\n",
        "- Generators can be easily chained together to form processing pipelines. One generator can consume the output of another, performing operations on the sequence of values as they are generated. This can lead to elegant and efficient solutions for complex data processing tasks."
      ],
      "metadata": {
        "id": "DAnxIFT41Qp1"
      }
    },
    {
      "cell_type": "code",
      "source": [
        "def numbers():\n",
        "  for i in range(10):\n",
        "    yield i\n",
        "\n",
        "def square(nums):\n",
        "  for num in nums:\n",
        "    yield num ** 2\n",
        "\n",
        "squared_numbers = square(numbers())\n",
        "for sq in squared_numbers:\n",
        "  print(sq)"
      ],
      "metadata": {
        "colab": {
          "base_uri": "https://localhost:8080/"
        },
        "id": "41zSTwgn2hYT",
        "outputId": "c1705573-1901-40c9-eb92-1bcb47bee5b6"
      },
      "execution_count": null,
      "outputs": [
        {
          "output_type": "stream",
          "name": "stdout",
          "text": [
            "0\n",
            "1\n",
            "4\n",
            "9\n",
            "16\n",
            "25\n",
            "36\n",
            "49\n",
            "64\n",
            "81\n"
          ]
        }
      ]
    },
    {
      "cell_type": "markdown",
      "source": [
        "Q8. What is a lambda function in Python and when is it typically used?\n",
        "\n",
        "-> A lambda functions in Python! They're like little, anonymous helpers for creating simple functions on the fly.\n",
        "\n",
        "A lambda function is a small, anonymous (unnamed) function in Python. It's defined using the lambda keyword rather than the standard def keyword. Because they are expressions, rather than statements, they have some syntactic constraints\n",
        "\n",
        "⚡ Here's the general syntax of a lambda function:\n",
        "\n",
        "\n",
        "\n"
      ],
      "metadata": {
        "id": "pNa2aPOe2rjC"
      }
    },
    {
      "cell_type": "code",
      "source": [
        "lambda arguments: expression"
      ],
      "metadata": {
        "colab": {
          "base_uri": "https://localhost:8080/"
        },
        "id": "JY5mywFM3T-j",
        "outputId": "f5264fb6-58cb-4df3-e1f5-e4230964a22a"
      },
      "execution_count": null,
      "outputs": [
        {
          "output_type": "execute_result",
          "data": {
            "text/plain": [
              "<function __main__.<lambda>(arguments)>"
            ]
          },
          "metadata": {},
          "execution_count": 18
        }
      ]
    },
    {
      "cell_type": "markdown",
      "source": [
        "   Let's break this down:\n",
        "   - lambda: This is the keyword that signals the start of a lambda function definition.\n",
        "   - arguments: This is a comma-separated list of input parameters (just like in a regular function). A lambda function can have zero or more arguments.\n",
        "   - :: This colon separates the arguments from the expression\n",
        "   - expression: This is a single expression that is evaluated and implicitly returned by the lambda function. Importantly, lambda functions can only contain one expression. They cannot contain statements like if, for, while, or return (the return is implicit).\n",
        "\n",
        "   ✈ Example:"
      ],
      "metadata": {
        "id": "AiavFi8D3b6f"
      }
    },
    {
      "cell_type": "code",
      "source": [
        "add = lambda x, y: x + y\n",
        "print(add(5, 3))\n",
        "\n",
        "square = lambda num: num**2\n",
        "print(square(4))\n",
        "\n",
        "greet = lambda name: f\"Hello, {name}!\"\n",
        "print(greet(\"Ashish Pal\"))"
      ],
      "metadata": {
        "colab": {
          "base_uri": "https://localhost:8080/"
        },
        "id": "IN8crpc63yi_",
        "outputId": "959f2bce-3217-4401-fc18-a6b28d067b26"
      },
      "execution_count": null,
      "outputs": [
        {
          "output_type": "stream",
          "name": "stdout",
          "text": [
            "8\n",
            "16\n",
            "Hello, Ashish Pal!\n"
          ]
        }
      ]
    },
    {
      "cell_type": "markdown",
      "source": [
        "In these examples, we've assigned the lambda functions to variables (add, square, greet). While you can do this, lambda functions are often used directly in places where a small function is needed for a short period"
      ],
      "metadata": {
        "id": "KGYixIGk4Lqt"
      }
    },
    {
      "cell_type": "markdown",
      "source": [
        "Q9. Explain the purpose and usage of the `map()` function in Python.\n",
        "\n",
        "-> the purpose and usage of the map() function in Python!\n",
        "\n",
        "Purpose of map():\n",
        "\n",
        "The primary purpose of the map() function is to apply a given function to each item in an iterable (like a list, tuple, etc.) and return an iterator that yields the results. Essentially, it transforms each element of an iterable based on the logic defined in the provided function.\n",
        "\n",
        "Think of it like a conveyor belt where each item on the belt passes through a processing station (the function), and the output is a new stream of processed items.\n",
        "\n",
        "☁   Usage of map():\n",
        "\n",
        "- The map() function takes two main arguments:\n",
        "  - function: This is the function that will be applied to each item in the iterable. It can be a built-in function, a user-defined function, or even a lambda function.\n",
        "\n",
        "  - iterable: This is the sequence (or other iterable object) whose elements will be processed by the function. You can pass one or more iterables to map(). If multiple iterables are provided, the function must accept as many arguments as there are iterables, and it will be called with the corresponding elements from each iterable. The map() function stops when the shortest iterable is exhausted."
      ],
      "metadata": {
        "id": "CNZ9b2K04Sq6"
      }
    },
    {
      "cell_type": "markdown",
      "source": [
        "Q10. What is the difference between `map()`, `reduce()`, and `filter()` functions in Python?\n",
        "\n",
        "->  The trio of map(), reduce(), and filter()! These are fundamental tools in Python for functional programming, each serving a distinct purpose in processing iterables. Let's break down their differences:\n",
        "\n",
        "1. map():\n",
        "- Purpose: Applies a given function to each item in an iterable and returns an iterator of the results. It transforms each element individually.\n",
        "\n",
        "- Input: Takes a function and one or more iterables. The function must accept as many arguments as there are iterables.\n",
        "\n",
        "- Output: Returns an iterator where each item is the result of applying the function to the corresponding item(s) from the input iterable(s).\n",
        "\n",
        "- Analogy: Think of a factory assembly line where each item (element of the iterable) goes through the same processing station (the function) and comes out transformed.\n",
        "\n",
        "✈ Example:"
      ],
      "metadata": {
        "id": "xvuvGAOQ5wQb"
      }
    },
    {
      "cell_type": "code",
      "source": [
        "numbers = [1, 2, 3, 4]\n",
        "squared = map(lambda x: x**2, numbers)\n",
        "print(list(squared))"
      ],
      "metadata": {
        "colab": {
          "base_uri": "https://localhost:8080/"
        },
        "id": "m8lXV0HP6kN7",
        "outputId": "fbb69e2a-1ba9-40c5-fc37-e8af74de3898"
      },
      "execution_count": null,
      "outputs": [
        {
          "output_type": "stream",
          "name": "stdout",
          "text": [
            "[1, 4, 9, 16]\n"
          ]
        }
      ]
    },
    {
      "cell_type": "markdown",
      "source": [
        "2. filter():\n",
        "- Purpose: Creates a new iterator containing only the items from an iterable for which a given function returns True. It selects elements based on a condition.\n",
        "- Input: Takes a function (that returns a boolean) and an iterable.\n",
        "- Output: Returns an iterator containing only the elements from the original iterable that satisfy the condition defined by the function.\n",
        "-Analogy: Imagine a sieve that only lets through items (elements of the iterable) that meet a certain criterion (the function returning True).\n",
        "\n",
        "✈ Example:"
      ],
      "metadata": {
        "id": "M_WwfMN66tWX"
      }
    },
    {
      "cell_type": "code",
      "source": [
        "numbers = [1, 2, 3, 4, 5, 6]\n",
        "evens = filter(lambda x: x % 2 == 0, numbers)\n",
        "print(list(evens))"
      ],
      "metadata": {
        "colab": {
          "base_uri": "https://localhost:8080/"
        },
        "id": "bVexj7xc6_YJ",
        "outputId": "8b2ad5a6-3cc3-4da8-99d1-0d48cb26261b"
      },
      "execution_count": null,
      "outputs": [
        {
          "output_type": "stream",
          "name": "stdout",
          "text": [
            "[2, 4, 6]\n"
          ]
        }
      ]
    },
    {
      "cell_type": "markdown",
      "source": [
        "3. reduce():\n",
        "- Purpose: Applies a function cumulatively to the items of an iterable, from left to right, so as to reduce the iterable to a single value. It1 performs a sequential operation\n",
        "- Input: Takes a function (that accepts two arguments) and an iterable. Optionally, it can take an initial value as the third argument.\n",
        "- Output: Returns a single value that is the result of the cumulative application of the function to the items in the iterable.\n",
        "-Analogy: Picture folding a piece of paper repeatedly. Each fold (the function) combines the current state with the next part of the paper (the next element), eventually resulting in a single, folded piece.\n",
        "- Note: In Python 3, reduce() is no longer a built-in function and needs to be imported from the functools module."
      ],
      "metadata": {
        "id": "Dbqunz__7Egf"
      }
    },
    {
      "cell_type": "code",
      "source": [
        "from functools import reduce\n",
        "\n",
        "numbers = [1, 2, 3, 4]\n",
        "product = reduce(lambda x, y: x * y, numbers)\n",
        "print(product)\n",
        "\n",
        "\n",
        "sum_with_start = reduce(lambda x, y: x + y, numbers, 10)\n",
        "print(sum_with_start)"
      ],
      "metadata": {
        "colab": {
          "base_uri": "https://localhost:8080/"
        },
        "id": "6wJ3msvQ7bv1",
        "outputId": "97024e94-3558-4d35-cd2f-952ed9a3311d"
      },
      "execution_count": null,
      "outputs": [
        {
          "output_type": "stream",
          "name": "stdout",
          "text": [
            "24\n",
            "20\n"
          ]
        }
      ]
    },
    {
      "cell_type": "markdown",
      "source": [
        "♒ These three functions provide powerful and concise ways to work with collections of data in a functional programming style in Python. While list comprehensions and generator expressions can often achieve similar results with potentially more readability for simple cases, understanding map(), filter(), and reduce() is crucial for working with functional programming paradigms and for understanding existing Python code"
      ],
      "metadata": {
        "id": "fZapQge87kzR"
      }
    },
    {
      "cell_type": "markdown",
      "source": [
        "Q11.Using pen & Paper write the internal mechanism for sum operation using  reduce function on this given\n",
        "list:[47,11,42,13];\n",
        "\n",
        "->  ![WhatsApp Image 2025-04-18 at 20.23.13.jpeg](data:image/jpeg;base64,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)"
      ],
      "metadata": {
        "id": "V5w1dHjmcNvg"
      }
    },
    {
      "cell_type": "markdown",
      "source": [
        "![WhatsApp Image 2025-04-18 at 20.23.14.jpeg](data:image/jpeg;base64,/9j/4AAQSkZJRgABAQAAAQABAAD/2wCEAAYGBgYHBgcICAcKCwoLCg8ODAwODxYQERAREBYiFRkVFRkVIh4kHhweJB42KiYmKjY+NDI0PkxERExfWl98fKcBBgYGBgcGBwgIBwoLCgsKDw4MDA4PFhAREBEQFiIVGRUVGRUiHiQeHB4kHjYqJiYqNj40MjQ+TERETF9aX3x8p//CABEIBVADuAMBIgACEQEDEQH/xAAuAAEBAQEBAQEAAAAAAAAAAAAAAQMEAgUGAQEBAQAAAAAAAAAAAAAAAAAAAQL/2gAMAwEAAhADEAAAAvpWVAAAAAABQAAAAAAABKIsAEoASwWUAAKItIoigUhRKAAAAAIolBKIoiiKIoiwAAAAEFAAAAABYKQoAM7LXzfHyc5f17l6kUEogAKAAAAAAAAAACLAAUiiKJaJQAFJQAAAAAAAAAAAAAAAAAAAiwAKJQQAAAAAAAAPJTi5vrDx7AAAQp4PYAAJeXWzVZKKRSSiwpFEURRKBRFEURRFAAAAAAAAAAAAAAAAAAAAAAEUAAAJRFgAAKQUECkBAR8HnP07PQAAyy6vFkz989d0y8R0HCdzCnjXP1XP2YYV9BzdOWPvl7K9J6zYolAAAAAAAAAAAAAAAAAAAAAAKACAAAAAAoIAAAAASiKIKFIqBACKPzfN+rzXLqEAAeLLPWWpZ41Iy1S4+OlZn69lz90k86Dn6AlJQQFAAAAAAAAAAFIsCwFIoiiKIoSqikiliwFiLAAAAAKAACAAAAAAAoIASiAATz4NVgKQAABRKAtQIECqFBAICggKAAAB59c3TYOc6BKAsFAPNenj2AAAAgKAIVloWURQAABDBNwoAAAQAKRYC149c/Qh4q+hADx7566HlFUfm+T6/BL9vqw3sUJQijx75uqyCUnPZej5fZp0PEy0uGp65t+Su1zo29c2poz0UICzzfn9Va+vld5tOX0dKyUQ5NsdNT3l69x5vumV94nUM0KnH0Y2Xq+Z0nUw2ihUuaPfLK6pj4NNMfRs5tTLr5OsHmPWOdrpcuxpOKnbOb0b8W/PXcz0yBTnws7/ADn6hMfVbe8vB0Xi2NsLTZw9ZjrnK0c/RHvDowPWHRK956zN43asozUAAQqCg5uiyz0JXL1LPm+u9p55utk5umHO6bXJvojH37GOtAKBn69Ew3Dz6AADxpACgUAADLWJFGelEooHj1SJQABjsCUY+tB4voSehM9R5z1FgAvl6CURQ8+h5egWHmeyWCgAABBABw83z8V/V3j7EBAKFABAAtAAKQFBB4PbPQAAAAEKx2AUAeE90UAAAy1QAAYmwCUJQAeD2QoUEEKng0l8Hp59AKCACLTI1ElFseNCKIvzk+gcy9IgCAA5Ob6giiVEoUAUSgDk09Zbl6ePsgJQHj3zpr648NPqYzON9fHqKFSjHxFnRM7HJ1YdWmHVh0ZSijhTt59JW04vZ0sPJ1uHQ6mFMuvl6gIEM/Xz99OuY8p2+/n7nVc9MgHH2fPrtymVdt4tI6UsOfoyPWU0qeZjXZ6MgEfOruzeK6vOPqPM09V52z0yc/R4PeWvg9hZxd2dkz6YefSS+hEAAfn+c/UTPUlAUigAADJqs5+gAUBhuTxfQlApQAEolESiUAGWo8X0MvfoMdh49UPPoePYAAY+tB5y3CUY7SgDx7AABBQSei8+mhEkPQHn0PHsJQCAAUKAAACAIAD87z/qfC49QgApKAAAAUAAAUSiSigAgAAAAAAAAAAAAAAAABAsFCkoliWAAsABYoIAAAAAAEoUAAABLLAEAcMO8AUsRU5LN9OPorUZrz6zq3nqdKVRQAnOnSzxOrzPJq85G6wAAJynW8D2AAAB59cR2nAd7xDTzy9Bo8+gAQsBcNgAAz9lsKCWKSiwIUSyqlgCFLAgAAAKAAAAAEASeh+R9fZyl791sAKJSmegCBTDHoup69SxLEXk68NM7h11jHWTDXSOO9VPPuJagsEnH2c1aaY413ODrjSyxAeJl4rTD3dNeTf1Dox3j5++ivndnnYm/j3lALOQ124venVeHaOicHUc/TxK+lPndEdKsgt8+uLpTQKBF506GNNZfB6WAACefBsAQoUIGdmnj3zHS5tj28+lCAAAAAoECVYLABAAoDP1aYbygKACAAPPqknqHm2gBKJR59AlEoJRCkAKTk7Bnn0DP16hl69jLzvTz59iwLz7+Tk8d109DNAnH252ZZdsMMuzOvGmmcaFiA5rr7rg30tacXZlF0I8ery16y7Ax3RxdOisdvHqKJZZ5Pm+fj+pr9ZebpuQoAAIABDPxW7Ons8HsABzdIAACggAAAAAoAAAABAFgAoACFAIAUAAhQAAAAAoECAAAAAoAAAARAcWX0qefRQAAQoAJRx73LUwntt28Hf5w9KiYdA+R9TDp0wt8R0L5j1KJQlAACKIoAAAAAAShKAAAAAAIoigAAAAAgoAVKJYKCBAUEBQAAAAiCj4XHL+qZaooBQAAAE8+yec9gAABKACehFEAAAAWAAAAACyiURYAAAAAAAAAAAAoJKCUssFAlEqC56Es8p7CgIAzTQKAAEQV+e5f1ecuPWIFVBXnmTrYbgAKeM03ePYKRYFgURQQWKJeY6FEAAAAAAIegAAARRFEAMTZjsAAAEFAQUAzNJcDdzeq2Z4nW5/RtPOMdDn2MeniadnP68R1SyVlry2dONyrrw08xlr78nv1n7loIIlAy5ztCLLaAz08Ge+XtPSUZa+SY9XPWPb876NVz75UACUc+3Bpp2Z3GOi/O7zlac9fRJkWAHJPXnTs5ffOd7PXKKJxd3z6+h5x5jvy05zTLVXjy7Tj9zydOO3PHUIz4voZVj04St9OLqj1SJQ+T273Tj32Rw++sJUT5X1vFecuj0c/npplj1Dn8dY8eNkc/nqV4e0Y3UAqUSgAAABBAH5rm+58+X6ndjtYstAAgApFDPQTLYY+tAABFHnz7Hnn6x4mg8YdXmqqIAUwuw8+dB59AAy1GWoAAASglAAAAAAAAAKCACFAIUKggAKACAoAAAAARAUCFiygACygAAAAAAAAAAAAAAAAAAAAAAAAAAAAAAAAAAAAAAAAhQoCUQBYARQAAAAESynx+blzX9Z65OtKlsCApZQAAAAAAAAAAAAAAAAAAAAAAAAAAAAAAAAAAAAAAAAAFAAShKIsAAQJQoAIllMMuwRZSygSAFAUAAAAAAAWAAAAAAAAAAAAAAAAAAAAAAAAAAAAAAAFCwIAACgQAAAQFABEAn5jE/XMtRZaGaaMNyufoAB4PHvLavQgAfPr6Dyj0AAAAAAAAAAAAAAAAAAAAAAUiwFIAAAAAAAAAFBAAUBKIAAAAECWUPznP8Aq4Y7VQCWJz9OWlYa8mtb3k648z530azbSODq8a6eenxpk4O3mOvz6zjSURRACkAAAAAAAAAAAAKARRFAEUAAAARRKEURRFgAAAUJYAAoAEKQAqQAASyyh86H0hQI8+h59hnfYlC+aAAFgAoAAEsLAFIsAAAAAAAAFlCUAAAAAAASiKAABCoKQAWAAAAAsUAUgAAAEoBIJZLT8b6+7mvd0+fVgIEBSygCXjOx4holAABSMOgi8p1QBSWCwADh1rpWQAAAAAsoA8+uI7QAAAAAAAAeby9B7AY7EUJYAAAFgAAACgAAAgKCQRKKAFAjm6eauqVD530eevXtBx9PqvHno8Rls9njTDaKBZDm35dNNMYMu73lGd0wrrGQA8HLM2305zYZfQEACnFtjNNvPrMer7jzn1c9a8/TI1EATxz5V9DDxuYew9Z+sa6Z58RvlyddbXkxN+viHcw4437MtYBUcqdTPybZc3TV084nQ5tDUS83Rz+NTsXzm08nowTcxNgAS83SAQSvPrI+Dr83Rf1dz92UIlFAAAAAAAABPQSggWAAAsGHQGbSEtgABUFCkqASgABnfYePYAAZ6Dy9BnoPHsPL0AAJQ4+jRXPt6R4y6B4z3h59ynNj0zTTi+hlDDr8jy1HzvoDPm7RhOmGWpKAEQGHnoVZSAAFGNy9adBMqAAAwzrreUeseTXTsvn1kABAXz65DqUSsjUhUpjrw95AADyemWxAVKADA3efQAAMTZj5OhydYWShYAAAShKAAHn0JQA8e4VKASgCwAIAARLLIZefy/pf17m6WQAq5ajidOmnPN5GW3uAQBz6awx9ajjdaqIAAcfZkeWsrj78dT5m3by1ejjh0VIx7c9AIAfP7uCuzLm2r3p55Dr6PnfRgIx4vofN06evgh9FlrkA4O/lrT1h5Hd8v6ZSZoWMteCu3zydJl1/N669ZvMTs49TcQl5Tf3lzV3CHn1yHXPnedPp1MrKJZQFgAQACCIW34WH6RGWlVKSABVAAAAAsFigAAAAACUObp8noDPQWABFDLUefGoz0Dk6/HsA8vQWCwAAKg8+gLAAAAAAABKJy9YAc3T5OfDu5NO559ZAAoECAAAEKIV8KR955tLKgAFAAAAAsFQUAAAAAAAAAAAAAAAAAAAAAAAAFRKFgAAAAAKCAAAAJQACpYAAgAEErzbX5F+mxl06bLkB5z8VrrzdIssHz+yvd5OyIAAch1vHPXY4tTo88nVFs8mgAAJeHWukQAAAA8+uA78dvm12befUcfZxdVYdRAAAHD3/ADvo1BADz6+afSZ6AqxZAWAApKh4yOhlqAAAAAAAIFgApRAAQQFEFlSSgz0Vn69CoM9Mta4+7k6yCAHP0jkw+hhpl149McrXQ+fp25GogB59Q+bt7m2/vk8R3s9MgAMub1507Pm7Zm+fvoMunz6y+fp02uZp4rk+kR7EAfK+r8v6mnz+v53Ye+bqxOnl6+WN+bTCu/Pm6I6CSuDv5bPGs0ri+lwd8fM+jlucfTPZx9vD1GggAAAAACAKIAAACBUsT8x595zX6bXHa5CAAoCglAAUihKPHsAAAAAPPoAAAAAJ6gUlSiKSCgAAOPtz9nn0CwVKs8aACBEoABSyQKAAAAAAAAABYAEAAggWvM9IAAHPXQ5ekoKA8ZV0M/cVRKAAAAAAAAAAAAAACyygQWAAAAAAALKoAQAlEKRYABYAAAAIVKRYLKAAoEWAAIBLPMcfn8/6a/XMN7kIZa+ay35Oqq8+ovj2PGPThW3J3fOr6DGZboKAAQyz+b9bbZz74VhuHjweOnj7KCEvkx6OPsow1j0xxOxjnXVeTeNEShYURzU6HDa7RAAEvJuaXh7gFCAHnKWdDj6ywXPTk60AJynW8c51uXqDj2rac2xoyzjpeYZdHNtXrHbnOmVEryXzMa6XhHsKBEsny8ftFlAEAsKAWUZa0YbDFsrHT0igASj5nf7tcXTp5MObsVfO8ji7stQIY7D4X2PXuuLXphlyfRHF2JHJz/Q1rP3UBKFcLoWXj7MjqlkAJR8zsvquT6HJ7M+zj3NRKlR83XT3uafM+lIcHfDDrsgDGb2ubz0+jm6COTTdWPnanB07Dny7vJya9A49tg8e0cW2nuuf1sOb1v5J68+oCXzYSvzxf0Lz6AQAAKoAAABRKAAAAAAAAAAAAFllIKAAAKSoSiCwColoAQFCgAgCUIALAlCgQAAAAAAgoAIAJfHn3bPyF/T5TWnQMgABRIewACFAsFgVBUFQVBUFQVBUFQVKAAAAAAqwVEVBYWABKKAQJQoAAACCBQAKCAAAAAAARRKhZYABLBYcPqXsFAgAhlrxdGmXZ55TsZYR2c0tdOG/yY7enDCu28kjsx85k7eDvMtZYAAAAAAAFAgAAKJQIBQoIAAABFgqVYpAUBKIoiywAAAAAAAAAAlAUBACPPn1a/G+/qZy/Y38+kCwBZTm29jx51E8aDP16hcdhm0HHvqHP0DLUMtQAAAAAAAUlBAAoAJQAAsACUAloIAAqCpQAgsAKBAAAAAAAAAIBZRLAADyJQQFqWgQBYKgsACgAAAAAAAAAAAAoUQqEsCiUhKFABAAUAAAKHg9iAAAoAeE9pQAAA4/VdTzzR1hQQw3DPQllIogAAXyeI+dPhar+tc3Siy0AMU2ZagF5/PuvfvxkdByR2MNT0goMM406NPn/QgSKy8m4ADk3NHkenj2WCghw9FbOX0dAgwwruvPmdjnkdLm6CpQZLrydPLZ2OPSXocVs7HzvZ3cPRwH1WG0tEYY3TU6HF2wCuLo4rOnp+drXY+b1xuIA5fU1rzz6K6hmgnz+3PfTi7PHmPWmHo0ssJYAAvkR8vP7ABFltAZ6QURKOTb37rm01Q5emmGnuCygHnn6sa4+v3K5XVrHnj7h49kAcDv81wa9kPHvPWAAObTUcXRqqyo5dNRw3borl01Ryb6hKWcHfUz5+wcXRqJy9UM8+oeeD6OVc/ZZKBw9OpM9YWoLjsQQ9QBCkKlEpQQCUUEAASlgQJfID4fKfpmOwstAAgAAAQrCt4pLnoAAADE1oEoOE7nPuUAAAAhbhsULLBQQ5jqeYe0pLKCBl4OhzdJRCcnZZBLUUAAAsogVx9aXHbjrrefUY7cfZVRFYanpny1vtzU6Zzw6b59QCiAASeQv5XH9XgTtLFlUAEAA5LerTDfL1F5+TvrLfDqjk9e5XQ8e8gAPPH1clazH3Xrr5pHvn7uU05ujkrr947RsIA883vxW/vi8nvo4eytfHMjq0+f9ElJXz/ofIs69scq+g5PMdpc2UOf1jdR0cvg78nGe+/LWIsVx7Z2e8Pfsx08618j7fzfqnD73zEukY49eddHB2e44teqHB9CIFXxzdZPHjeGbQefGoz90AoAJBLAHnM2WIstoAIABUQsVUFEHn1QAADz6AEUebQsKCAoAJeboDHYVBUFCvHsBAAAHnDp82edACUAKlgsAAAACpQBAAAAqUgAQAAACCIF/Mcv1Pnr9/u5epAqgEKJAAo8ei53Guj158RNuf3WXVw9pRAAGG/J5rtEAPPrhO3zx9Z514tq6BAABRAAAtRFSghUoAAAAABFlAAAAgKABYAAAAAIAAAlEoQSwAIFLKohUJQAAcvjp9aZY9yOb3sOfb0jn09ipQCA5PPcolgBzdIw09jnz67Xn1lrAAolgAAAAAsKBSBQlgUAQAAAAIACgAgAKAACAAAAASykEsFcPJ8v1L+qvF2srFtgLCUAAAACwVKJYALKQFQAUBKAAAEoCggACwAACrFgAsRZZVSwlliyiUsAACAAoAIAAACgAAgAAEoQSwHz+P7gz0ECrKUAEAAAAAAAAAAFJYKgoAEsFAAAAAAAAFACLClgsogQACwUAEAAASwqUABQAQFAABAACUglgD4OB+lePdgCwtACAEqggBhuS8nSern5NmcPXrm1NGeoAAAIUAAAAAAAAKACCrLBUoAEABUsJYAqxYAAgAAAAAAAAAAKCAShBEC/ktP0eBp0lAFAhQgHDv59ac299nJ9HLWODv5ek5nv2eLj2GCQx9aWseb6Pku3jxluQqAAUAAAAAABQAQAAJVKABAURLFIolBKIAAAAAAAAAAAAFBAAAjyFPHg2FiyrAUAIBnoACwAAAAVBUAAAACwWWFAAAACggAAAKoAABAWAJQAAAAIoIAAAAAAKQAAAAABEsVX5Lf35l+/r492LKAAAgAAAAAAAAAAAAAAAFgUhUoAAAAAsFEoAWAAAAAAAACAABYAAoIAAAAAAAABBKFJQAACAADE2yY1trj7PeO0iuPrKAADx74uwoOfo4uitRADz6yLpnoCkoHinoABw9wAAY7ghQAAADiOyuM7ELUqEFShABZYAePfL0V6ePMapQAA5+gBQQAAAACCUZ1yevzX0pf0Dx7QLAAKIefUq83RhXnx0K0w6PGXF9Dn6KCAIo42jTxp70j516LWPVh1R8r6HjU4+jPpPQgBydeR8/Xtw06fHiQk9nL9D5PdXN38nVHJ3c3SZ+M4bZaea9dPD3QlRKheXq5K05PWldOGkj5X2eXrrl159C+t+OOxZAAHy+zDs0x91HH0e7WbWxk0hqlgDh7OPv04e3i7YCAAAAAIJUqvie/sIACwIClICkoAAOfoAAAJQAlAAAAAABjtSefYkolCpQCcvWPPoObpQAAWDx7CpQAguO0ACwAoIsBSLAAADPWAAAAAAACCJS0/Peo++8+qBAAKiFimWvLXR74+k9vFjl7OX3W6WDz4NWegAAAAAAMzRKAGegsAAFShAsoQVBYA5jpZ6CwWAAAAAAAAnrhruY6xYKCAAAAAAAAAAQQlW/kt/wBDlGupQAIAAWDk68Kw7ZTi7w5c5tVz28Hrl7vUcPfzdIEAAcu/v5ldfJ9Hmr1684HY9ZRz+21Y+rucnbz9MQQBy9XJ2VMuf0dLjHRtw4V9VyyOt8z6ccXbyea7eHbmrvz8eI7HJ7N78X7QEAPHvkNbztPPfy5nd59fMj6bz8w+pwduNe+Dv5i9fn1Hjbn6IA8cm/jS1qe/HvPLm7cN6CAAAAIIItM/B0IKAAEAsWHj2oADn6M9AADLUAAAGegWB59ACwAAAAM/dGPv2PPuU49fPRWN1R8/6IcnrX3XDp00zmqOPp9jk6wAAY7DLLq5q6uTrkTPUMtRlpRUAFgAAAAAAAABEWAEl82/lPrceq/b9+fTKwtAACAVBWOpURXm1WOh6SgB8z6YAAAAAAAOQ6wAAAAHnM2AAAAAAAABLx6HQB59AAAAAAAAnk9gAEKlEsAFgsAAJYAAAKWUSwoAAOHpw21Jv49x8j6vJ21yaZ9Zw+tRzd+esc2XRqPWekGWoAAA5+j59dtz+afY5N8TqEAAScudfQc/k3w9ejYQABJkNfXBrU04tK+hnp8ePreuLtD432j53T4tc3dy859LTi7YCAMOfbxp66uDtj0IAAnNtjW/vlHUwzOsQBAAAAAoRAcXn892n6NlqBQRYUsoABnoAHL183RYEoIEWFLAsFQVBUo8+h58ajzntCgAA+Z249mnN560c271AAAGeW3quXp9I85bhnoOfoDGbjx6oih49gABz9EOD33K+d1bwlIAnn2AHN081dIlgSwAAgLQAiA+Tj9wSgABUFAFAAAePYgKACAAAAAHP0ACwVPJ7QVKAcfZxdtBAAAAAAAAAAAAAAAAAAAAAAEy2AACWAAAKAEQhX5bsPuvHtAAUCgAErl6+XazQSgEqOTr4a6deLtgAAIACuHu4+qvQgB8/v4K6d/OUbgWDHeCmRqgqUIKlAAB5PRxnYAAAcZ2AAHAd6YHQAAAAAAAAACACUCWWgiZaj8d1foYaewBAUAACpa5r7ys6hKABjl1c9nnr4rWvvD3HQ8+oAAiw4e/5f065PLWuP6vL0R871v6rPj+ryHnbqkUSgjg7+eugQABxMtdOnm9Q6rhzx9HnZm+Hn1W23F0RqlgCcPTlWknmusZObp5q6eTXA7Xn1AAAAAAAAARBQSgSiAvmyhjDcAAAAUEVFVKSgACM9CgAAAAAnJ183TQQAAAAABnfYAAA4+zHaghKHn0ALAAAZaioKlHn0POewlAAAACWUhSKiKJSoAFAJZAXz49w/HfRx1X7/tUABAtAAAqAJKiqAAFAAAISgACAoAAAAAAAAAAAAAAAAAAACoKgqUELFCUAAAASwsAAFCJZUBfIALLCgABAUKACFiqlCAJKAirAohAqAKogAKAAAAAAAAAAAAAAABQQAFAAAABAAAAALABQQFCAQF8mB8zo/P9S/qZ49ooAAAgAAKFAAiwWAEAAAAALBUtAoIAAAAASgAEAsoAACiJQoAAAIAAAAAAAAACgBIAItSgHkHytfoCwKlCUAAAAAACgAQIACggAKCAAqpVELBAFgsACoKlECgIWgAABAUEABQQAAAAAAACwUAEJYASxQKDyeD2/O9B9oCgAAAAAAACAABQAAAAAQAAFAVEBQQFBAAACwUAAAAAAAAUAAEBQAAAAAAQgLBULYAFB55ukfjt/ve16LYlAAAIVBQAAAAgAUCggAAAQAAFAABAAAAAAACwWFWAABYQBYUsFRFQVBYCwABQAAAAKAEAAAQAh6gUAAEAAKCFSgAAICggAAAAAAUAEABSUBBKAAAAAAABQAQAFABAUAAAAAAAAAChAAAAE8e8z8vplF/VaZ6JQAARRAKAEoAAAAAAgAWhIAAFAoSBQAAQAAQUAUEAABQAAAAAQFBAUAAAAAAAChAAAAHmwR6FgWUAAAJRCiUSgAAAAAAAACAAoUCABAAUEBRKJYFEssAABQAAAAAAQAFBAAKAFAAABAAICkoB4sxPPj83V/YOfoQACpQAAAlAAAAAAABCgBAAAoICgAAUAECEolgoAAAAAoIAAAABQIolAAAAAAAAAAEJVA8efQ/O+/vUUKgqUAAAAAqCwFgqCgAAAISgEKgqFqCiwhahKgolJQhKgBVgqCoKgqCoKQqCoKhKgqFqCoKgqCpQgoAAAAACBZQDwQX5Oh9MACwVBUFAAAAAsFQUACUASiAsAKkFqkACJUqgJYAAAAAAAAAAAAAAAgKBUFQAFACKAAAAAJRKAHjm6Yfj/X0t5fqeywAAAAAACoKgqUAAAAAWCoAAAKgqAAAAAAAAAAAAAAAAAAAAACoKCLCoLAAqCgAEKAAlAPCwWUAAAAAAAAAAAAAAArzSoKgqCgAAAAAAAAAAAAAAAAAAAAAAAAAqAsAAACglAAAAAAP/xAAC/9oADAMBAAIAAwAAACGr7r7777oIIIIIIIJLa5IJaoI5LoLoppIIIIILKJLLLLLb777oab777764YICgx6JL74IIJIL6444ILa4oZ6KZ7qIIII764464oIIYIIIIILb7KJ77777777xpKIIIYY464XbrOLrLL64JLLLIIIIIIb777777646444IIILIIIJLb77rz7r4bt776ukensvz+0rKIIIIIIK457445777777777zz7774IIAIIIIIJLLzjIb7Lj774EKlLeBVEOIMIIo4IYYLb77rbbrLLLJDHDTrb7757CAAIY444IIAIJL4J7br777K7j3/oAY85/wCue+O1Z++uCAIAAABAAEEQwEIA7wAAAS+624jMCCMOyn2iiyp+3C/rfDbw+9ynNEo8HtECAXLHARFlh5pFnNHR43IDb7NHrPQjRxmxCeqGOCNCDkffJjPP88P9999N88AAAVtBgABRBRBBzRxRtNssAQ0MkfccAACO+h+//C+//wCPPMQMffffffcdfPNYABOCQQR0aSQRRQARSVdfPQQBNwEMJzggvvkkpwlukgtIRPE9LRQEH9+M4A2U7gQXTRSoPhzXVJwU19PTSdNZf6+/Cz+gvni0omsgggo4fPLf3cAAEIUYQUc7/wB13211tNHmXFHE1EDOX1132N/7zzzwoL75gpbqIIJIBTzzCWAAEEEEEWnEX33333GEEE20AhV3233T33321337zyAACoJ4oJy48EJTdzhTves8EHE8MEEEEO/O/wBpFdv999s9Zg9xoU9w99998s8IAACCCXSeygEOaDhvRu41nMMdnc9p9K4Spo+r9rksN2TzALAA3HR199z158+pzPICWOOe89+ue/8A7dS1fPPffadeQSQQUYUefeY0x/y/3T6AAEe3OcfU1Cfbe43RwpholPPPvv8Afnn33XX3z333333kEEEEH3X2EEUEX0FGUEEEEEAD33333zzzzQJbqBzz6IJL4RlGOTPVGGU0nX0E2000lFEEEEEEHHEEEEEE0EBCwD3z3zzzzz5TjaIAAASh3/33032HH3333X33332lHW00EEEEEEEEkwGFCwBCSikABznzzz5wD7ww8PXw8XnXXHE1lfH3333330EEEHHH3nG000dGEkVcHkEv8zdTmEU+oD6Jb+gBQN2ueQMEFFzV8aXV04RnGdIlRjAMGhQqGEgFdFclm01+1PMBBAAAAD44eagA13nFUtMEHF9PPHH3lOOEFPEEFHlU0EU0n2lEAEEUEUB33zy0AAAABAJZI2n32kEFEEUkV00EEEEEEEEEEEEHX333001213EEGEEEEEUABDzQjAAAAAIpjYn/AJpBBRV99999JBBBBBBBBBBBF9999t999l9dthNBRJNJAAAQQ0gBCAACqyUo/wD8wQQfffffdfSQQQQQQQQQQVffffffffebffffVfffQKSRYAPKAAgAAvl8qEfywRdLXeffffffcQQQTTfXfffffffffedefffffffffaDRQIEPPPDHTok8AGdamaPoMSo0cfeffTTfffTffffeQccQcQQQQcYccdfbfcVSQDCOPOfffqhgAXYY3RffbfQQQVXedfTffffffaSQQQQQQQUcQQRTRfbffffdPOPAAAEAfquKAe/aQU/9ffecc3ebXeUdfffffaQQ0YQQQQQQQVxQcVffddffffPKAASAf4ggBeWVhSBo3/bQkvkPffYHvfeeBPiJrfbmVhCuLEH6wH/8XdfLMOM7QSSwfljLBTQUdffffffYUXXffbQx1ffTQCQdfcY0UbTffWcQQYQY89ybEnwXX9TjAgnEVfcaOdffePdKQQfQ8ZRSe/fec/SQfTXQTd99vcTRRQQQSUQVSQYQPPeQTroC0/QbBtffR4/SQQR0RcmMgQQW6qKQaIJQeWixvbTsGpgV7QQ1pUaQPHaQf+M0J/8A0F33321kEEEEEFEPGU0HEHGGtG2003033W33FX1EFH8Hc4EEAD320EwQsSlH0EH33200EEEEEEFU330kEEEEUFHX33X3073200lHQEEEGHEEBTz3kH5gRX3mGkXP33+U0/skFED1333283W10EFGv32P3jb33wk8EEEEEEEF13zDgD4CxOMEE22v33Oh+r6kFGwj331YZhcKn8EFV4j8DsT2BvYGoEEEEEEH3H330XxU2kMMH2HX3nEEEEEEEF3mFX322JLP3212/W0jAD233zf3WUEUEEEEEDz30X9G+sMM9UFX3GEEEEUEEH30l3332oL30H331X2gAIJLrb71mEEEU3WkEADTzUEcmlfkVUHOUsUEEXAsMt3mHX/f2c73HeH321ssAIJs1xf28MsVV88O1GWXfwB985/8lWks/wBPBBRRdMxVBF+Fh7r5CAf3V9NPjvAS5bL3dpB/Zdv73NBHRVfCz/qzjDdB9995RBBBBBxxhRx99qOCCCASSt9OCDCAACCi+9+8NVBBBBBdBB9ChkDHPB3V999tdNNNNNNNNNJRxxxxwsOOd9+6C/CCCCCf9989tRxxBBBxlV9CV6419pGQ6kq0vv3999999995DDDBJTqACCS2/vKzCCSy19pBBBBBBBBJAAcCoEKV9pvLTnhjnP8AffffffffYgwwQQgggQZiiEpvjigjnuMQQQQQQQQQfaVfQdu/iEcbTXfQQQUcdfffffffQBDXQjwggwwggggENttvPJWQQRRTwISwacffQEnQqAARfT1eyzRTosb0cc9dXPdfffYQzSQJTgSRxAvywEzD5VevmKXYy6VfTBml6ABMbaYzx6QRcG8YQd5Z9bR7UX6/40O10381RvBxDEZURRSYIQcEUQUPcln/AKgAH333+FmFGEGWFkdkEUn100CwDwgigSbQJn4xwgChw9HEU00eZekATwMYt2gAHX2EHSf3G0mM7ccYc01O9FtmBFXPKI/uOPSfMTYTe3Oe/h8e9/8A84x+e63oABBVPtNDJBBBJR99s988dd/NNAAyyCCjZyCAsc8848IAc888I89RxhB/S928AEH/APVcb5RQQQXUcZz19ffcfffDihikggsogtPPPNfPPHPPPPPfQQUYfhg6aBDUedTQwY3yQfeSQRbyZccVfffffbPBMFMAPPPBMfeMMffPPPffQQQafkFm5HLUcbffbSVfafTfQSQQcTfKVXZfVSNPLlClaULAAfSAAQXffPPLQQQYcgkp3UAAQQRfffffffebTQQVYTfbQVbfXMPnLEPffXPAUdQVSQcMNfPPAeQSfgl/fbAASSAffe5Ry8QQQRQUYUYQTUfPPeLCAAggLXeNDAQQQQQQcUaSQAQYfwpyPMBARXLi6T80/EkxTfeQQQQQRaNPfffoAAQBWcYUfbSQQQQQQQQeQASQQwjiaPAAQffbXfffTTffffbVQQQQQAdfffIAAAgQUQQQQRPaRSQQQSfbQQQQToBvKAAAQQQdffffffffffffXRSQQfffbQggQQQQQQQQRffdffPfffffffaQfgEAADTfb68bc/ffV/Rffa3eYTRTT/feRQQQQR5zCTSTfVecS2cYXfPfffaQfkIohffQ1TTW4QQcYJijfzzTT6hngk2zgYUZQfcbYKtffekxQ+7WaUvfffaQfkEglf8A2MEEEE8E0F333333332kF00kGOEf3230kE0X3X0HXnX3303333X2kH+BeAH30+3mM1NH9n333nH3nH3W330k2k013v2133333333U1z31HWkEVHWEH9DeAT333X8XEpCu/n33L1AE4Fn31Et/mnfvGXHX32sRD0+379/3jg92FGEEH8zwxDT31sEEFvH12F322331333332+mXcO19+//wB99tXNtvN9d999pBBBBD3/ALAGbAMMeTTTxQeef/efffbff/fffffXfffffdffe/ffffffffffaRSVfbXffqggvKFAAJECdSMO8y/fffeRt/ffRdRffeb7kl1eTNlffclvffWpwwQffffQAgp9vPnKAAMALUMd3bTTTWYU0/aYTbX/AHH0Wd//AH/dtN99vzXd9hx1o9d9/oACCiq++OCAAAAxAAF9915hV1tNNJB5xxxhBBBBV159x15x1995hBBzhBV99oACGPL3++CCEtAAJBjBxjDBjFJf75tNDNJNJBBBD999DBBDf9xBBBBBBBB9+qoCCPi/++++IXAAAL0HJBB1ewn+2r89px1BGoL/AHCSQemAQchQQQQQQQQQ/fqowqhgsnvvPjCIAAcEMKAAAQUUfUdYVT7QQfQYccXfffTSUc8QQQQaec84ffKCwqokgl/PPPDPzQQQAAADQQQwQQSUcUYQQQQUQQQQUdedTTSRWSQQQQVXffKq/tvlggg1vNPrCDPwzXQ3z/QwwQUYQQQQQQQQQQQQSAQRPPPPPfffffXfPcKg/gtnogggww3vPPbXf/8A/wD/AP7yQAQYQQQSQQfaQQQBQAAPDSUQUcdffffPAwxisgjniigggggttHPf/wD1/wD9/wD/AEgR321300l0EwAAAEAEHCGEUH0EHX1zyEsNb4Ib+aIIIIIIJIf/ADtd9551/wD/AP30/wB/9/8A/wD+8MMMMMMMMEEEMEEEEFGEN+8574IZRYIIIY4IIIIMNHDHEEEPPMHHEPP/ADzzz/vdd99f/dtPPPfv/wDfffffPPutvFtngggvvuhigggwgwwwwywwQQ4wUQywwww9/wD/AN9//wDff/bTecQXfffbMnogvRofgggsvogogggggg06Aww0cA0QYQwwzwwV/wD/AN995xxzxDBBBBxd998yiCCwmSeSCCCS6SiCCCCCCCCDDCABBDDBDBJVxrDXxxBBBhBDDBDDCykc88iSTCK9uo6++KCCCKCCCCCCKGCDDDBDBBBAgBDTvDDDDDBDDDDDCCyiCCSyyCKCCDK9QN+OKyS+++OeuOCCCCPDHPOOBMNNCKPP+uOOOOOGOOPPOOOOOKOCCCCCCOq9E1U8uOOCSyy2uOCCSCjC+78iCHKCW+2++++++++++++/++OO+yCaCCCCCSi9Iv8APPPMMMsjjissstvrjvvvjjvvvvvgkvvvvvvuvvvvvvvjgtjnvjgghggivNCfffPCAAAAAUMMMMCAhnsssvussuokggvvvutuvuvvtPPvjtvvvsiiggjnsP/EAAL/2gAMAwEAAgADAAAAEFcdNDAHeXAAHPKBOUdQWQVafdJOHIEOFDDLLDMIEMMMMtvLGNLbnvigtrxgg+ZJokrPAPhLPBEMMvitv++ZbDLCIjjnsgkssktrjuviiggjsjgonvqji9/rz2oQjignsMkl1PMYOhjlrsokvtjvPPvughjvnjqkskssvvuosjigk9vvuvPuvWMYgggt5c9fZ9/clrjnjnvvksogssogjjrvvvhjDAgggshvOljnjikovSMhvUEiFDlzN3rQiwYVq1vtsvquvjjrmtpmsssskMeNKtjriojHNHusssnryAvkvVttOvqhhhiPf+hOs8owkogsr5UtrglNLPPNfKBBkPABCKTPPPLsmvmNfCgpD9iVYosnTlZcbRL6dnrc8q8EKUOo6gEOtcJ+pgqlewNThjydIA5PtLBEVDeGMwighjgsQkR1z3v8cdPGY8wRf/PEAAB305DP/fcfyZbyU70UEjHGJpLWAPAQjchNu13lv+8NPMUBQUfaQQSU/PN4BOBN/ecYWeTdYXOZR0RyAadMjwEsF7jgvQp0pxqukgq1GAOu0jQEHKsy5DXjM9vgMfZZTScZr7IRMh18bqSqBz7fCSVFvYhcposjihjXwBMwF8BDELXXfbzMMM03WYVftzmXYQ7YcoT7awwX40sMMINjvfrZjuovvrvKAFMKfPPffffeVTeQYTbQfXaQTbcONXfbddPffaUYQQgAHPOKgYtftLmVglJ5OKBh3xdfSTfccUcfjhAq1RWZffc7PWYPcaFPcPQQQQEBNNPFjcjFtsoAHqvALwWa2ODjAcJdofV+BlNbgPamb3h2M1BwANR1ddfXHfcMkx+/PassonJfrnr/APklUvDgHHGveqEnONGFHn3nCbSyo104kRgh6E7H2imoP66+Ps993KhDD64+Avk0Uu2kx3Xn3nHkEE0EH3X2X3UEXFW00EFHEEAD3301UwAAAj+9uyQw6IZo+yb2HdTF2WkEWnE3FnH2110kFEUEmHHEGkEE0GhCwD3x3gDyhQPzYKIATzhSPAUE331HEkEEUX0XmV2lHVnH0312kEm2XAmFCwBCSqsABgswhQPX47wyP0kDn/nXXHE1lDGkGHnF11EEEH2E189EEH2tvXtgnEk/+0pSzTcYQD+IpOgRpK0xj1YEFGtqxK0Wek/rPLe6GmfQl/WGG8H4hEBYx142ak8wwwgAgD9btqByE0lGsQ40nE0IDTG0tKzMFEvH00WmF3n30FWHQEEcMUBn0wxHzDxzww76Z30GGkHW33nXmWE1X30EG32F3330kEHGHHGFGG330nU1UGUARjzTzxzyhDKr2Z0MWkV22kU1GEHV3HU13n33333kEEEFEEEFkGFF3H22UHXTQxBCBz36gQKrLTwMfMF30HGEEWU3X32l2333332kEEUEEFGEVkE10Gkk10B2XlwjhTz7xzL6Wby/UFEL1GEhb333003333HEGEEFHV30EU3nVlnW0k1HWkHzHnxhAgQzCXKaDRSNxwb4VjgthHH3n0HHEEEHEEUEHkHXEXkkEE2GHHHV303FXXyDShzn30LIsDWGFxNk1231EEFV3nUHEkEE00kEkU001X33HFHkV2X2nXHX3TzizwBRgE6ruhUe2n34hvH3n6B/m1n0jX32lGGnWq133kkUX2m5ErFXnn3VnGFCxTT3Qn+IIBEZH15rdzb210TE730uZlH3k8WPXlEFM6VHdV1NSIR3bJyQTHbqH/XdbX5ZExG+EUmFX1330GF13320CTR003B32kE0w+1G8sf9+0nHDVHavGmjg6AbjALKxEnnEg8FXnGrmOEH0bGMV3b339j0nUfmH3MbXYE3HnEUFEVEFUkWEDBGX066sOdUK08R31pK4EEFZI6WteQEFYm84U+dL0avoYEA2Et+0irFpWVGkCy1XX/yzDNf1WEF321kEEE0kFHQ2tH3nZ6Mw3clHVFU0VlG0tG133IFUu0EAAEFH0xTYzGHFX3H3200U1nEX30nEEHX331Hn20lFUklE72lHHW1j20X11kGBTz2134jK13zwXK5X37LYLQU238HW00lbb/CL320DXn/AF425pAlo/8AbTTcQTXXdMJPPkHO4wrnTOHfZn8sX9fY7EawUTQ31HaBPfXVZWh0BOIUlVtfffdTQQfcecQefDEZQ16Vce/ecYW1fbXfYVXaRfbYkswQXYcubWMAPfdZB8SWfeeYQQQYPDaef2D/AMcUykGFLGFH3Hl330EHWE13moL030GEGnGgAIJLrb4GV2FEUnWUEADSgkGtrWtdSEeCQYsEEEyADEwV6BjLS873EJYHHFukAIIMdh9FmZwRQ4jCpGfKVQwpTqNNGmmH0z4GVmICmQj3o9wi4Y8IBL4FGHbrihIiiT22yDFTIgCCq8I5JX+5Ho9++0UH3XlEX33302120132o4IIIBJJk04IMIBGIKKpE5zGn333200EH37GqfvP1U0nH310kEU000E0XmEkH2XyA4pGGZoLcIIIIJPUEAFW003303GVX38UoQkVtWEUuNtAxj7HW0kG33kMPME29fz76IpOMrMIJKKUlX32H3333EkgBz7BsqFGkoSzRIWpQKUEHWkV32IM8EF777nVqYi5pI4oI57S333G0E20UH2lX31qdJCE2GF30EH201mEHEEEU0AQ12J/788/777LCgpvrDh23n13bDx0QKnH33yKL4gDP8kBz4gXHlEFe0k0p1iHDjnyg+/3xm4wNfwJALy6/JGnZExUx5QVX3DocugBY1V4IySl1xn6zMUy7olktVG/x5NCPO99tpQysIBf00UVGx32yGW1DU6LCqgAkEEFeZmI03X+01SvFHUGW8CSzrRiwSxbJP4iCDCiwU0/IUMDNjvCTTO4mEgQEkESzPygJEWIl4bHzHFno76mQ8IFq4mLhuQh43FmCIICvj/esOHDw36I4OAAH2k+G0ME3H3UXGODGQy09021BAY675kU7oAxjQwRQgBgRzwiym00kHO7YJQDTvMGojyS4GGVaU0/4TnX2H33w4oZq7b45KLSwAAlTzxzzyjjGH33mH7r9WgQ20UkgiDsokEUY33tCrs1kU1GE3WDQTRjBCzgDgUEQA2UjQCHGH32mnKzaexy2U1FH20lW2n030Fn201lT2mEnnXhDiLQoEEBDzEGRAHWEFDShX32mE7Z/v1ADX33nHX2FX0Hm00H3WXFHHGlEFRz4ixD31EAxmEn3Vn0wwlAjD0XkkN6YFWwD3Hj0loKYArIEEEVG121n3G3TzmCQgAY4i13iTj0EGFHnEG1XVz2mU8a1RzARHEtnwbzzbnfwU33kFH0l3lQgEnH6ABGAVnGHG1mUEEEEX3X0Xx3EUN4rUjwA30NGW33HU03333mVVHHX3z0kHHyAAA4EFU1E0ESlUmV003E1H321U4BPSgQz3330kEHXnUEEHE1310UkFUEEG3brEHGEHXkEEXnUEHyUk121000kH5RCAzHU1wbJoA0kF4FwE1BrmUonHRX3UVEEEEGkwk3k33X2nGU1m/y3HnUlH4TQbkEEMV55oq0UH0Vkaap3mQ+kv35SvzpGUErrAcXX21VDx4pnWwM03X1UU5Bdqkf2MFHH3D3G2G120kX202tP+8n3iNX3329kG1fHX0HXmUEEE8HEFlFUUOAJD3HE+2hD6602eEE1Uk0IMHa330m2k01XzO13X33G132Udw0m0lV3m0l0H9iODgEX3WhYjcubpWEGXYMrXhD33j57D5NQxpL733bXPkCxeZQ123QJ2V31H8zwyQgH1tMF040HM2EF+12133333+ztosLKQ35z3185S78x3113GFHEEEGPcMRG2RAB3UU8+Zo0UYEEEEFFHL3nHHGf332nEElHFYl333H333k8FW0nXW13EBY75ShRBBj/ToH+7CwkEElLPzHEFIbJXmUbmljDjVtj2VI0WkF9ySkH132HD/oMpT5ygBCDC2w3tGF102kUygFV2yYZG0nhoBBxLN3/wB9ciUNBfNag9d1zUQz2P2S+OCAAAAV885BBJFZq5hFN5xeNNNd9999pJFBNJFNZFBFd99NdBVtBAA/Wy/L2+CCEnEEJSW9Nf8AwUCdfqtYbgTSTWcVatAYQeffcqATfffffeQQbQhqPwn/AIMIL74gxDCCyFoUEHGu/YH1SAFe0n0nvwhv7HX9UUBvE33EFXmEEP2pKP2or46IJDIwiCBEawxSAAHy23GUl2nFH32Dk311HH2/3kGkEEEEGnnPOHGBQv3vLIauAAQwj80HHDzyg3HH+V33W0213X3GW3X3321lXkU0kVkkEEEFV00BKMFr5ZL7OoDjawgz8O12N8/0Mf3W1333HnEEFHHHXGR33gDDDjHHX3313gEwYMFbVqJLLf8A/wAsMMbXf/8AO/Pe8ni211XkkkEH2kHHwXzzwDHW3200lX32wD/uYo37FIqoIIJL4oiAEMPGeNHMP1jx3213k0l1HzTzxHTEEx13n0HnEnFDB0sNb4FY5qIIIIILa7sM9GEEUVkPMMEUvHPHP/8A/vDTDDDDDDhhBzBRhBxhRzfvOa2BqtCCCCCGCCCy/wD7TDTdffxy8TTfzwzzyx853XffX/3bTzz3488cffcfAAhivugnggwutuhikhr2j/8A/wDjHDlNvPJ9rL3rH/L/AP8A33//AJ1vBRxFN9hxtBQOia2yWn2CCCy+iCiG++++3vUPDHpE3t9ZjDHPTRrDDx5B1NNPN/xxFdNhBBAOeqAPOmSSCTCS6SiCCSyyCyGzDyAB17zhHBJVx7zrNN591Zx37hDDyOYgAAeuv6cC3DKW+KCCCK2CCCiGyGSDDDtD9tNccpDTvDDXzThDDPDDCiyiC2uOO+2+6jIOjewc4M+yy2OeueCiSyPDHH6CB8NNCavH6iGOOGeGOGPPKKOOOKey2+ySyu88Pmr2sM9wgMO6iOyCSCjC+rMCCHKCS66SyyCCCS2++++z++OO+yCaSiCCuYwynW/fCCPPV9B04N8+6yiG+++OOi+yCK+uCCCCwsGQwwgC++OC2OeeOCCGCKcDXuQ89BzjDzDwjTzzzLNZlBEMx1tNFYg19BhBFJFBFBBbzx9NxV91xMkNFwg//8QANBEBAAIBAwIFAgQGAgMBAQAAAQIRAAMSIRAxEyBBUWEiMDJAUHEjQmBicqGBkQQzUhRw/9oACAECAQE/AKyv1xk3+tPRDyV5ZRpD3P1PcD5ITRifORiym1mxIq4RsW82O28ntX9ombIz2Hbg5yUQSmzJwjGZQ1+oMeb8ht9bwlUrzc1WXhNqs3OW4KI5KUpNrf6efl9v0jkS0MSvJX2UTzRizkB9kLTNSOyco+zlNX1CxynpIlflTg6QhKaAZqaDGo8Xm13VjFHkzRiK2cbXGCHPtebWwMSl6y0oxic88P8A3mppEZgSu8NLsr1DTYRte7hsjOCYyjSV64bGTRRXWBHbPn0zU0ncB+2SixUegWmOmb5A8GMAJc9nKhde0c2Q2lS+rNbibgW4abGaNWGOmkRs57GGkb63GGnZGm1zRCGtG5GTrc09IaUULlS5tNl361myO6R8Zsi6hG6MdI4qV3eIRhKPyZ4THa/OTITlNtteMnEjCr9chtbi1z2cjPTjJE4M3H1fOeNXp57GukJsG8f/ACZb91F4TSe71vCfEh9c8Wij2xmpWbnGS9WUvfGS5b1tqvNfGW4q93rb5FtvDN8ru83NVluEk7OEkR6i9LcvCT75bm6Xu5zi+R6MkfygYiKPWmr8qIo9SKi+3lq3ygt0YCoGJSj5QVo6ocdIaTO/YMhBkoeWj7A7yMT0KTNaJGaB26wiN32MdCNzqXBX+8jAOV9ce71j4fh897zabLvm8XSqFHrzmqjqSfnpGDJ4wP4de8sdINQjeOnGpJLtjpJIiItW4QN8S++a3/sl+/QzZDZGJLlw0osZO7tjp6Q6Zu71eS4knz00du8VzYOlKk/Fjouzd89umn+OP7mNxjJulayMDxSuATJNyekNJmce4ZCEdxaHDjEGVPFYShHUFOK9M1GK3EofTIISFyzY/v00dSUHvxkdXl3c8UY7Ht5NwP2CcjJSZNr1JJjJe7l/ZFM3NVm6XvhJB+cVfXBRMW3ruePjCcgS8Hkck2r0FMvLetuM5KK5xXS07OMl7v3WF/rlnkhHc1dZOEYxD+boVZeMAmHkjBkLhpyWPy5t5fjCElAPJGO5rNrV+XThvlWacN86+HNv03Z37YxIzpxHySilfJ1YopXb8wwb+xuCUeOwYvL000tusdsdKx/nayUiLD9jN5Ug9XPFqe4MW166O0VfZyMCWlw+uS0kjF7r1NOLp365EjAHs1kXTgXfNYsaj/vJzg76PbGemsVpoyaMlOmnBnIMlAlLh7yrHSSG6zNlMKbX0xiynNZULktFjFbO/QycGLLho6xLQ93GCC/NYC+Tb9G75roC9SMnsYRGC+thjp1G79arEcfvMjZXzkpW+YUy3Nz7vkVfPCVI54iFGbpZubHDUkZuaeekJI46347tt66UiMjg75HVjtRjduQ1IxYlce+bo7NvbnrvCAETvjqafem+c0pkb5q8kjJayBGRSg3niguE6E+bx1LY8dsmirbj0Zu6vsGnJBrhwhJuhawF6sJRqzv+mvSj7B9RGKdjhyMpR/8AD+mu7uzTnCNqW09IISFLM15xlseb2530uZHfKav9N3F19gk++E5EWN8fpCJWAvkIqL7eR6MBb8kIxeFbvJm2SDfUhNL2uInf7EYspUfkAVoymr8lfGVlPt0Ir2MIKLXBjpy3EfWrzwpO7jt3zwp2Fc1ebeJX6ZskRJVw46c57KP5chFBlXG16aZFUf8AjI6ZGVPKVecHiGb4JGNUeuJXt9iLSN1k2LLh6QQbcjJ2aiua0ZhC+1GS05xqzueSWnpsiEfY5zYbJPqOOmRT98q9dYlB5AjvksbCJkIQ3TsUKrJFSQ9+mjW/n2cjpG+mVFXkSDKftTWGzwUQu8JQNKJtFVvEgzlZwRKM48JPk6abARyoOlEvnnJQiBUi656z1t1lcVjqXt47Z4v9pfTS1CH/AGYzakei3niO/dWeJL6vnDVbHvxWM13fOeJ9O1OM3ueJKq6qvnSV/YvisJyPXGc3vJ8hJG7wmhI98JNmRnSvk3yu7wlIVvqNYyVt/p62/wCuLLrqRVyUJRaclHa10iXIPnJkScwOB6w05TvbiJf6hRfUvsZNuWakIIoqkSs2RIRbbXJaZBgjfvkpjv8Adlm7TfD3BWTYtIBmjtFVzipc/qYplrm998ty39Vpvz6UN84x93Nruo96ynyMUB9HIR3SD3cTy+ErAO8j7MYjGb7fa2/wyXzXSUWLT+WiLpzo9TppTImo/wBuJFhwc3mlKGntl65GcQF7jeMx2X2O5k9tqJ1DT/hi+7hGMdYrgq8ZxlsEoMlsY6iFdq6nLkdpqwN3aGeDK5/Hk2xZtpTHjDYTLDiPJ84ShUBDltwlp3OSHfgwQ0mjleppx20ruS82x8JfVeMNm7T7VXORNPcDTQrjGDFT1lmwhOH74aRKDK/dwgS04DIPqcNK2VS4HNSW6cnpE3NXhpv+6zZtnDkRcY2yb/myWmlvoPQhuIQDmrXKXKaus2/Svs5GLJoMpwM1IbJV8HkFvqKdn7VuW+aUlbzfL/6cVftbpe+W9barLcJJ2c3OW+SWpJR9sZyaV7YTkKjhOR64q5GdJLn8NOQmRE5OcjqBCUffFCBE/dzT1CHcw1qjI2nLni1DaGSkyb+yQLhZ/IuU35I6UpR3FVm1q64yOjKOppkjhclxJ8hEYSl7J0BWjrqRIyr4OoKgZMiNDfkBRcpOpFRQ7YQdm70usYpEff7VV1t+3uL8g03jrJIaH6aw1DdGf8xkp7r+kL673aR9m838VXreeNPcSvtjy31gxJc4SjsD+681ZRlKwAyMyTN2hUGs2aTINwFXeVpsoANOaru1JPz10mMSUktDjIQgsFO/pmzSbk8G3NSJEhXqdNIht+VDJaW7V5lw+uSGLT0g/wAOZZambB1CPpxmqRIQB9+unElu/bjJQiEv+Kc1dP1s4DjE4l61QZMg6cKlyHJ0iXIMYLCUl7NdIxGMn2z/APOMGRqRaLT7dH5OMqJfJ0FETyCl4SREcVW3JSvb8FdLarLfKr5bct8hOoyK79ItRke+Qlp+CxUPt2frmznrGCg1ZeahAnIi2dJ6W0skJjGoRl7r1hBlkdPvfYx0kFvGNTDvm1ZcHk8NZRD1L82nDdKvhzTgS336RXPQyZ9UQO4ZLvdeSYeFpf8APUgMJS9qyvOQm9ouIxaSn7z5SSdnLarov8M/yybHw4V7t9YyoSsNT6dSVd0ycvo0z4xmbl9ysNUoE7RTqVZeEob4+hs7ueFFlw1FOMSnrCOntCR3FvNOJCEpLyiGMoRjKJ3SryUr2/Bjq/XB9gwlDYC5qakZFEQp46zHZp385OMCRfu4eGSnIjxRRkWLp1/cZGMPrastM26ezu7qvpCtk/2MuHhF1mttUqs1JQYwjE7Yz4gDmqDM5Le/5BW/t3irXmVfNb9hlcYnteKvW2qvrf5iMJS7GShKNWdTTm9o4xkdz9UJc9YqJmpe4+ehwjkJXqxfnNPdInEzw5b9gW5SL5JwdOFPZj/24wkA1w9slFio5tdu75rJgRh8nSPczVjU5UcW1jCQgiLnhz3MQ5MNKbHcHF1ktORKRXbqYwkMvjvnhOzdZ5Nn0EvmsnHbJPbyEDae68ZOLFTpOIEPk6RhKXYw05O74LcYJEl754U7CuVyWnOJyetYacmRFKza1dNZOMkhw8RzTOJtdo9KfbIadzqXHDjCR6eSjzjTkZSjdNZ4s7seffGc3u+Sepvv9+MdRdt+meJC5fNObwjXzeasrY/4nSLUhzU1tzGjgbx1Fnu9byOpTJrvm9aF4u8dUuY9pONenQxmXqfJkJBHlK9SuevrniWaY0F25PZNUlTbd+uTNJrbIKOviG6AUAZCcCKMRVyMtIiiW5KW6vgrpGYBZdN46nM67SxkoHtjqyZD7Z4n0g8/VeS1bnur0yOrWmwThx15vFtUFZLVW/ZKwaRyWqWbRC7cdRWw9Kw1PqjZkkZLfWz9c28+XbKrpr9bC3Jxn/DiJW3Nni6u0Aw0VUZBXrhDYa1vYrNCO6bXemslBnuluOOL93I6Vkbau82H1/GahUdM+MaXj9Opvy7/AMHxm9JMju4SkdnGcnu4SS6c3y55zxJUF9sJNSPfFWrx/pOnzAvl8P8AibFr5yMd0tt9drtJejkhi0+cea8kYskAtclFio9+kYBOHrfKZ4cp3IjxhC4SlfbNqRJdSOkTIbV9281dMjVepdZS54cy+HjrsltJVxm19nERpOrpSI3xjppfIp3OhpSYMiqMNNZV8XnhypfZrGEohZ36EVaDIlacmu6BjpzJAlLjpSBXHRlu28XWQhLZP/gxEaekC4bSAsnhycGCFj00SN8y9HGA6MdrfK1646NQi7i3uL0O+STfN9xrNPaMF9ntj0lKHhwAe7mo6U5KWfvko6VRqf7+bjyCjZjbhjqH00PGGogHoOE6ild83qBRx1hKmSvo5LUhIrtwc46kTUJxMNRBO44tvR1BHjnj/WeKs4yfSskirar79d8ru8lqXfAL36b0iR+byWpU+1m0MZyRPm8Zqch2q+kJ7b+SsJ1FK9byWpKUh9c3/Snujm+XPOR1Ki+6jk5EpKFdN6BXpirXSKipgv5Cz7JFYsvQeiJ3PJGLJo6wjuaxOPMiKPkBWjKavybfo3fNYxSrOkja15zJR2yTIxHTm+omU5KMTSg+qvTa0Nd8hoylGT7Z4YkP8Vc8FUBOS34x823nzmoR0QKtW8lskx28dslGEIUSv6uTJ7T25leMos5MkeOMQ9G+sNkYSe7VYx075KFKcSMmFFC1kdpKTyFOBDnj0MkaW0DvVr1iQNJklt0YaYziDxjGLIeUZI4Q07gc8vOakYCbVrpokd3LhGEtKiXO5ozwkjag32eu18I/yxC2MpcBxkIRYyV5zUSUrPY6Qibbq26z6CWpwfBg1plV/dmtLT+kKebcZaa6lRDjjFgQ4eUCsjqQuS+tZvjEmFN54qzJexk5s6vpHUYxQw1JBQ4TkV8Zvla3jJfzFvmGkc3SLB8h5d30J84qtv5lu/sVLjjNODKUb7LjH6qPVxg0yU71mqJt49DybOE9i+sIkpU5tAjJ7LkoQIbi+e36fHVjGMeLQT/vI6u1EOzeeJKx9TGVlJkpzl3fIanNp6V1i03m52185vPD2841/wDyWnqxkAp37Ywrb7pjFL+M2yq64xjHYN/VfbERpP02ufPKQ6mnGio0ZKYzgz7jz+2ampvC+9uaipD2I5uN+m+gGTQjVisrcL8JzdHxYPoBhrBJ55QLyXMpfqar1t/Ujv8A0FCO6QZCGktXJxjHZuLz0eMYJEl6PklGJGKPL0nD6uD0HrEuUT5yX4n9+tN1XWcWEqeqV5oQZyInrhFqT7fZYfTCu7eEJKAd+2V1YoD7n2hvzGabTJ/tchqwNMjXNt5ZsT5HJSGEC+TyDAlBl2I4zFJIOSmfWFCxMkw2RoL9cnKCABxXOSdPcSOsEJxfnDUJ68Wud3fNsNs5NrfBhW2BXfNaF6xacuSC4WBzTk/DU2xrmsjCPi8/h3Vgafhy3HeVGagGyv8A566YW2XRwZCoawh6WY8aaeu7nNRjUTjJELUkXu/1kds9SXHca8mpOG6MKNpV4sWdtV6BjODOKcAYTiIX2Hn5c3w8Lb2b5a66uwNMC+O+axCigPs1X2mKRi+/3YqI5bbluW9YzlHs5bkpWR+DyW+QU7P21sPtHn04juZdgusnpSibg+lxincyYyjpRC3biJm2SLXBlNDXHnC8pq+iJ3PtQiykRPVxKU+1GFwnL2rESvvhT59NqOp+xk9TcR57ZPUZkT2MsGO158PjLN0lpSP+8jrbdNj7y5yaOjGj+Z8kIkwA5HIS/iTQPjGMJakiqvtiR2KHrinhV6Uf95KUdqichx+2ast0hv0OswIQrPDCdf23hpxdLddN8Z4IzIiFRFc8JC3/AOqyUNvr61k4stSj2M0o7dYJZtUU9XPCah/dmrCMGhvrpxJTBzZDxYB2XNSO5VTg5zSgSW2gLyGnGck3cZH6dHUE/mMixGfAmTlpsIkTk7uagE2ukCPhNnd7+2XpGnEotG3I1uL7ZqMUjQfNfftrrNFKewdb4DyCjw9LfPuarN8qq+Ok5JOVPpWb3bXzeSmy9Ax1PrZHrjqF7q5SsJpXw3ktSTIlk0k2FdRREzTkurFcJpfzm5L+cJJ2cZSe7+YYyKsTpT7YxkKJ26zgwoXufYI3Fl7eba0vp9qUNsgvuD0GvsU1dcflJbXw9/Y4cmx32AHsZqTGEHn8TmpM+rkd0rzfDxiUvw5OcZMH2c37dVk85JF8umR2ykl1hpwWVqHFf85VaU/8g8kdMSLfeVZHTuue9/6yk0f3l5Npsv1vHTLeewZKGl4kQfWkyOmJJuvbJw2kPdMnpsNvzk9rKVnJHGEZEI1Xbn981YxE2qnUYxJxA4j3+c1IlRkHc58kC9OveRjpm/aNHvkdK05PtH2Oekv/AFwP3+2Skerm76a+fJKb4emnoueK7hrt2MZ3Aj8+TdHZQY6kkrCSSJZuar5vGS18FZvlzbeKqq5bltV1JUS+cdawNvFU46kWEY7e3Xc1V9NH8Y+w/lLfssUB9/PPiGmfC/mCSCH5KZ6B+E58kAYan7GSiEYPueaZ/D0/266P8/8Ag5tkgB1VW1wiooecF7YRsk+x5Ix3KfHWEJTaMIqS+PyJ5zGVy1PZ8kWPhTo9slAlCCS529sYR8M7ErxOe/k1RI6Y+2IG5apqs1ZwlIoAGivbGfM7r8NGR1I97qgx1bhtrjrCSRn+3kI6ZA3x7hWQ2E023Q1nhiz29zsZtIxnzyBgacdN55TGBRXty310do/NOEYOktc9NP8AF/w5GNaM2zmvzttJ59Rsh/j9jc1Xk1G0+Ih0ty3yxaepm76dvz+RP64H9cr9cs/XCPP9cW/1wSP1yv64D+t//8QALBEAAgEDAwQBAwQDAQAAAAAAAREAECAhMDFBAhJAUFEDcYETImBhMkKh0f/aAAgBAwEBPwD3Yp2he3drPvB0Eh2EQlCOxpwGAkj2A+oQFbxFYhFAAPYLxuY/EJQ0gWBf0dXT2Q73MCA8iOYnUdl8xx2d0BYjqe5zKMRczXLEBCjoY8CNqM/9jMG1GwxO4MwnDj3nVkGCh6jnEeVGUIyjHOQY3AwBAcwxGfEV6oQ524UUWRFmARRWLSVFeNqACqEV6FENDp+mD0vTWkDpuxWuO82kqNWsrQ2Jg2dSTO7AxHZlzmB5g2FChP8Ab8R4cBncE48GD/EVZyVGYznE4odo0fxO7KodjAmPtCT21JUc+Jlf3A+YciZdCHCJmwfT6iHoKKp1UNBCgGgh4I+oQF7xFWGA5q8WMOEjMcJFm0eVaShCVOVOHaPLHWO1WqgoKGZY+0TcWQYsKzqhP7o8mrzGXD3GAFmIhQAoqDahKEBIH4jjwYDgYnc6g7VO0cNnKtYjzAfAWXALiNU5EUQiiEVDFtU7RFwjeIt1RcRUIaoSQYsCLMUEFB9Pp7G9Bi0evZ0PkiFd8LoWsTpYc59cPpk9L0UH63m4fUIChqXBVjRJXgNaJjzHhxiMR7RzuAf3qXHPgxHMFiNh2g2oYsiBZjCsZRMDcbn+tmUMxlCChjheJlz/AGjKE5oXMswH+qgJRbzt/uhDiyIsKLaKi5iEWl0dfQOnMO+ghELUKKxfwp+SOnpXqD/BhpDoKdggRqGhVj2PeQFYICYDkxnM+JnKgnVtPx7BFWr2/wCoEryULzcxm8U5GlzYfDM5FCGpzCyxC4t4Gq5zOIjmBsCzg/eMYseJlTOZnE5qzMuZRjmX+I2DHlR5OI4BgUMcbBnx9oDR7mrzGqjIsXT21PhLwFehEIhEIIuP7cLJhGQZy4Q527GAZc20fn72kgR5UeDbyLRqOMNQX41xQfTYbtURyIqoNxRBKwzLgcW33jKmQDBsKmF5mYOaFuPFeRHhwbmp4gJxAYOJyaHYzlUaU78pHT7il5g5pz4BFN1C+7T7SmveD6mFVwNZoDHkipKjj2jxHY7jDxeOdNjQGvzOTZshBuYsRH/tmUfvHY5zM4giwaAV+YKc/iM4HKmXQ7iczpagbMAyYNtcT9nZ5C0Bz57EYq/aAT9IdrqdoNqn/EwrEeHbuajefNRGI4w1AbXaNrHAXQc0Yj2jyRGI48OgWfvDx96OE4YjqJ3FXmiiFgCVEYswc1AiwoootrM4hzYt4GIHVYMIMy4qKLaiCizAMRZcAEAosZix+YsHMFBOwqH3Qn6p7V6QeKKkFWhZMaEcb7YY0VHHtBzriqo/Eduad4Vq3isQsHgP3L8A2v8Aa4cCwZv7B2w3E4MajyrGU3AdJx1ajjo5zGI48R5ry4C6dUeS48moaEPNDACzOlgCZuZ1kbVmIWgQxRYoqLaKKLMUVy8HsKeuddi8aAnImIz3GpKKj3+8d4+phQ3c0ZcD/wCTKFh4ps6F2cxzMZzBQucx15g2cJLg2od5nE5gcRw4G4ihE1O3iAAUTMQiEQo6ip8J66zF5PSelQ3uE71GiCfPdBYNJNxRUVi9UKdgT9qrc0ZHnvwnp9pToNF7669A6d+FeBgxYKgCMHM4ME5nBig20t4Y6j27veqNZjt9mvAzOdB+GY9F7x2DnSPQALzCM0+bFvFFtBFM2LEy5zAcGzLgqTOJzBTYDNgGHzOEIioXFl16XmAm/FGfedpTvMdPn0XI8A9eErzxPmAT/wBihGYN/wAWHE4EyqcwCCo5o8x4dWFDtHHvAXU7R4MEMLE5H2i2gbLg2FC3Ms0A8IeGBiiixRXHbxCR2+6GkOYIBmLaLCgnF7NznNnMcZVAW4C5wJs4HVEoveCwnP4jQh6tI9IWkNzpq3kxXKxXfEURdvVtpM+UPIWl2laA0xvU8eISBv4R6mNDgWZYjRMdo5nIgEW0UWa8izJ2MLVN1Mx1LnNDtH+4ekGoPNYX8JfqVcekK9e1Z952FPXPrf1GF/ClR2r0op+1fzYU7Me6FO4+6FEfdCCHqC/myn//xABHEAACAQIDBAUHCwMEAgEEAwABAgMAEQQSIRMxQVEQICIyYRQjMEJxcpEFMzRAUFJgYoGhsSRzwUNTY4JwgEQVktHwRYOi/9oACAEBAAE/Av8AzhPj1Q5VF6i+UlZrOLfjaVSsrjxNKL1gyTh1v+NcTg1m1GhpPk229qRAihR9QuM2Xj+LtOguAVB49dPpcnsFSuUy6cdfxZKGy6c6niUQsVvcUl7DXQip+9Cf+QdeL6RP+lCS8jpbcKeWUYiy90Jc1nXKGvoemKdJb5akkyAacfw9jcS7SFFNgKixM0bd645VFIJEDDryfNv7ppDaBD+UVNJfZ9gjtinlAVjY6Vh0yLfmL9GGEmV7Nuci1S3Zkjva+pqE6yJ900ijbTf9aH0k/wBugVGIlzf7YqQN5MgX7+nxrJklhtxvm6IEUTdnct7n20xAFzSkMAR+HcZAyTObaE3pBc1g0KQi/XYqVIuN1LoqjkKm/wBP3xTqGBU8aQSgAEg+PREmQN4sTTB9oHXlagDHIxOoakW2cn1jWXtlvy2po0YgsOi2t6dMwtmtS4aJef4fKhhYihBCD3OuyK28Vso/uigAN1EXt/4YZgouft4MGFx6FHV7259RnVO8bUs8T7mH2XjPo7fp04o2gauA9noQykkX1FBwXZeX1COQOXA9U29LiJCiKR94fU8L8wOh2yozchQNwD1sPukH/IauLbx046QvOw+7S3GorBymSEE7/QMwW1+fWeSTtZLWXfQ1APMdZnIxMS8CD05lzhePoMy667t9A3FBlJNju6SQLePVxbrsG15VJOqAcTwFCZTlHEmsb9Hb2ipZtmFsNTuqHPlbOb61FOJScoNhxp3O3iXne/VuOdQfScT+lQfO4k/m9BHIsi5l3Vcc6BBFwaDqWyg60Z12mQAk8aMgzqnE0SBvNKwbUGsOLSYn3+rKxEkKjideoSBvPUxwORPb6BWDC43UsiszKDu30ZBtRH4XoPd3X7vU51hb7EX5npwttkBeg6sSAd2+nIyyLfXKai+aT2UTYE1DJI1w4sazM0hAtZaZ3yyS33XstLfKCaj0km96hlWKZDz0HTj8IxbaIPbUcEl+6aw0Oyjt6DFfNgc2FHf0s2UcabEJlNjraoZXkgyKNTvokooubDxqPdfNe9SSpGBm4mklzHu2B3UGBYi+opmVd5p9cZB7ppXczuPVW1RfP4j/AK0ovinP3UH71NJs42aodpku+89ZVz4qdPV0vUGkbjk5qAFV2w/X41iSVhe1YhuwuQ3NxuonatHlB0a9+owuCKxEUa4d7LwporPG4W9hTjzsBtxNTpnhceFJ2o1uOFBVG6liVd1Op28WVe7vPV2Mea5FzWHQbTEH8wFRF2jkVO9nJNPP5gsvetWHctECx16snzb+ysEuWBRV1WabPuYVAtoG5a29lYFbQ35moFO2xD8zaiCs5e1wRangMk6se5bWgHQNlW920rC5rzlt+fpZgqljuFYaZ5szWsnCn+lRe6anklDqiDU8aXMsfa31AsuXa3uW3ipxITCW0GfdWJVmMS30J1qaXY5ABe9I0mfK9u7fSsRCcmYyMe0PZSIVOr3HUmzMyxBst958Kkw6RtFkJ1a2+sR8zJblUC5I0HhWFUAMfWO+jlXE5m+5UY1d/vHSsVrDbmwqWNkisG7NxT/OwjhrUHrnhnNqw480tOxs8ubwRaU3S/hUEabNeyKVdij2TxpI1Go1Yr8ai+aT2dEuYEOgueVRIUQA7+PtrYprvtyoCwFW7RPOrC97C/P0rtndQFNlbU0zBdT1Jgw2jWvdajVohEw3MoBrEwsxTO3ZvrSBQoC7qxiZ4gPzCrDQcqw1htL9/Ob1Jkaaz7gug8TSLlnj/t2rtxyy2QnNa1RIUU33k3NZWWZmAuGWigcdr4UsTroJdKUBR1UjCM7cWNZACTzoQ2GW/YvR130qqvdFutIudCvP0sS5VPMsTQAXcKyr90VsYr3y1oBp1VRV3CrA7x14VI2p5uekgEEGlhC6BjblRjBKHlToGtzFAaam9AACwplDb6IB30Y1Lo33d1WGbNxqZSyqPzjqlVbeKZQ1vA9AAG4VZb3tWnLoZQ2/nenXOpFMit3q3aCgAKCIpuF1oRoOfSABuH1YgEWPVsLWtp1bKd4rTl+IcTjVh03mo/lO7dtbUGDC4/E1xe3p8VfymW/OgKwN9gL/AFuS4ja3KoTmhjJ4r6Nr5TasO5khRj143DoGHH0MMm1TN49eNi7SfdBsPRO6oLsfRbRNpkv2uh2yozchUbZ0Vufobi9r69EsmQL4sB1cnnQ/h1TI0mIiI7lzrz6HlkzgBezmtfn6DEYRJtdxqP5OyntNQAAsPTPd8SqZrALekhVHLXO6knLFez2WOnXZ1QXY2pXVxcHpd1aFypvoah+Zi9wdaeTZRl7UmIRmA113GiQoud1KwYXBqTGFC65e1wraBYgZDbSsF9GX2nrHcawn0aPoJAFzSsrXtQcFmHLf1cD9H/7HrTSCONj8KjsI1AO4dAZWvY000amxNMQqljuFA3APVx1th/2FMfNE/lrCj+nj9nWxX0aX2UthGPBajjQvth61JKHZgBoONYr6PL7KQWjQeHVBB3GnfKU03mpPn4B7auKyrtC3rVHJI8h083WIYB4b7hc1FLtL9m3TiL3h9+uB9lQG8S+zpYZlI51JBYw+cbfYeFbIf7j/ABpnQzBSwAT+a2kf3x9XMSO2bW+7SszJIUJuCtxWCIMIHEddQHnkJ9SwFYX/AOQ3DPUIkaJpMx0J0qfXDsV4ihCrXyjKuW1udILRoOQ62LF8PIPCjHaCMKNVsaxCGWFgKQ2UDIRUmGLlpPW4ewVlV1BZeFYUWw6dWXES7bIi7qmOWJ/dqPs4ZPBKwcbfOs2prG6w/wDYUsbocyetvFYYNtMTf7wqLayYh3J7CmwFTzOrpGg1alUpKBmJutzUyyFey1tKwakYePXh1TuNTRWkgVjcu3aNYobJdomnCmRI4S3ELe9YePZPCOLqS1GLbYyS/dAHxqWE7F8z3sugqH5mP3R1cRh0yXNyS4qdAsElvu1E0wRGy9i26sRIkkJC3vfdaoZVyKCdeVA36Z1zQyDwppLwWXeUqDSGP3aw5C505G9YjbtExNlW4041wHUOit7KWTZ4ay6yGn+bi1ucwqdJXmjy6dnU1EqxSug3aWqIHbTN41Grp2baU0SOyluFFDnzD9emRMwXwa9eyokyIFv1HBLxeFz0WX7oqy/dFWOa99Lbvq2Qg3RreFJHZi7G7VFAY3Y5tLdfZNnezaNvpY1S9txpUVFyjdSgLu9LvFbgB1dl284a199MgZGXmKQEIoPAUIkG64oopFiNOiJcrz+LCggBJHHhVhe9ta43pu43sqNcsUa8lHWeLPNE/Bb1JGsq5WplDIV4WtUURQ3Zrm1h4DoIuCOYrD/Mp1WXNk8Df0IAGgFZVy5eFJDlkz5uFgKlTOoH5h0Ag7j1AiLeyjWljjU3C69Fhe9vq+MxUjSFVNgKixE6G+Y1DKJYw34Wa+U5d9KoRAo4fXsZA6SubaE3pFvWDjMcOv41IB3ihFEDcIP/AABNLslzWoEHqEhQSaV1bdTMFFz6TMMwXifqzOq5b8Tp0XHUd1S1+Jt9vT46KI5d5qH5QikNtx9BIp2rNmI5V28QMjLYDveNIkSGy77dSRcy2pL+Vze6KxX0d6Xur7B1ibC9CWTsMwGVzp4VJKEsLEnwqeX+ld0PCo/m09lDK7q49W4rMubLfWp5NmotvJt6CVmXFQa6G4qRsqO3IVG2aNG5j0WL+cw39zoxRO2wwHO9TByjBDY1CHCAObmsISWxF/8AcqWMSKAeBvWdc2W+voCzeUKg3AXbrRSiVcwrMMxW+v2ad1N3jffegKwxJgS/odmNqJOIHVA/qX/t/wCakkd4JPN2FjS91PdHVJmd5CrWCae01LJmwbPzSu8MMnsJ/SkLeWy33ZNKb5jE8iTal+bT3RWF+Y/7NWFIG0LHt5jesSAY2Laadn21GxaNCd5XrEgC5NSsrz4Wx9Y1iT/Ty+7SaRx+6OvLIsaFjUUolXNa1TTlGsq30u3gKl7eKwnLU1PiFitoSTwFE7XFQHmlYp2CoF3s4FMQoJPCsG5O1sh1esMzNts3B6y+cxE/FXtU87IY1Rbs+6oWc51fep39aHXaP95v2HVO41gFIgvzYmlQLJI/3uurq24/U733ekRw65h6DEfJ4di6G16jwD37RpVCiw9MmbO7EcrVLrE/umh3V9g6uycF7NoxvUqnyEoOF71CtkU8SorJmxb6/wCmKKgpl4WtSIQqhju6Mq3vlF6Ou8dcqG3imRfKYbKNzGsX9GktyqN5FaJm7raW5VimvKqZrC371tI1A7fVxHfgJHZDa1Eckz3Fg+q0xySYi47wGWhE6mBrd0WtTRS7SUgDtC1+VDDACOzdpRa9PEx2Rvcq1631CmXP4uTUSZA3ixNeTtmcZuwzZjRiBnEnIWFKmUyH7x6uLnaNGyjcNTTxhMGdTolTaYT9BWLkkTYqm9jUOcO6M17C96kDyzPZiBHaw8amcpGdL6VdlwCW0OlbNpZpszHKg0HjTTS+TwZe+5tWGuDKhN8p39XBfNv75pJI3vlN7dbE38nktyosRhyw35KiJMSE8uhnVbXO/ry/NSe6aw/zEfs6lxe1x1tqmfJxo7j7KhOXC3H3adiYVN7XIpbjS96BB4/XZvmZPdNR/Nx+4Kj1nnb2D0uXzmf8tugqrCxGlBEAtlFBVG5R1iAwsRQVRuHp8aLw5R6zCpI88TJzFJHIcu1I7O4CmjVpFc713UBZmPOhGRIzA97fUgLIyjjUkQZEQbgR+1NBd3OewbvVlTs9nu7qVApkP3j1DACWdnY/xWHjHkt7akGsOFzwZf8Ab7Q6pNgTa9YgznDvdQtT3XCP7tJI3mrdzdWJPZCDU3FwOVTB/NyMLKp7tYkvsbobVEoCCxv49WSUlZAkZOh14VBtdkug3UHMeFTXUtU1iYtdc3RFGHSRz3iTryqIkxqT0OSq3ApSGANRklWlPjYVujjA3lgWreLVCvmAvhar5hFFxDfxUt9k9t9qgjRIwE+ukBgQeNbgBQAG7n9qv3H9lIuREXkKVEW9ltfrSqXCr+YX/SiAdCNKZVYWI0pVVBZRU0W1XLmtrWlrVsY+X70ABu6knzTgcdPjQFgBQhivfLSxxpqq68+gwRE639nDqbOXVFICnjQAAAG6gqgWAHV2acqAA6mJ+UcjZYxeoPlLM1pFt+NW7pp1ZXKtvBobqwhJgW/ppJkjy5uNbVz83HfxOlRuTHmYWpZY37rA9BkAlVOJHVOI/qVh8Pw7PgUmbNexpPk5R3moAKLD00xtiIjkJAB3UsqscuoPI18osRCBza1YbC2szfoKPM00yNiIGW5tehr04ibZJfidBSbFMTEdpcm+Y0HRtzCpIEY52+7WHJMEZPL8VbSz5TpyNT/OQfez/tXyguaH/sKwUxdCjd5a0OhrIt0t6vUsOVMi+VRdkaKeidJHiKpvNBMSFVfNgCjYXNKwZQw3H8UEBhYi9LGi6gUyhgQaigSK9uPXsLk8eqqhRYCw/DGOxcm0KIbAb6SaVGBDmoJdrGG/EBcbQJxtfpZ1DKvE+gR8zSC3dNvRY6BlmZ7dlqUVgkKQi/4duNdelvpaf2+ltcVH4J1DMm12fGiQN5p5XzFUS+XvGgb2NQ9+b36klIaYZtyae2gRDEM7UpuAbW65AOhFCCEeoOuyhgQaeHDxxklaw8bJEMxN+szoveYUMRG17XP6UskbGwOvL6jiJjFs/F7fUCQLXP1CWYRtGLd5rViJdlEWHoLjXXdQIIuD0btaBDC43VmXMFvr1GljVspYX5dEE22DG2l7Co5GeeUequn61NKUaJQO81ROXBuLa2pMUGa2Ww11oS3xBQHQLTTWkKZdyZqjbOqtzrD75j/yGp5jGVVVuT/FKwdQRTSZcV3T3KkxJzxrGu88RU02yA0uaBvif/6x1JY7EyfmqFhJI78tBS32boO+171ECI1B4CgpErngayIbXUaU6FipFtOdXlt3Vv7aF7a+nkjWRbNUZcOYnN9LqfDquWLCNTa430saJuH61BfbYnlmFNHnxMmu5Bb20L2F+XoWxCA2F2PIUGDKGG7oikEq5huvQZTfXdR3VgZZJY2L86xo7MX91aPWgJ8pxIvp2alxLpPlC3ULdqBBAI3GnxaI5XKxtv8AChYgEdXE64jCL+a/QSALk0rKwupuKacCdIuJF6xMmygdxvArCyyN2ZB2rXrGTNDAWXfUbzoBtRmvxFYaRnee/BtKfExJII79o8Kc5UZuQrC38nQk3J16WkjTvNasXIjbCxv50VjO5GOci0HVi1juOtNLGrBS2p4daBNtiMRm7mfdUNkklThe4qTXErnPYA08TU3bidRvIrz6woAlgtr0csrxFBqDqfDpOgJo5fJS2+R9ateGwPq1hBkiCcRvqFCmcW3sTepw2eJ1W+W+lQoUSx3k3P61BAMhzr6xrIq4hMq2GSpsyyFghbMlqhUpGingKhBUMv5jTxuZMykC62qEiIbNuG6gvbZvZTLdg3KnRi1xbu21oR2fN4W6oAUWAsPSyzRxC7mo8fh5Da9vb6BkDcSPZSRZXzlyxpwWVgDahoB7OlkVrX6MN3ZG5yGmnMc89luezQIIBG40sxM5jy6DjRIG/r4NMs2K9+sVdUyp/qNb41ayBPC1YT5nJxQ2NJs8uKVzbzlXtGM33dawgy4dT967fGpZ0leBV/3R18P87iT+cfxUdjjJvFBWFGWMr91iKiyZcXmNruahFoYx+XqzrIcXBk+6daiZxM8ZbNZb3rEIzYhc7eat+9JkCgJurJlxTSZSbrWIjMsJUVEr5s7gA2sBWNXND/3HRh/nMT79JHknlbZ3LbmrLm727lWD+ZK/dYjqTLnMXv3+FYqF5dnkNrNelheFvNgEHfrTYeVptp2fZQ2t9SvVCqu4VlW97C/oFSNb2Qa0FVdw+wccxbEvfhoKUVgHLQ68PTxDLEoqy3JtvpYSmiyELyryeK97a86Eca7l64UAmw376eNXFmrJ2Cq6aVh45VZy4t2QPhxrImbNlF+dSgmKQD7ppR5tB+UVIvnsMo4XPw68aFXm/Mb3poYmA03UqhQAosK2UWbPkF6bNbTf1XjuysDZhUcWTMb3Zt59BYXJtqekADcPtjGYHatnTfxoYPEA2yVBDso8v2DlGfN4W/8AULF491cpHw3moflKcN2zcUjB1DD8a4hSs8gP3qUVgVIgF/xrLBFL3lqPBQxm4/8ANugoEHcfTwOZIVY8aDqXK8R+JsTiHmka50voKid42zKagk2sQbq5zchFvao5w2a62sbdEbsZ51O4Wt1ZNI39lYQWw0XsqwzZv063lxs52WinnStdA27SkYOoYbj+HsXg3jckaqajidiABWHi2UQXqgAXtzqAWkxPvDoj+kz+6tJIj5sp3GnkRLZjvNBlbcwNbSPPkzdrlU/zMnumsOX2EfY9WsJ8039xqfambEHaEBFBFS4jZRxOR3rUJZc0eZQFc28emSRDiUVu4NfaehVCKFG4fh+yjcOsWVd7AVFbNKb72o1FBaeUFmPZFYRVCN94Mb1jdYvYwNZF5WpxIc1u8JLn2CmdXjOU3zCogVijB3haiTIlvzE/Gnjl2smVdJFGvKpodpshwVh+1OpLRfla/QRmUjnTRTNHsuzbn0Rpkz63u1/xKUQm5QGsifcHw6FXzsjcwBWzQtmtrTKrCxGnSFUblH4oxHyjHE2UDMag+UopDZly/jVu6fZXt30tYUk4dL/bIdSWAOo3/U2ZUUsdwoagH7IxHycsjZkNjUXyaQe21ABRYelxxtAfEik+bW/3akkEaZt4pmVRcnT0GIlMSqQPWA6cb9Gf9K3eik+nweKNWKmaIRkcXAP1LC6zYtvz2/b6njjbCS+yk7iezpil2m007rW+zMJ8039xuoqO+JntIRa3xppskJdxqN9RsWQMVt4VLKsYF7kncBWI895Nbi9Yv6NJ7KnHmUiHrWFTrtJYY+G8/pU0mziZ7bhUJkMYL2ueXWxnzajm61NJs0LWvyqKXPodHG8Vi9din3pBWKJlnSLure5POpHWKMudwFYaWWS5dQBwrDyGTbG+mew651x6eERrG6th05yj0OFZ2fE3O6Swp5cssSfepZW8paMjTLdaxE5jaNFHafdWJneCHNYE3tWd4YS8jX0rDGYxXl3k15UWz5E7pN7+FTTRwi7msBrCz/fkY9UkAXJpJYpL5GBomwJPCsPiFnQso0vUkzjFQxLuIJasTK0aKV3lwPjUsjI8WmjNY1iMTsiFtqVJH6UkqtCJPCsPJtYVfnTSIuW57xsKxbFMNIQdbUDaMFuWtKyuLqbisfrhmHiKG4dOC+ZZvvOx9DP8xL7pqD5mL3R1sTI6Koj7zHShuF/S3FyOXpoHjCP2h84epChWScn1m0qVNohWlaS3ajN/CmSTao4A0Fq2CEC/DdTIHQqeIqOLLqz5ja16dGzo62uP80RmFmH6UsLJ3JSByIvQHjfqHUEXtUmHXawLdt9zryqeLuEAmzgkb6h+lSlly3UZfZWIHahlt3XHwrQjUVJCrxsnA1qE7baAa2rCWvPl7ufTrSKWWwa3jUGGHlU93c2A1vWJgzT4ZQOJrDN2CjHVDaoZnfGSjN2F3DroJIpZrR3ztcGpUZJ4prFt4a3jSAvIJcpFhYX31JEXxcL20RT8axEJl2XIOCanj2qW8QfhXay6gXqHD5IcpPaLZmqY2jdvA1AmSGNeSjquNricjd1FvbmamGXG4fJpe+asb9Gbxtf2VFGka9ndWQ+VB7abO1YmNpEGXerAj9KSORnDy207qjhU8ebGYY8g1NBGFcgHjx0rDC+CQfkqIhocLFfthtR7KxYvEBzdf5rG2yxhu4X7XsrDMBiGCi0ZHZr5QTNBv3EGsRHMIfndNL+yo4xDEba8aSSVSLtnMiE+w1DHs4kTkOridsMrodF3rRlGy2g5aUWaKIs7Zjas2IjaIu4OdrZbbqxP0eX3aT5tfdrCfMLULlYGdyTvqIyMt3UC+4dPexfuJ/NYtu1AvN+jMt7Zhfl0I6vqtEZgRzrC/MjoknijIDNrW/qQm8s36dYkKCTwqb5QndjkbKtYb5QlDWkOYVe4v1ciFcuUW+p5e1m8LdBAO8D0kKnPiG5v/A6GiiY3ZBejFEd8a/CgiL3VA+qNFG5BI1+FGJLAW3UbHQ0saJ3R1oU2cYTlQVQSQoud9MoYa879EkSyW1sRuNGNShU8d/Qqhd1BVG5R11w77TU+bU3AqVNomW9GDNlJa7jjTrmVl5ikDBADvo4dST22AO8Csi5cttOVCJl7szW8Regp4uT+3QNMU/iorEoNvAxfjuouLGxvpwpYl8lVrdrfepiRC5G/LUSqjoFO9KkfIjNyqFMkSjozKMOw3yNv51qItOVYdMQiAn/7alfsaX1OvO1RRgAgAhTzpB52Q+zrTJnideYoqykhhYio1uQPGoxljUeH4glQmzr3loJDIc+UE9AhiBvb99OhURe6gFFS7At3V3Dmen9PSS4eGXvrUWFhi1UehMhE6R23g1JIUaIfea3psRIYoWccK4D0KsrC4PoUmV3kUeodftfIt78frz/S4PY1PriYB7x6GYKLk26+JkaOF3HClnkaz5Rs7geNSMI1Zm3CkYOoYbjRxriRk2RJzaVjz/SvS9xfYPQ4L6ODzJPUeQI8a/fNurhPnsZ/c67vkQtUcOQ5j3iO16GGbaGUW7jWpWVhcHrxzLI0ij1DasRIYoWcVhnd4rsQdd441jndILodcw9JmF7X16CQLXO/rBlN7Hdv+ty4iGIdt6jxeHk0V9fQS7XTZkb9aVH8p7UpNo/ZU4kE8RQHcRSeakyE6Pu9tYxM0JXjfT21GZVULsDp4ilza5vh1cWjPh3UDU0IxsRH+W1SxvLCyG1yKTOEA2drCkw3+o3zh19lYuFHRmIubaVawA68sk3lCRJbVbkmsU+SCQ/lqPsYZLcErCSYmWzvoOiDypnke9wshFqfM2Lw4ItYMafE5ZMojJF7FuVFgCL8TpW3XbCMD9eFSzxQjttasAQ0Jb7zk9cz7WZAiFgvapZQWykFW5GsRikhRyO0RwqGcsQrpla1bePbbK/atepZskkCW77W6ks8UVs7b9wrCTDLiXynWQmsALYSPx1+NEqLXPW+T1828n+45NB88sseXRbfvUjiKMtbdWOI2ca/elXriUGZouIW9K6sWAPdOtRSbRb+O6o9cXiPAL0bFNttfWtaopnldrL5saA86nP9RhR4k9YIoZmHHqhla9ju+qncaJJJJ33oA3rCuXhUn0AHnHbwA6HRXWzClRV11J8dfqjxBypuQRuIoqCpU63FRoUUDNelhCE5XIB4dCgLuFLrjZD92MD41FA8cshbMQWuOVTxzPiYbbtf0oplMGUaK38isTYQyNbUKahTJDGvJR1mGZWXmKwotjcWOAC18ovbYAd4vWKRQkUYGjSqKlF5YLcGJ/SlgE2KxDtcZSApqRD5ZhLsW7x/bqFEJDEajca7X/0x8o1a/wC5qPNA6bTutHbwBFYwbbZGPtlGvYVHKHNsjj2jqwJLEDHl0vo1YYEPiL7896xj3RogrXNrViMLGZsOTckvqb+FAAC3W1jxUzbNjnC5bVAHgaTOpOds1wL1EljI1rZjuqAu8+JVdLvq3hWHNgUJ1DGsPcxuTvLtWEZFhRL9rlU2GMs6MT2QKhVkzIdw7p8OpjFvhpKYlYSRvC1gM+yJbi3Uw487ifeqSDFCTzcjW5k1h3xLTFdpcL3j9UxXye+cvGLg8KjwmIJ7hqGPZxqv2LF9JxHsXqTJnjK8/QJEFklfi9v2oqpsSBpuqWISAXJFjcGkjCcSTxJ39BF8bH4RN1Gvla2+1IgRFUcB6MqCyn7u70W70JAIsd1HdUN9q2VWEfjz8OpD85iPfrFPIEyxjtHjyrCuYlSNktf1r7/tsKM5bmPqOQbTP+W32SFALHnTBzuYD9KXCvtlZm7K7hWbtBbH2/8Agqf5TkzERWA5moflKYN5zUUrBlDDd+NDup0KOVbeDS1gwRh1v1WbKpblUUqyoGXrEgbz6HQbz1HJCMQNbUpzKp5j0Fxe1/Ssyrlud5sOjbDbiHjlvUsyRGMN67WHRDK7YrExnctrdGEkldG2g1DH4egxrlfJrf7w66urXym9jY/aE2Fim7wqPAQob6nqzFwAV5615SACG73Iet7Kw8OzXXedbcuodqIpZM7Z1J04VGzMBmXhWN+bU/nXr555GbZlQq8TxqJ9pGGqE7baNIvdJFqE+yw8Oly2i1FtA7Bnv2dfA1hgTNiXv69vhRdQyqd7bqGigU8gVo1t3jbrgZflD3ov4rESsjwAes9j6TEn+qwa/mJ+HQna+U5D91LU6q2/9OiMf1+I/trTyLGLtzt6HH//AB/7w6/yXfYO59eQmmVzIjB7Abxz9JcDoZ1UqCd+6jioAxXPqOWtRzRyEhTu3/Y2yizBgtjzqVWZCFNjSqwGrZumf5iX3TS9xPdFYyWMJkzakjTr4e6xBCpuKwilI3U8HP71hldxMNymVrmsV85hlUa59BSLlHid5rDf64/5TTa4yLwRqnu2LjDXyKL+01IW8pw7Edm5HWZlUFmNhQxEb41Ctz5s8Km1xGFuOJNRypLmyncbVcaa7+vNLskva53AczSYmZZFSeK2bcQad0jQu5sBWdZvlGFlN1EV6mxiRPkys33rer7awg8/im/PRGfFqDuSO/6nojSfy2btjVRwrGKdh3r9tf5rFWLQxEXDv/FROybZGPc1B8KjkxM8G1zZAF0A4mo2zxo3MX6uMjl2sczMMqOMqjogxEgwm0ftHPb96mmjhXM50qGba5roVI4HxqbETbfLHbKpGc+J4VKQsbkm2lYJ4/JIbEd2oJdrEslrXpMbneO0fm2Ns3jTMqC7G1QzxTA5D1MMS2JxhP3gBWMaUbFY2tme1YeRm2iP3kNr86immzrIzXSRstuXRjJ0LQopudqL2pTmF7Ee2sQL4jC+8aSNYwQtYU5cyPcSEknx+y52Aja/EWod1fYKxMa7GQga7/h6AKMxbnWF7kn91qk1xGG/7fx0GKMtm18dd9ZVuDbdu6DChcOb3HWKhhZhcUFHlYt6sVTwu80DLuW9/wBaukE7ZtEdRY+IqTaPLFMsZKrfTib8aRy3qMvt60xtiYC3dAb41Mp2sMzDQHXwrGMhENyCu0F6hgkEm1S261ud6SKYNLcLZ2vffSxKrZlJHPxrINpn45bdGTzpf8tqdA6lTuqeIyZSpsytcUMOxSXaP2pBYkcKRFSNUG4C1IgRAo3Dq42WRoyBF2cy9o+3oXKcJsSe3ntb9angMs0B9VDc+2kUieY20OWsNkBlDWz7UnWmRHtmW9QLkwri27PalGywNuIi/wAVHkMWFhXeMrHwrERGbFYcW7K3ZqRf6mVraZFHUw/zmJ/uf4rEK+aF1TNlbdUUZXMzd5zc1FHJlSEpor3zURcEVsAGhsOyl+hkvJE33b/vTZspy7+FLHO8kefQJ8SamEhQiM2b66dBU88szm505VFNJGbq1QuXjVj6Q6ix9CAF0ArJ5xX5A/v6QKAWPE+ksOQ+oYzVI0+9KvRkTNmyjNz66RRxiyIF9nWyrfNbXn9jndWIw7wyG+4nQ0iFja1YdSsKA/bxRSyMfV3fa5AO8UqIvdUD8e+Uxm+UM3sFHEqCLxyC/h1mkRN515cabEqmpjkA9lLLGxsDryOlXFyL6j8K6fUZ8fFE2UDMah+UYpDYqV6z+bRyi61BkIzZszcT1ZGKxsRUaIg7Ot/W51i/mD7R/NOivowvWHQriZ9b6D0crHsxqe03HkKRNniMqk2KEm5680zJNAttHax6p3G1YWRpcOjtvP1pmVRdjYdFx6EMrbiD1WlAkSPi1/2+pN9Ji9w9JLeUKt9Ml+szqtr8TbrvfI1uXQKwxvAnVcsF7IuauGxCmMG/r+yjSNmQNa1+poNwrE/Ngc3Wjvoy7KXFHj2bCoGZ4gW363qabZBeySSdBQNwD6DC4ttsTN4qDUKntSN3m4chU2Jihtm3ngKBut/CsM7yRZntr0OSEYjlWGZnw8TNvK1PriMIPzE/AdVzZGPhWCsmEgzG1x/PQMREZdkDdqZgisx3AVh5TNCshFr1NjI4p1jbcRctyqeYQwtJvtSYnTzoyG1xWDmM0bsfvkVtEz5M3a6+EmaaIlt4Yj4VHOHnmit3LVI2L8pyLomXvZb1hZ5pHcEAoPXGl+vjvoc3u1C+eGNuaisB8wTzkY/v6CcnKEG9zapVMcD7EAG2lYV5Gvd8wtvy216jD+ui/tN1CQASTpTYyJdbPbnl0qN1kQOu40MQTizDbQLWKkdEAj77NYUOFeUvsnfKOy9qlmWIKW4mhib4dpNxHCkcNGH8L0ksbmytesQzDZAHe9MyopZjYCkdHF1NFh5WP7dbRM+S+vQhviZfAAdS4te4tSSxyd1r1Ncywr43oSXLi3dpGzqGt1sR8nZmLRm1+FR/Jsl+0woAKABw9LMPmvCRejyeMy7Q76EciMcjLY62NPAJPnDf2aVsP+WX40qKvMnmTfrwQbTDzDjtWsfGonzxg8ePto4e2KMpTPcf/bTsQpJ0AGtYfs7SPlqPY1RhxgzlezI5/mpjaGQ/lNRKy4aMLa+Qb6VZfLF2jA2jO7x6uJ+jy+4aicSwbrtYRxj/ADUwk2LCM9rLpWDEMUQABzetca3rFI0mGkVeIqJkMa5BpbdTLlnmzIXEii2n7VLhmfDxRX3Fc36VpWB+jZvvMzfvWCMcIbavaUntZv8AFbSM7nB9mvWwIss/95qjFsfiP7a1MHaJwneI0rz2FgjuyECwsB1mzZTl38KxMWI8nIee+ZgNBbfTgRQuRfsrzqGRIMPh1N9QP36BiHafIqDKDYm/W2zS4xVQWCoTc/4rFBgqeca+0UU7ZVY8hWGxGKZIpHy5CbePtqVskbtyFQ4uUTCOYx929/8AFZWOKSThlI6k6F4mAp5Q0TZQc1u7WE+jRe7UChZZ7jtFv2qVG2sLgXy3/foTDvcqxGzzZgKnjLqtuDg1KkYSRsi3ynW1ILYUD/jrClWaPL6sdjUovNB/2NYruppcZxesIGV5A2861sFfFOXUHsio4EjkZgu+kCs2fe5//wA1GmWSTxt0SIHRlNLL5pIx3yLeynjURhQulxek1nawIGUeFEefU/lrthpAEPaO/hUl0QKu8m1IpVdWzHn9gqoXcKsOXQyh1KncajhyEnOWNra8q2Ee0z687cL86IDAg8aUZVUchQQ7d3/KAOsI0ViwUXPHrsLqw8KhTZwxpyUeghi2SkX3sT8aWO00j/eVf2qRHaxWTKR8K2BZ1aV82XcALDryrmMI/Pf4VMm0idL94WpcIBAYyxJO9qUYrczR+2xoYTK5dZWDHeedBJOMx+AHV2beViT1dnapoy4S3BwfhTqrqyncaMaGPJbSilxZmY1HDHGLKvWvQVV3C3WZcysvMUBZQOVWA3CrDTw6CisQSNR11jjUkqoBPVZQwsaC/nb8d7qnx8zudm2Vagx86sMzZhSsGUEcfxpIMyMOYpkaNsrDUUu+sMpWFL/jWTDxS99aTA4dDcL6ElVF2NhSuj91r9a4va+v4wdc80ancATWUZg3GsPJI0jAtffpbu9VPpkv9sdDtmkEINtLt7KjRY8QypoMlyP16GIUEk6dMc2eSVLdy1Ym+3wnv9Ecmfadm2VrfhubH4eJst7nwqHHQSm24+PoGOUXtetrL5Uvmt6br1JKyIx2bbvbSNmjQ8xWKkdHgy7y26o2fMUe19+lf1EquysALkAVhG/pQW9W96gHnJ25kfx0TSvHjiwW/m9a+aieQm5tc1hzO7ByzW433fpWMbzZXxF6xAJxOHW9h2qwubZdo3sSL1B38U9vW/gVeV8Th86AbyOgAD8NSX2bW32oUm+sM7PCpb0Eg/qYD7RUusUnumovmY/dFPFmlje/dvVhmB5Vso7nf7L6Vso82bLSjLm8Wv0bIbbafktaljAQpvWljyjLnNqxEDv3CvdtY/zTwrIqh+HGgAAABpWG7svPamsh2+fgEt8eiJpGW7pl8Pw3iPk1s5aK2vCofk+bN27AUosAB/6brIjlsp7psfSF1Dql9TuokAXPoMD8ydfXNYmN3UBb/obUoIUA8qxd8kdj/qDq4iQxx5hz6I3z5/BrelxHymiErGuY8+FQ/KasbSLb02JlaKO4tvtrUT50B9FLiIorAnU8BvpsXktmhkF91JKjmw38jofsfCStIsrH/dYD2egwvz+M/uD+OriHdIWKC7cKwksr5g9zbiVy9abTF4VveFY02wz+OnxrcB18GP6ZP1rM3lRW/Z2dSsQYrHTPrWLljGzTNrnFb+pip4GTLtNbikcNawPwrDyKsWt73J0oEEAimlVWVdbn0Ul9m1t9q4VGBesHm2C3/TrzzCFM1r1DKJVuB1MpbEG7HSxX2cancrs7cXAqaQRIWO4UJ72Ij7BNs1HjWCaR4iz8W0qaXZ2suZm0Apc2UZrX49XCa7WQjUudfCsWLnDj/lFEtJi5l+6mntrWwvvtr0EgWuaSZHPHwPOo545WcL6vHqzYrJIIkjLueHKopBIgb4ig6EFswtzoMp3GkkSQXRr69YYxnnlhRO0u48KhdztFe11beKjLT7Q5iFzWW3hUMhzvE/eXjzHTiZTFBJIBuFYbESMQJfX1Q/4pZScTJHwCA/GpZZTiBFEyiy3NxSz5sOZLagHTxFQ4jbIHWM5edNiYxKkeuZuHLqvNEjBWbU0zZFZjwFYAWwkfjr8ajxkckmVQbXsGrEy7GB5LXtUOKdlXPC4JFxYXFYJmaJif9xqwuIlnmka3mhoKlxTiV0jizZBdjfdUkpVAVjLE7gKwUj5Z5GSwMhJ13VBOk8edb77a9TGTNEkZH+4AaxGIWBQzA2vahJPtYr2CvfsdSZHdLI+U86mw6iTDDM7dvi1YyKyxbOPXaCkmaM5MQw8G4ViV2zrkGcD/APb0Hm/2Le1q1tr1Iw8WZMlxe6n21s/O7S/q2NT7VuwI/WBzVNGueEgamTXqzjsAfnHRHFHHfKN9LEU7klhytejBds+0ObnWSXjN+1qAAFh6HEfJodi0ZseXCofkxg3nG+FDQW68kaSCzi9AACwFh0t3TUkimNXBs6HdU4uE/uLWLjaSPIvFhUi6Rrwzj9ujDnZrsm3jd4ipI3ZkdTZl50Nr62QezXqhVW9ha++pNcVhxyzNQf8Aq8QEPaOUCsOSYtTcgkGsHJKZZ0c3s1fKCsyR2/3BRUZcvCoI5cOMgizC+8HX9aG0O9Qv79SJlTEYnMe0WFvZasIpMM/AmR6ihkGJcf6QsfabV8ofRz4sAT4VGkcaAJ3aBB3fHqw4bZyzSXuXNbHtswcjNvHsqDaQpsjExsTYjcaSPtmRu8Rb2DpxkbyYaVE3kUIkMKRsu4CsOgGMxVuSCmzxYmRtkzZ1GW3hSwsMKY9MxU/E1BHsoY4/uimhlXEGaPKbrYg/4obY7wq/rfqZcmNld0Y5gMhAvamBdTpbTdWE1w6IQQQtjWGwzQjKFi09bjU0SyxlG3Ghu3WrBfRY/wBf5qKHZXAbs/d5UmGC+UG+sppAwUA2/SsOqNhJAxsGZ/5rBMDGUC902zDc3UxyO6wqv+6KlhSXJm9Vr1k88r8lI6rIWmiPBbn0hUHLfgb9WwP13KhNyov6XIfKC/DJaliRWZgNW30YYyxbUX32Nr1sYfuehChc1uJv0EAixFLBCu6MemhQq05PrPf9vTgAbhbqRRiNMu/f+ML0CCAR9YilEqZrW1t0zy7KIvXAdeSQrJEtu9eri+/02Nx8m0McRsBvNR47Eqe/eoJdrEG+o4d2kizHmelZEZ2QHVd/oZZMhQZblj1sQW8pwgB3saxCzsvmpMpH70L2F9/ojuNQSiaJZALX9DicRsBF2b5nC07BFZjuAvSOHRXG4i/Xn+Yl9w1hPosHuCvKk27RFWFrdrhr1IGJxOLF9AVt8PqGDd2STObkSEdODFllH/K1ZlzZcwvy6MaLxovOQdSaYQqGKk60WUC5NhTyBYy3wqN5FmCMS2b9qlF8RB4XNOP6mL3TRznEaNayVLK2YRoO2d/h6TExNFOwPE3FDfWAVhBrx9JjJHiiDL94VFCwAe/nDqfHwpJi8rpk0XeehjZSfCsN2cInu3pWd8Hmzdope9RsWiRj92sGg2Zk4uSTTztthFGmY+seXXZlUXY2FRYhZZndAWAWwtUM7O091sENR4oNhjOy2GtDEP2XyWjJt468aJCgk1h8Sk4YqDpzrESIuNw2Y7g1JPmnZANAl6TFSbVibbLaZB7alxMcT5X5XqKZJLixBG8HquwRGY7gL1FihK3ZXscG8a2se02d+1a9qbRT7KwVkwMRbdlvUsoiTPa4uKd0QXZrCttHsy99BvoTRM2UOL8urj92HH/OlY2ZFw03aF8h/eoBlhjX7qgdfFG2Gn9w1hvo8PuCtlFNmdZNG0a3G1Z0zZcwvy6I8RDIxVXuRWFH9TjPfH8dU4l2PmIc4+9ewrDzCeIPa2tHETeU5VTzamzHxNfKEzxxBY++5sKgjmjV9pJm5V5RiFwcDKfWP7VmOzzW9W9QYp27TxtlbukC9RyM2LcagCMaGtq3lQj4ZL1h7559b9usNYbf+61AyiPynaHnk4Wq/Zvu0rDLiA83bXvcudJCRii8hufV00rEjNkBzZb9rLWycDD3JNn/AG6jrnRl5io0nOQSaBP3qVM62vbW9bI50e9zxp0JZGG8VJHmykNZhxpFyjU3PE00QLZwxVvCsj8Zm+AoC3E+ilhjlFnW9JgMMhvl+PpcXG0kQUD1h0GIZ84YqabMEbW5tXkySxrkvn9Z71EG2QRhuFqRJwgisuUaZvCvCoVkjQJYWG43rYWdnWQjNvrJ952b/wDfDrNEjMGOthpXyaLYY++1RyLDJiFPeL3Uc71Lh38l2Kbzv/zWKFsP7Mv7Vjvoz242v7KGQd3lwrZjy4NbURm9Rj+pxB90VAA0KQFGzB7t4a3p4GfGpIR2UTT21sz5RtOGzt+/Vxf0Wf8AtmsAuXCRA8qiBhlmvETna+ca1jRKYZWzsqhdAKxMCp8n7tVQViMrwFPviwqUFsZh0t2UUsf4r5Sv5HJbjb+a2ATyNFGoa5PsHVlwSK8DMS5M4uTyrGQM+GZIlF7jw41s5MM20F3DfOe3nUkomhdYwxLC261qw4xUcSxbICw72auG/qYyULE65WYlTuFYN2bDQ9g9wa1ghYTjlM1DB55MS7gZmPYPK1PnOHbTt5D8aSKXNBJGlgiZbNpe9Rx5DIb6sbnqYjOYJcney6UkqbG0SnQWta1YFcmFjHxqONkml0urnNfkaxkTPsnUXMb3tzqN2lzXjZR476w2AlRrPJdF7o6IU2cSpyoKRima2jR/xUsDM6ukmVrW51FGI0yjXmedJHleXkxvQwsdrEsRawB4UkbAWZ8w9lBQCx5/bKIqLZRYdNgdDVha1tKVVUWVQPZVhcnj6TFKXw8iiiAbg7qjgii7o+OvoHQPlvwYH4ehYXVvZWC+iQe5UcYjz29Zs32izKguxsKXEQObCQfVQytex3fZ6IqKFG4faWOmeSdgdymwFJ3qwExkjIPq/UZZNnGz23UDcA8x0Qx5A/ix6DrjE/KhPoMQ7ogK/eHXLqpUE6tuokDeakkSNSztYUuIw7bpV+NAg7j+DMdgpNo0iC4O8VHFKWsI2+FYTD7GPXefTPIqZb8TYUSBa531I+zQta9qxh/pzb1rD40LDs31A3VMxWJ2G8CpJSmHz21yj4motrk85bN4VHIBPinbhYeggmZ5sQhHcItSrmxsjXPYUae3rYr5/B/3P8V8pfRT7y/zUkaSplcXFYzIsQUIuZzlW/8ANYfDR4ePKv6nn+HMSLvhv7lYgkzRlRfZm7WrbI6kICxI3WrERuIIlXUqy0YiuRlW7hrt41KjSROu643VMhMa2F8pU29lBs3qke2lwyCR335uFRpkULe9t3XhjK4rEtwbLTvbErkVidzC3DrTITNhm+6x/isTEJYXXw0qM3jQ/lFTnD6LMB+orBNmR7ElA9kPhVxe19fw3JEkgs1IqouVRYfWSARqOjYrttrxy2/BeKxyQdm2ZuVJ8q3OsVKQygj8a4jMJ5c2/NWGtmrBMSrDl+NcXgBOcwNmqL5LlDdqRajjWNbL/wCgVxcC+p6zuka5mNhQIIBH4axmPkMhSI2UcedYfE4jaDtmo3DoG+pPOiSpGd7dBF8dH4RmpHCIzHcBSPnjDgbxe1QOZIlc8allSJC7nQVFKkq3WsTBt0y31BuKjXZRdpt281FLHKuZD+GcRE0UzBudxWHIBN6wikRa8T6SzSY243R6ViXKQSMN9tKjiaARvmOts49tYx2jgYrv0pockJlZiZLXv0GISYxifVVbfHoH00/2v81jfosvso2hw/upUC5YIx4ViI88RHHh7ag7Sl/vftaor+X4i/3FrHX2GQb3IX41DHscRkXdsv4qJHnlxBaRsivuBrDMWw8ZPL8LywRzCzrekwGGQ3Celw26U/8AKaxKloWAouk4RVPEE+Fqnj2qZb8alTaIV59HzeJzHc62v4irg7jWUjEBuBS1SIHRlPEUFmcLHIoCjeeduiZsjxMQcovesNqJG9UvdaRf6qU/kWsRGzoMveDAj9KiR7s8lsx5cBWxCRSrH61z+pqJcsUa8lFOZttFlHY1zfiTZJmLai++x6xAO8fiN3RBd2ApMRA/dkH42nmeaUs36DlWFTUtyqF88f41xmDkjkZlW6nX2Vg8+e2Q61GmzS3/AID3b6M8A/1VrbQ/7g6YJDIl2FiDY+haSNSoZrE7upDMZJJ0t3D13OVGPIVCxeGNjvK/aTuqLmP2VOzKgym12AvyryeIbxmPNtalRRiMNpxNYmQxwlgL1Etg3InQVuoZd441i8S8LRBRe51pWDKGHHrzQrJiF84VbJQFgB04Yf1GLP5h/FbaPa7K/atfrYj5iX3DUQtDEPyDrB1YsAb230zBRcmw6uBYt5Rr/rN1s8nlGTL2Mt7+lxsrRxIVOpkA6MGzusrMb+da3s+o4rdCv3pB+1SOsalm3CmdVKA+tuqeUQxlrXoagHrSO6zwj1Wv9Tm+UYImK6sRyqDHRzHukekZQwsRp0PrioPYxrGm2GelMmaGQm2ZsoXwpxdW9lYX6NF7KxpVWhfiG/Y+gYf1sPuNWKneIxqiglzSo8TRXctmNmqWSRSAkRbx4VhTPnxHZUHPr8Kwkd5Z5W72e1SYgwSnadwjs+0VHmyAtvNJPiZcRNEptlbfUTlo7tvFwf0qHESmzyWEbd2sV9Hk8Rb41awA6uOzDCSlTY2qEbExzeq4s5/zWNfaYWXJut3qXur7KWWNpCgOorESOMiR2zvuvwqB5fOrJa6cRXyWp2DOfXa9MwRSzbhQxc4kjMsYWJzZef61I2SN25Amo8fnTPsmyes1MbKSNdKgl20KSWtmFYqcwR5gLm9qlkbyVpF37O4rCYrbZgRZhajK3lSxcNnfrz4hkYIkRduXhUMwlB0sy6MOVY8Znwic5KdsqO3IVgly4WL2X+NTHEtjZZYt0S29tRuJI0fmL1BKxgklbmxHsFRtt8OCdM6Vgyxw0ebfRntiVhy71vfr7WWWeSDNpn3+FZjDE+fXJuPOsMMQe3K2/cvKpJchCquZjwqKYz4lQyZTGDcVitdkv3pBWJ72HA/3KlGbEQrwALViZTGgyjtMbCsNHIkfba5v1Z5V20AGpBO6szf7Z+NeVtoTH2M1r/UJSRE5G+1cKwfzR9tRm8a+l/8Alr/bNTRCVMhp477PL6rA9EaCNMoqfD7X1yL763ADrkf1af22qSDPNC9+5enF3h96/wAB0QjzmJ98fxSxukjlbZWN6xMJlaD8slz0QQbN5m++16yDt/mryY7NUMmi939KtcdrXrTR7WJ0+8LVGmSNV5Csd9Fk/T+axSyHDuIzZrVhVhEQ2X686k7OJhc7srLUtlhmI5E1C8gghkBsi5RbnzrGKTDoLjML25VibTRCymwdTu8anDNDKF3lTatiVwWyG/ZW/Wtyexawvm8DGeUd6nTaYXN3jo9Ygg4OUjjEbfCo4EaKE6ghRqN9ZcuOj/tHrnzeKLnuugF/EVhrjFYm4tnswrEg54XC32bXPso2mUjXLWGzCFVYarpQjmUzIFFna+b20qhVCjcBaoopTCIXXKo3/mqOCVF2WcbPhztyoAAWFT2SRJxw7L+w9fCx2xGKcj1tKkjEkbIeNIJwACUPjRiO0Dh7aWNbBM4cEhufOpo9oBY2INwaRCNXbM1PGr2J3jcaaJHXKwuKENv9WT49URZJMOPe6ArZGhMfHRuH1Gf5Me5MRFuRrC4KdD2yAK3D0the/H0the/HqAAXtx9PiUL4eRRvtQNwDzFbOMm5QXrTdarC1raVlXLlsLcqFgAB1jg4+DOF+6G0qwy5bacuiRf6nDt4MPQPGj2zDduoabvQGCEvnMYzc/qrjzkP/b7HmkKyQAes+v4ylmSK173O4DfSOrrcdTEfP4X3j+BQQb2O42+vYrHSO5CNZR+9YJ5iWbObCkbOob0sJLYicn1bAUZkikxDHd2fjUT50DZbXpXRr2bdvoEMoI40+uLh8FY1NiI4cub1qBDC43dDMFUsdwqKWOUXQ1LII0Lnh6fzm2/Jl/eiwUEk2HUEsZkaMHtDf9VxbMIOybEkD41CSYo778v1XBHMJj/ymmaQSxgDsm9/rssTRSFG/SsLIASp41EuWNR6WIHbYqxt2h/FPAhxEKkdmxPtanvlNt50qRG8oVEHZZbH2DoNvLE/tmnRZcYnJEv+9Q9iaVOHeH61tneTY7mvqfy1iPo8vuGoMO8cccid62o5isZIGwz2vwrl18XJJHDmTfcUjho1fmL1hmdogzHvaiplaSeZrnzSDL7d9YWYzK5PB6ixEcpYC+n71tOyWC3XnUMm1iR+YqUu+LWH1Ml2rCZk2sJN8h09hrD38pxftX+KwgK7ZTwlNYRMsk9+9m/Y69bFTNEYAo78lui4vatsu22XG1xTuqLmY2FIyuoZTcVtht9lb1c3Ww9zisXrpcDpxrW2Hv3+Apeyi+C1FHkMnauGbMOm459eSRI0LsdBUM8UwujVPJsonfkKSPZywHMbvfN49LMqi7GwoEEXBuKuL2vrRNgTXye67E7+8eFQOz7TNwcillxAdpSbxZ7W8KnxEgl2SDUi4NRPnjRuYrDyNIl2HE9SRssbNyFYOcuMr97h4isTM0SqR96kkkz5ZFGouCOh3yLf4U74hJIruvaNstvTyQxyizqDUeEw8ZuqC/poe/iPf/xTorjX9KAI3tfpSFBjTx83fWn83OJLdkrlNR9p3ktYEWFLGfK3k4ZABUiZ0ZeYpRlVRyFYz6NJ7PQ7QQxzwnh3PY1IuVEXkAKBySzXU9uxFYZMu203yf4rFJaTDhdA10P60w7BA+7WF0w0Pu1J5vEiTKSCmXTWolN3dhYvw9lPFKJTJEwFxY3qNMi2+J51s38qMmmXJbrTi+IwnvH+OiB82KxH/W3sqdL4jDEd4E/CvlIf0j+1f5qGGXD6J2lPDkagB8sxLHkorEtiHxJiT1VDimxKeTlxvtuqC4wKf26jMkXyYrA65c1DWxrCf/IbnKf2rFvNmWOFrGxYnwFQT7UuMtilr1jg7SYULbv1iC3k82ZfUPGkk2MGGDcQBflWId9tDFG1j3j+lTzGOB2IsQtYbDyZoxro2dm/x18YLxovBpFBpYhBLhwv5h/mvlAf0kn6VD51xJ6qiy//AJrDviJZTJfzXAdABf5QkUnsgBrUECk248KnzZZ5lPaR7D9KU5owTxWsELYdR4n+agUhW5l2qK5hEJQ/mNbFdttOOW1IuRbct1Ye/neyQM9xfqYkEwOAK83KYynqnfU0RkeLkpuaZLsh+70SJnW17G9xTxltkeIb68iZc/5mv1VH9XIf+Ifz1pxeGQeHoWhidlZluV3dQqpKkjcdPSyRhwNbEG4NC/E3qSBHIa5BHEUkape288TvplVxZhcdGG+cxTf8v8ChH/UtJ/xgVKi7OYhRcoaiH9PGPyCkTEbIYfILDTP+XowekTDlI/8ANSRybXaJl7mU3qDzMsqOe+cwPOnu2Igt3VJ/ipkMkUiDitqliEkLR8xWGilBMk3ftb9BUqCSN0PEWqCbKBFN2XGl+B688W0SwNiDcHxFRrJfNIRfhbhWM1hA5yKP36FhliZtmRkJvlPChm41sgJzLfetujYRZy1t++khVNLm3AcqVQu7n9ekljj77AUmJgc2V/qaraSRudh8PsbDi22/ut1lTKzketr+vQQDvF/T4nXY/wB1fsVjlUnlTyNK5djqawC2w8r8ajN1/BVwSRfdv6rKGtfgb/YrDMpHOp8DNEdBmWsH5UOxszl8aUWFvTCaIyFM3aHULKDYsL9EEomjDgUrKy5lOnVWad8XcfNB8n1HBszRvmO6Rh6NjlVjyFQS7aFJLb/qcB/qsX7V/isQsh2RQ91xf2fUzoCaRw6BhuP2MYxtyv3iGX21NMkQzNUMkslyY8q8OiYJ5Fn9d9a9Qe7WATLhU131hBaAe0/zWDBZ55TxcgfpWNlyRabzamzMyTFv9QBB4U5yqx5CsGmXDReIv8axLy7WKJWyq29qACKATu5+j8oBOWMZ2/io32i3t4EVnTNlzC/LowX0cHmzH9+uSFFydKZlUXJ06ZPm3901gVy4SH3euSACTupXV1DKdKzKSRfUb+iLGRySZBxW4rETbGFntu6EkRywVr230zquW53mw6mHkTyjF3OuettfEbMfcvesRJifKPNbkS5HOklR41kG4ikmjdnVW1Xf1pJWzZIxduJ5UjTNLJHtrMvhpS4hhMIZALkaEcfQHut7KwX0ZKV1ZmA4b/sWUjJOb9pWuP0qWPahDuIOYUNrxy9GKjjXDyZV1P8Ak9CxToNmjqEvv4igAoAHCkV42YZbqTf2VNh1mBDHl+1SRZkCjSxFv0oi4sahDogjK3tuNMiuLML0sca7lHRK+RLgXOlv19D8nL2Zm5ytUWjzj8wPxFJFmgmkU2dZWINM3mS35L1gr+SQ3Hq9f5Q+hy/pWOX+kUeKVie5GOJkWsQbTYblntWLkSPDyFjbsmsPbyeL3R18SCcPKB92sOqiMFfW7XxrDC+Kxb/mC/CocwkxI4ZtPhWGwweCM3s1rg8qxsbHDMXa9rdGChkWNZk1JJzLzF6e74rDAjcGboOIkDJMX7Jbucl8ejC2tM3OVqt/WX/4v81tEixU5c2uq28alBT5Pyjezdke01HCIZYLcUKnrYQgq7cS5vSLfHTNyVRU8e0xNuIhuPbelYMND7evKbRSH8przi4aMR96wrD9hcjjK381OJM66tktrlp1dlARrW4mpmYpGGW15F+pYjHRQnLvblUGPEptkt6doo2NygJ6mL+bQc5Fo+jIBt6FEVBZRWRc162MebNan1RvZWG+jw+4Ovj+0rjggU/qTWIi2sJS/wD+io0lZg8ttNwH81i7nYgL/qj9KxiK0EhPBTSCyIPAdcOhLqSBY1g/oyfr/NGGZZXeJgM/evSLlH8mkRUUKu6sSheCRRvo1EmzjVOQoj+sU/8AEf56Fw8KKVCaGo45EGXPdOHMVHGI0yiuN+NEA7xRUNa43VppUcYjQKOtD85iG/P/ABTmTytwoN2QC9AeTyHQ7NuXA1iiHyaMU4+HjSyxZQA16Bvw6hAIIO40iBBYdTE/6P8AdH1JiSzE7761gWHbFQX2ev1KcfM/3V+sqAosOvjvo58WX+eoyhlKnj6B4437yg0AALD6tYC9uPppdZoF5Xb6livk7O2ePQ8RUPybMGuzgeygLC31J1zZfBgfh9gYzVYl5yr9oHNbS361HGQxdz2j9sTSlGgUes9uvnXNlvra/XkIfFQKPVzMf4/CbSuMQouMugt7fQ4aRmfEAnc+lNKFkjTi1/29JifpGG/7H9uvu+UvbFWI2mxbZ96uA6qQKksknFvwFu1qfFyyuxzacBWBLhC+ao2zorc/TYcrMomyDNSSK5e3qm3oMLfb4vlnqa/lmFt+b0kv0uH3HpO4nujrf/yQ/tVmXNlvrbdTYmFHCFtfQLMjNYfp6YtYoPvG3RBfynF+1f49BJnGNg17JVtOtiMW8M2XJcWvW+oZWeSdT6rafX5kzxOvMU6tGcrLY1hZrdi2+oxlRR4emwfzA95v5qHsvMnjm+PXM6B8naJ8BWENxMbb5TR+mp/aPRPKyZAi3ZjpUTF4wxHoZ1zYuAfla/Rg3ZlmzcJWqGRguKvrkdrUskkkZxN7WtlH80dLmsHFLdJyx7d7+zhQWQ486jSL/NRj+tl/trQjU4XEy+szN+xrG7UmBFa2c2aoV2UrxerlzDrQxjyrEDgAnXlnl8qWFANUvc0Mag0k0bNlNbQX7ILVNiJBKixrfskkUjrIiuu40rBhcG46I5BKW0+bktUs0cVsx31Cf6vFD3aknijIDHU7h15pE8owtjfVv4qebZws4G6oJ9qDcWZe8OpKy7eBSgN76+zow3exDf8AIfsCSGOTvKDSYeJO6oHp4VKR5TzNXbypOzwOvh1xWF7kn916xMUrOhj5FSeV6jPk/m3PY9Vv/wA1PaXLsj2gdGHCo0nRAt008KAb1mv6Db58bHZG0RreNC/EWoOMPLNmByt2hUcZ2UlxYyXNvbUcGXBiE78tqIuhHhWHZljSMxnMot4UqHymR/8AjAoINoz8SLUuHl7lxs8+bxPh0WGa/G1utAO1iG5yfx15mRccjH1YzpzqLDdiQyDtSXvWBVkwsYbfUh2eKWRh2THa9YZMsZ0sCxIHtqFhhnkiduz3k/8AxSDaXkYb+6OQrDLlkxX9z/FSZTNIHG+Oy1FAyFHv2rWbxp0dcSZcmcFbeIoSOf8ASP6mtePUkjzlb93iKmUbfC6esf4rGAmA2F7EH4VD25nlAIBUDXqTDz+G9rfxUu2uMlgOJrA7TZXa3aJNF1BUE6tu+2I0yhvFifj6VvpkHuN9QdHY9mQrSJkFrk9dVBx0h5RjqlVO8dAUAsRx3+ikUmSHwJ62UFg3EU3db2GsOLQRe6KIBtcfX5MRDH33AqPEQyd1vsVwfK4D+V/rCDzszewft9sSvkiduSmiS2pNyawp82fbUTFokJ5fjRlzKVPEVNgp4mtlLDmKwmGxBbcVHG9KAoA/9Y5/lQ5iIhpzrD44uBnH6/jXE5jh5cu/L0QP6tR32SX5fjWX5LV3LK+W/CoPk+OJsxOY/wDrG7qilm3CpflCd27JyisPjJbXY3rfr+NMYhfDSKN9uiFjmyjjSDKijkPxrLgcPI2Yrr4VDhIIdVXXn/5tOm+gVO4j8ayOERmPAXqSeWTvMd9QSsr76ifaRq340kQOjKeIqSJ4WKvUaPI4CC5qGPZxKnL8asqtvFKiruH/AJtmxcMOjHXlUWPgkNt341xDmOCRxvC0SSbmgbGsMbwRnw/GjKGUqeNS4CdG7IzCsP8AJ8rN5wZVoAAAD/1jm+UwGtGL+NQfKKuwVhb8a4y/kstuXQKjvs0vvt+NCAQQd1S/JkmY7Mi1Yb5OysGlO7h/6xf/xAAtEAEAAgEDAwMDBQEBAQEBAAABABEhMUFRIGFxEIGRMKGxQFBgwfDR8eFwgP/aAAgBAQABPyH1xwfutfzKpXSln8Ad2hqwxm94Ign80dIy9pWGcQFP2WpUqVKlfwt8anfmXsdTSoP0GcHAt/Q1Klfxu+R6a3jo67r8B9oEy4k7D61fxZQ3gj1sJxX4lYgLG4Q+YWDwvuR1YI3T6CJj1yfj8yXfonzcZldYlm2Fe8EzmMzZptAYpun8ecyusbsKIuRN546zf+zEtoX/AJR9VbxNFYXSb4xry5joyy4CvdKKWy8EW03VS8JL3/mIMn+5iEgNzzKwuT7coUibfkxKuZVs+4dkR6ZmKVh/jtm2MfMWA1ub6lAtaICsyNYATYPiC59BzCCkDBuqEUy5+VhyBzd7QuGjbwkd6oH4hS5r+S5ahSVpjxK13hEznKuIbRf3jThMcQAKCj+O1RJ3luBfXX5q9G0dUHJs2f8A4xZGj9+ujZz9AgivQj46DrEd4xTv2sey/lOPHoyxrT8w+w+iBeQQs66/0A8bj6rKVZPibfodnwx/K/n0wdeSp3kOk1IK4Ec5xG9+rXWlQSwLSaJNDFh+gOlqD5lV0tXi8nd7R9mH56rrbN6YycRKzmLXY+gMmn4oFg2QABdXqsFysdKBC5/KN2sgG8uAStXeKv8ARmMC2s4HmZnhGH/KEANxZ7OlBpFxGpv+Mu7WofHWoCzkAxKLwxrM+BzFlgGa2gkU7NoHYV1wTQghReOZUuks2t7CPqKNFtRwXNdPRFGxWbHTZyTlgZbW8soMhVsuaFUbPSwLsrn02prTNQW/2enPhix+7cX3l19g2o2XtMvD/ExNoLGDh44YUlMDeqwebKNqjeNaomZiPP5Icdq+RvSvXLxegiaZmdzrb9AXvBnzNT1CxF4LldTNioYe6nzLAgAtVA7BojKqwRit2L81AiHUOIAJBdTTtkm08HuwVVp+UDj0e6YFtDB3mCo5qNpY326V3xf2mkFNtTxE6LafOGFUy8qR64EPSiSxRHX1y5VkEiIYTFCed45hg0u5MA50TIbbCS9pQ7QurhxEqtJ9zpvVwdWBKYoexLXLPduPeHalNHeAo5wR0ei+LW8y53hf9Aq+JuAbnjIzLvtLgNEexMOx4bTScGnLxK5ktLoCXVFsq8eqa4LYk+074rPie6OXgS8XYFlGNXSUIEcG/mEmjLSltoG8DrTg2TMJcGyLLKMD0PApvf7CIF0VdsRpvMINvdCLFyNPeNbUIBZZXoD2G8DQ2PyzRja+usSXK1YTBlWO0qDu/mZ9WL4W9Sgb3vtBu3JbPNIJvBnMw7qd3tCgOtfQ1NSu7iMxby+6L1VK+3MqV3UCbkF+0w8ZpTPrcxwfRSvBfBDlaOgsqvhqFLXmF3iXg6EbrAlca4PmVHtJSsyyde0wJdvkgtwwIe0tbK1OTGZ/YHMwCAeElYNlQAJ8i2Ug5y9N4rsL2gLXyNpe85W/iUvSx2mhvhL6XGh+o97VPvDkIttmW8niLbjs1AACg6VlqjoB8+gAAFB0GsuI1x6ihYmYABjZDhhf5i6tNBIoiIEFBoQIBoj8QuhFbtad3ebRoq4RdX7MehwTaggdhIgiJZD6ogVBvmItQ+ZcADQD4TMtafaChlXtAAAAaBAcR4C28Zs9l49bCg8fplwWO3R5ilgeHpjY9VlivMqw0s39L/j7dTswQKV66wqlj/JtwL4+uTufxgLcJPk19ferz9RIrI0i6mBfp0LqCa5SN9S0K7E0FvoNmDTKLFeOt6/Ia1+lhsLr0ESxvqUBVomHSZmkLT0FgvJMK1S/o1irC69GcFvyHS3J2vSQGIHJUpmBKprVdvoPmh3gi2BDQYPrC6EXW94hvyVzGtGArz11QiZoiCOjHEGaNqGi/wAV1aqKqCgphsLGC0NWZ/iP/E+85lFCc/M/xOer7Zhrxr95ZdXL8UQW26aYWda/Lo2fE3Oa/nqdKXXyYSc6lc7zF1ZceBqNMb10r7xYaC1hG6JZ0opdlqCcNP2jF2rb5igWtEw6PTN1XFix/dYxGdW1xXtFXtPmduD02tDKJwr4l8hpLksWka1hpixT4i6EFg7qTeWL7RAlMdH1y4tYvvG8Gtqlj93rlOqVGP7UKVKkYs7k23V/8l3/AFg3+mKPCZKWcs85Uahv576dYL2AfdysOQ1IPaBUr5yzG3Br04ZfHXgQ7Oonx1KYWsLtAXia6bWJpDyqqOamxX7ERsvltNN62/L0gd7DbVZc9xfiFq6i/aUso8+8FOf/AHi+hLKbXxLE7f6IKao5FS63dniZjnR5IxwxXjMtTHKulJQZrETLkp2zR2lmt7F77wJlot1WMMr+UpWQ5RhuCshjTnqJSoGKvLMzrw1mzyhu8y0LRqTD1XNJQukO/rQ2q5d5dJwVqxGRgEQ5AdxzDaMo16t4CF26HY4TK9sloyl7sYgfcXMNGjDhFzMICF3S0t6nsQ3E3ab5hRXtNpQ15wPVCDVHwjdOF1iavE1eitjCT8ema8vNT/ySdqqdRYI7/XWMhqtIttxRwHaVBKoHvfXWxlbyxO1ZiVBgSsTj6qCDuQADQKOlyqQw5qKB1C5QlYHxFlyNhxM33D0S1og+I/iWt2XPDlXKKUyFXMx74zGoHqRTRXuzPSrub50sY328MF0a6zueEtm1CvjpN2cfbRzdy5c9jpGQg61AqTRUW1cJCd5HwTVmgD0Yht2NZ7rjj0VCFmj+nW6qsbwGW7LcIPv/AAQAKD9FjdQo7XNPca8v661hrHzF7oMNa3/NQ6BJnQf/AIAFpOQ+YAI6l9DlYISrutYneg+o8FF+P0yAWavL0Qq3XToAW0Hl/fluR7EssW5+gNF4Lmg95Y9xv9I7+azXRb33PtMXtfDfhuf53HUCLQLl3EpTW2lxOwNheOZd2QlsrbW2Jx1TwdSXUdVKY94mesB3YSrNxiIai/P0l5a/iOsvRo14JaxdGZeTLJYsEUKqfhLMHt+grVL/AEdW1W0+IKDAWnH7be1Rq+srmC4+a667ly+02DpzXbCCugtZ/kcdNiPUK7krXFjNF47YEriwEAXD8QIy7/VS4qMrfeUVY19a2qN1gv8AtNI4L1LhByxqNyY8SpO6Glx+Pr0UzY1XiVUsqR1Joa4h4mz7coWxtauZSZh32uNjUo7WBmX/ACFziZ4u0PEVScIeDWc4RtvMvMJhG99TpztPsdOHgjpbRLxZp9uslbga/RNAroQAtWfULaL9C3g1EpqqgUsBj6xw3YPAgo8/gmI/6rpKP5grNzcoR4DcPXLB7VpNVQZK3zFlagGshAreuYUaAS33xWYAUCd+sqiS7p7SvgDAO0DSJSOqT2DEZl5JTV90bEHAYysGwaroGQNmhe2I6215zvMsnbNcaTLNn7smss2VhOiWJnsmIhmK4hglkQp19ojW9fnYvUlU3e0QbrhxcK1yL7HT+Awbmdx5Jy28fmLu0n2isND3Jo6iN3zEK6vp4jdLR97EJWIDWi7lCegP9y1WvlvZ0kJ6tOynqqVUkaeCxNdJK+hK1lHd6xYf4qH4MEd/XnLi+pDWd9GDzPuUQCtEkvsV1O8GqDZYsgFNa/W5/wCTE/3eIewH9/1fjMe76MTvCURVND3g6q4k7z/2T67V2RfeZh2ZaqFNkpuzKcD8oO4kPiAnqlHtNWgV8xVKX9oUh16Gr7yrAYV2y9ub+hSTTi6EvtQYS7rgduenMimxvMiVRrbllE3x+cQw/wDrajNijaikThLrdndl2lWZOIXLzTa9NdCBeIox4Gsx5DUH3YGTTUdt4axCcl4JvIHo9sVr4hg0Ygi6tqjSautL/wCxLQ6lQlvJQGUqKcG9lfgkzQbruv63TKFQADQAPaGoNbPn91uVFtwPM7aoxFEtSb9Qm0u8MoWgVswTiNA2mIDnl8yrSFFreVoMVUBbEdhECoV0FQtFI7GEAqVedvEcQC8n0tAWd34dFYoXmDsEHrAqIAh19AAwV65bx8KTRj0JiWJUarpHDMbkEQRw/wA0KiapA0rIhNk9ox9Zuyr0Ru2+0QFa5s8RhFDj0SeqT26QCF21ePRQ1T+N7VivMZ1Dgh0qDT61xaMV5mNqd0UwULiUPLUZggFKDWVKGqHaKg0+/rj2p/6TBYz5VJrk8RvsI8d43tr/ACqjeR2GZU7H/UcAkaGyxAQsdSBMALUHcroU1D5iKsjcTHBGEDBbxCZQBvoRgmgRNb0P4zZz9euIcMT1fOsDvDLDddS9dVXIq+ihESBaxt/GEPcWm7O8Gl3A+X/kA8m3wequvLXt9B8QPpLX8LvvF4nLTPXZyfxYRAFNe3qL7C/PriuV+XoCLuNynoLcd4SpBaODtCAbwUPf+JiKA9yJSYMu6xLzY0desGgkQsn26rKqZpfTW27hIpZzt26tPE25mmkz8aY/ocBLqfvH6+GBbR+gddpGBW2B7zOOvjOXaUIJyRo1igU0GrDL2tGIIylh0BBnyzNr2lS1LTmoeKx+UWemr2jNaGjxDqsIFyMr8QPvNTmQwRCqXM+X9iatnvYbx4sMNbWgYL3uXWXms0h5FtjjmHf/AKvop3UD7VUAuRX9jWomWqeK3VhAZAfaVY0X4i5KVZHetdNkysmyMK5e9fXyy1spl7B5Hu6c3mLurtN+XdZYRR/01NTLdTa0SfVS/P0aZgUdio0ORLKvaU1cgXvUwA5U9mWt4iV2lT2lkTV1JVgae5NQ0bjMZqwsZpnG4YtEgWJZ03A5/AjGQANVlbnIQOlqXYilNh5g9Yw63JQFkB7sxYBdenkmTdCB2KiyttMw2tEZevDZe/q4BKWU6Qz4ehYTi8oB40+XU6k0y5VtDgYAPZlb4W+EaM7WFRGbkN5Q4qNbbIquEfRdgFmaBnncz/UHli1vvUPPfkR9vzFDpbsHcgSm5RzlAnZeB8wqhY08zR+CHM1WAuKo3L8tx/kxXY7Qe6Ky5I1/cB7TLVP9pnRu3suHnZzdCCImGHTBoEv6mPmUW12VO511GcaKmiM0XihlpQmGBGtoBfXHjZomEgQeZfjEucwa7BEasLIPttlvVzWQQ06rk6/2zA3EgezBVG0k6s1H9TKLIU986VBM1A+yWhiye6WUpqVjEdeo3yw+IZTmgezmOq3SPaIUSG3xWIrWoOm7gbraUDgGlOZescG/dDRFdKl2SECF1UN7LSX2Za4y1vHeUh/m5piCv8dI6qQIcVpFaX+N4v8ADx9ccEUAaFeIxUWdxGCTFGjfMJYnGTeneDQhwW9JDUW2+YoEw0aiDqD629GETdjWEURL6e/Tf6Y901CYLlXS21+sR0zJd/MMQ3qeZYWxtGvEXvfO6P2jl5OVX89abQ/JC4WDZskobwAwCtqN3bC8OrwzNZBohFHFVe0DSB0dh1ExZgR7Kgi9pGmUdDaLXPzYksfLpwTFB2phXL6/6ztL9L6QwA1Hn1CoAu8c/vCeCjmZya6witnVf2HzOL+K3/8Atta/I5gOrfxUWHD/ADTmHpmz7MudJzcf5ro8vO8oor3gV/OH+aLqITRh+s4Fmutb8wB6Avv/ACN9NllwNUeCGlCTCed+lfkM3RcVDO+6l+jQf23SrHDlC84XgZSz1NJ0lujAQMrVxFvsMfxt9R3VL4uMzWch6vT30t7srW39XpWQ6clTCVQAfM+3QxI1WixQW/0Soq06JC2c/klXC4HF1MpVi+5LtTWbL0v1bGtVWNm45ww7a0P49rrDSJ4Oqm94amBBor2IFEGrNYGQTu+YbAUfPWGrhr5iuh7jDFWVvvwzagAHeCVgDP8AFVrlZsIe1Kx1ePgR0NLXx6HZ1RPmF0HEb5o7cwKo4KjiztD+ShlQVaXAcg+AejidBvaPzjFLim8tfS2IKBdUP5K+qR561oQGxPx/Nb49dEb8i35h3jp9UoFrR9Zay/Tsurzx+ju6aLi/0bn0FrEAaJf7Q2u2pszCSu0OlQHSIljZ9CtbiPmJt4L+JfI4NO8oGOT9C+5bPDHX05HZ8zQXx9IIwuAniAgV4Q/ova34fo1w7PzPtvrfrQXzr6OhbpBEEbHf9mRRd4A7JaJok57RvbYoQhQLWPdBpvYmAHbHp8/DNWGnzl1qZqm4/q4PUb4q+81mNByukzjCa9x04f7GY51EfjD0xUU4c1iWWfZh1oPzflqE/wDKEfoGdx9olQlrb7ASi7A3PMOMoltqhtNnDTMbWoHSsu00lMa4Jvsmej/1MbnYLYgv/wCj0ogAarNMLrUJhQLY2QtC94UnwgQkB+RoUgblxxKOvNGkoze0VPZc/toDK5wwZcaqLaHSpuQd2/LBRdvXP/0J9FUn+qgQv9V1HQYnsli7ms+fqjkc6uh+jYCrgmk3y8vQcWh7AmX6veUBSboR+8a3WoXS940hnUNvEadqhY2YOhFURGoEpxZAqCnXVMJ2zJ4iBm7mq6AiWJrxEgXNluBAo3uBsROzGPCWXiaLlvEpWjszJ0Dm6iYHsCrmV1zf2z1J3PhC4B9s852hLQWr7Tfx1fGzF1UK5e8KdE6jhCOkDFNzAgFBddhGYVT1L3i2ym+6Jkr2bI9NpCXyrgvAV0HEWutg5buFRZKp5PHnpHXy9+58S17FXRAl6TRDyOZSdZuI3isvDdzCKoneKM3ejuXmC1pASpYqtl4gh71maELuBrudqVFzdEv2Ru92dBrVCIwIcB5iEE8DPLSXBcH/AMQvWoT4PE5syeekK/8AJEDrNjldJVMNFVl2I6WZFPlPucOPs/Etkbbb+ZRzVfHEvcdBmjv6/D92a9wL6fkwz6DKWDXxBR2V8zR8KfD6V51trBAJvBHR9CuYindR7nVplC2anJgCB7DvvAANEx0IIiWO0bB2P6MF9+L0SFVaWaS+goKADt1kZsB6FrjlKaxWkfaEPrIJkvqctTFir7ROlqzm4AQsdRm0Pu/30UXdF8xLxFuryrxcHA1AZYANg+EadSWFSbDUlsSIU6tRpuzWA1auOIipF1Q6yAC7vlf+S0wZEe5DVuLK4PBAc3iVK0KxKIVWqhjo/GvCY4XAINl/wD7envvPbEYAK/7XLKCFjKVDhrktdJo6FUPAmUviA/sx52jJ61ny+lVYTXl38TQ6zH4iI34ZCIgqoKjTdFZppqnYWHwdD6Ifq58x+uAkYgyxaOw/kHgIHJuQo+85qGCgK4lJPW6tl4msfcnqhMLjX94fXGcM6yg0K8elvU+u/rzvFtTy5+jogOvxCAXSvH1hEtpBtOQfo5Ei09z6N29ge76Fl1eeP29THXIxf6F+qvlvtPFz7HokEOWCII2OnVqM0ZTeSPLf2iwUNs07zEVtyK7hKuRr8z/W4+hdCsL/AO73oWRml0nN2fjrJrbQ5XQgWVstyv8Az6IY5HQkl18dZmuq8wxBTS9M4lqxYNDuJhcp/LOPp7P7N/TDgtR3ep0iqqm36u5Adt/iMgbbOPoWhBYsl0dpf8gAamLvZbxfMOcuZvzPeDvgV54R73itiDNS3ZkOljSAV7xSNKRUKoWMSzTKsrHFQHZTL8ZW8K54GHYAHXX0idoYgpbaCpsfxDRW7YrH39GGrG3UuLRimx2raGAMRaJhas0eUsUNqO0hdQghbSCfVv3etsr2cA7GswJy+TxCKp6Oe8VM9g2fEQv2aamLvgX0Uqh7hfYlH06NsHeKh1v81zGktovd6src/CNQ2gna93KadhKPtGbsNe99Y0MJPmX9mjyh49Ih4JG5WB/b0XCOZ2jjSjuUaviE9z/Y6VAtQhoZrfS4TbU1s/o30vi1qN7bV3zCWHJNdgx9B8TU359MmhFCxNF4fQAOihwl/QuyflRWUUL5iBZADFYIgtluKX2gVuvmDIQKr5Yf/cRcuEZXy7RwaAs7f/UMeeD8Fy0Q0bCLOoWpuHzKJ0M+IvawmobwDx9wXHPqQ8CWcQdtRrAAoa1H2dBOffCVmy9Q1nf3QJQVUsGTEyod8fTQylt2KW9ID3vmrasRllp5Y5g0ZOLQtAQ0Pfq16RUYxy7QcCS2AuzUzOJovz7y2AeHBVHeDhvqXNbS8n/QqKTAo77uH8HibtyoTZfIv+dHiwP3nAyfiC/rci8dFIXj/mZxEZ0MTIfoGvB+hfU1qlvBZoq84nJoZ/ZQj/5z0Ifw+Lj1jlvI9kXbKtJpA5AQaiQtpDVWvS98j5Q6Cy1lXmaTxE11m1GnEv6D71S+4r6F+gGgDeYu6L5hQYKml0HUyC1qRUmr7Evwq210Br/HSZ+xewcwtIvQtbv+hf2oW7Afb9D5D+2/2kIau38Q2ucu1ww3LXyxoRrL4H6B/nK4iTgNUWsIFLuKi42jH8yfTJHaBtSIbZy4z04uWl0TSieqgoLaPoqFgHK162cy7EEhOyo/P0BUBZqfRroWFXvD6I1snfxLQPuXp/3189MLpR3th+gnZV2+I9WDuiNn9BX619avXNzWW12b6V9rG9XREZ46ZMoe55GnS3qR0f8ABR28TFUobNGWrbfmjr1Nkmqq7HEEOs4a5NYNUoVaFbwQqFR+IUljeKOh7RhKmk8ItWpTxCYorEyINbrta5n3TQU9kr6l/wD469L7Uf8Af+4KBNdXPb0qTm2FWop7mYPoGznF16VoXiFiVRxRFryvqOoQz6UYl13TNBqAfwi6l0qSvn9afRqAi6NZf/dGEx1y+oH/ABYhov8AFQghi92senmUC77sw51ua4395PcuargjwOoewEthbS+ZhrlE+SeFTfeVWGki9nEw0IRvaa9QsA1WNSNWFzG4wYz2IcrsyJoQOg56zyyIPc0IEHmYhqdUsLkyD5Zn7BaNgYv5dT4GcSBO5V+lhTt7sW1NZXNo28R6uQzWBcZWQ2t2bxtmN2lu9oJO38unDevuHVjvBeuF4xmCG1Hdj0qpyVolRQNotV0QYIHlxBFhHF7zR4N1EQg4vfwjwIC7YqX1rZX56NOg8IEWvd57VcWzrbgdGZjBHbaJUTySA3pPhGFMej/kh40KvuzFVnXPj9gESxHx9MOtmFF7T/W4lJuOW8XYPIPVbACuxT7Q13vyw0uFfHoVoslUoeU0FsPhcuBQsha0PNdTUiajMAYT7sbCkv7CGKuIHCwUWVs4Amxz2vVWhtii+JDOrwODu+8P0j52UZgsq2DxRWv/ACEOWrcCqqpbwJQ2pzMjc+G79CnOPxbmtyr7ZhRltunhgvbUCgcEHORdvRRfSjKuarPA9L3WPOucQ2t/Ej9waPjDLJjB6s6JKwQHR0lMa2h3aihT+3AdBClsM2+Y5WlxHgimAoO+vQcu79tIxRbUa5KmAmkdDgg2ZavRBsrvCYvJWJoqFe7j0cl5PAmsgrq5i4R93d+20IPFEphYFtta/qn0VjFF8sbSB0HaCxSmfpCkuAQLEp+idhFr7sbXtJX1Gu9S/Bt6IOpcv6NZ/V+gPNE+G4yjbm3PrjWvVBESxjQU60rqDYN9d37K+gtEqg5kKIs9pq4V+/a7Vqd390Yeh9AnefZ2K/mbD6JQUTTew0uGLnWnpaDthn4EKFBoWcWPmPvBwB1Dj6lP8JuwWW6H1mHo6QetaHvBLn56tQ7Lo3ZjfL9R4rbp1owgFqsnU+6a/ccgqjACuud1rv8ATs1S+w1YZN5JMjh6w2Fie3S0fVTU0xpv2f1SMgar6CaI019G4xjTTeelPDQj9EzLhPv6uNiSPfq8TzpYR8hapa2ut5mqM946Uj2yV+xqqjse8VC8TJSjR6ACgPEN8MfeakGhvDyLpK78xTkYekKCYsSwaZZYbunU6MM7+ZHSYNrR4OhKm10cjCAjm2YOIKaria6M1jBpFAsisPStOxTZTBVxbq5encpaLCu81y0vtNYD0doKdcEWaJUOgKObmJW2osTzzODreCC0DC66zrBvUDhjrc3NPXsbjvEVbRiI2DrA2834neMfaXb9/QpZWg34N34hca2LmRZjooluPyHQCABau0Ot59C63pMCwzF7zTcWG/MtVtazLD/dZdQ8HSxCqgTlyRDNDdMuSr02lhwmPghAAZYLKkyRMU+8QGrLqYurLgP6OHQ7y8S4qprKq5P2hFPOvM02WaerD0E1epaQRad5CGVgUdV+mvTZbZD4uOsaeWgVtjeKd7sbh5KhYY7YCh/cCFBHH/3M6PeJ1hQ6ztHEvsrQeBrEpQAaaOzNQfOUpwX9+lql77pofMbdP6pg3aNkzM3FK1V02wlv9Mr+RuMozDqTiXeDO1zS8Ao3hOYQIAGFV5lbOetizHhKk/miUpkKIHBr89FhTGSjWD75n9IZ2ffoIaeZ3jlX5YowJE6Cwykd8NWtY9Oy8dWlzMLqxGUf5W1dtCC8m3W3N9LEjV5WcHVpvAettWInivXUZeCE+4R+ILFH3rhzy10PEyA2G1r3RL9r/N9BX24a5pupaETBFI94QPsvzLCssa18omi1YNcNfQiGGDVVvMJBb8FO0ExekcfX/iCGWZ2HiUrY/wCEF3K0IXghrUgTszZAS9p8qxp2qVv3WwdpbAx+E9N5g+8sd+yN1m0o0LsPEogURZD4OLn3lP5a8QkdWgC8d4UH3F6MP1wSECq+WAKgt1efQ7cFMu9QB2DaF6lltb4HM0ghTKRboL8S5jH989RR2sDPpb6X6sBqoJzER8+l1p1azvu64m3g+6JN9pa8k17W84cvPW/GF+DNG1tvMK+vuGleIcMFtRfaFt98J7JhW/HTL6eDv3uYt3n+IztjT4gzEQCtq0guVSkaPwEos98v36rcwhKi3LeknHWPmZq0BAFAeIspM6GZnHUG6lFqGX0t6NViD0pRxKSrDvUoIw/mzCKBWGFA4rV7zupIzQyFn8yYRRcWEYMIC4Mltfz/ADJh6FYGZmXu39FyUN2EKVNa6h3VQtPo76/xph9QhlozvtFi4Aj3Jqs22oOOnU8fl9L89RNTs8w4LcxefRTWGrOK9NBlsubgtC6vx6Xxbdd/43aCLUzqGgraH0FrdTY1ZWbW6qOd5XeRt4EZEyazWijyjRaQDoR/5LuvCmxi1iiux7GNa1H+XpVyAp2tzDWrtm9GA7SzwlgVntGCFiD4LhAb7OxFWYDcgdZgJOJRvDGhKw26b+lhRVtvn+MPp5U1O6BzHTSaxX0FrnN8QoDf8E/1uJsc0vMW3dvvAk0LbZl4gdGV3V4s7Tfdb03NIj91Fw6lDsO0YbZwGNOLlPgW4F7O8v0XaableYFBMbOTLCtQPK9EVndZX/G740V3/qVnzVsE1gKPoX/Kn/8ARSG18C/UWGGo8RAlBlYIgmj1ES2p0b8y7CcanleIiloBZSjjs9+kdTdSG02bDD2+k+tDAcrEErh3IIgmR+pTAB2TbQXvEVrVLNGtz6SCTpFahYZdWrV95YJON+zjc2ewvoEKdOkaE5D3WpssnMcdR/wNkQO9T7qgUOCusijm3zDZwGu6y7QVPcRhjl12IIBNHoqIUbRnywqD7xc2JYLQuIhYlkbAuE08+giWN/Q8qagIL13jEvES/wBR1oXqBV1rFrCujAY4VxDBQilmzBuvYItsq2Na4sOJgdkWa7nwiAsqlz3lNlcWnSAieeU0J3p+3mZm0T27EnsB7vTDkvS5QAA3YYrxLx21Oz26aOOumAcrDQVtwJqQGUbvhUHsfx+Y8AClnJ1ZDoCfJYzaGKKESyW0Hdxdixa10pyd/UEC3UwhAr439p/e9UJkdXtdCMacl9jGQa5H4ZSl8TRy9NACqil1haIZfaX11K/fctdNYNKdtY59h0laZskD32m8/X4uBxFuDCn9zVSVUN0FZvwLy7QR52u1tK0gtQU2dG5mJ2Y/otKNd7IZALteiwW7R+Isryu52nNqYL+YrBXOku3tGbVMg0DwdLi6DyF/VwALW7vqRYm7AlHBmhgcLmWxlUL4Kd4UCAt7MejBjUfv6C7haubizau8A8SoB1rAr4hpOnYwC0D6N+Wc7kuQ1xAABQadY6iGyFzBseoUTVMQigGvPCe8xAzYfMq5uPF3LhaLfEObmFEV0NI3DF2aNDety2qctn/jpeZpXTeHtBPYqMjC5eDLM+0464ZkepOw6QT1/bYvBgUdo3zOhDLui0C7tvt0LGKRunCoE18GuLIcHfaRqW3BCcsrKBvc5UfD26SezPwR2YlW/lPFGmFvWIFgWo3RmvUELrBBBoKuE4mTNGY3mr3iB0XRvsXaCtFi7RyxdJcIByxKVyzHod7v4OgpJ2QNCnTSBeBYLXPMTkWeVSYgbYBVud47Tguuzc0aWGDSqhD5Hm0Cx5qI3cMsC7FeCqCZBQB7IZaxOkGYDEK7x0azD9nMdz1VOUje7ik8vTUDDd3cEv6bK4T8dLQs0bPP61JbGimZfRb9AsBoh73mVf2ymUFuPuVAkQibmGaddF3RfMeQ3nnT0RAR1Gf/AE7+Zf1T+23ih9c9Cs21z67wbpWsnLcf2h/g6AVaDWKhYlifqKg1CPHqxAKIZ7wbTk6xQEYfaIARbofWym2t1e0DAh3zDq/P6Ezq1/D62iavC/o0uqmjY3eoywLRzRDdSr0vwjTiqF+fpKk4JW4HTisfRvH2cuahCXtNL1j36/8Ad4n+PxK8UDDXoOh8NGHH1xrPwanehOw0KwrJZbPoxe1lUBx6kQGjW1yp3khJz+S6SjnrV0pxGLtFd253NwC9xbndmGxgIBd/TIXUTkY6vCdatZ9Ry8lkwvJbeLboBECXcux6dikwKN7fPMOtCIaxiVnMvHviYACnYLK6kZQ3YGSzjdy6wWQAOdLjwAtW9EXcRwvtU4jAUBawsEWyrOSBFNvnXBNCxJRG17xBuq9+7xcP3F1d81RHSp6Omnp1Y0vaZ42x4V1UEZx3cCKzwonKrG+W4RSoHsO8Vk7k23PUIntLh9bo56SLIZDEAX4QLHK3Zr02s06bt/uoKP8A3UWoYhpX9M/Odn0BVqD/AJEF56RXEJpXw3eGF5BHkjK5Bv4JNR5mi6bO2MzN8t29i0jYGWh7QTcr3YNSpVU4NXiOEl/nuACqmK9y6lXtRlqUIpewHeCouTxDHl5ey+ZhvJcp4Ska1al6Y0la0zvXB1j6ijoxGwHGbubyiyghq8kqxIInF3FRBXXcYz2K0vWKmXhhZlLTPkYbh9j+oO47rf0qPBCIu91/VsBXf4GaYirIlKb+RmBUVWKzMm3gssO5DITWbJHLzDr48ygKaBRLQtvZeJZTaVoRrzK/YFo+OoRdqA6HeFQP/aDKtcmasVGkC0HwLal3W/7hGtjCC7nMwqDgHYTQayXloj+GXxLURYKKZLgDrnk2ZP8A9HLpFh/mopzOXzLwpSOh2fEvLC4SvePA956QWDaebmXa4udEuDUj5wjizXXGW+m5QA7yHEIKVIYYtAsCsTL2SMnjqZOVmmLV7HmiBQMqNeejQ7muoTVmIY1SZxtKnKKcQED5BoZjqEFeEQR3sdz4lyhHRtiughDJYSpbwraUd5nW2l8nLGTFRY0Kbg1PnbQbas0r2gcSlHvMVUy1dNZbRQL7r/7Ks021kMtw7k1Tuy+bb7KZq2RDAeICqumhxywDasX2K9NP0r+lv6oCoXjzKLui+fRAgI6jNlYVW0pyeyoHVyAXx9FBESx1PU6VUMe8IFaKTtHLS6oU0OC/oAepK+qpcsi+ATPTlXl+jf7QtLzLUvjvn9LiE2p8/t4P4KP3JF87YeYWlNVErtWv6HW5W6naYfmEDuFXpYo4WPOD6HA9uLwuY69VVxKHMFsA7wGh7s3Q8YMsKHw/wzdnoaky4PIjMVutrb62S9PyMfAFqPM0xtXiBStQe6YRHIZqavpSV3Z0EDRITmin7FwRBGxyPWPYPYEjNFRIX0jPveKC3ohFEK01EpGIDF7vEJf9x/HKd2/iVytPDXZjKGeVhPOkO0pcsDe2pcfFKot+WFdzujjGypdtMT6pXbQxUA1jc2OOt6jRR9pbmNXtPK+3VQjFr3RFaW2920RYRbD2i1RZZoHvKWqk7zsbC63r+Ng7MNiNIwdGW/Xfo0IE75hRQGJu7peK1/hb9MHRt5iganDNEJP5k+o5qvzpBavGI59EV/Mn1LV/fZ8wMgDi2V68vP8A+21+lTaMlHNdTk4bxELEsf4u+t220jVf8hAvNW24KPf6lmCzOnRXpfJ+P08w/wAtTUSS+04/FAuA2sPMo4Syr7iUkIAQ12dOSUBbRdAmdk/jHMC7VJyLOcxiN3kHj6lBtS8uZp8vkYL6KVb8oxlXA+WOLkXulbE1p5J/6eYm8+KY/B/MVw0/ojN6hv3zNKMhvwyRG41s5YVG9hglz0W+6COp+5awnRIUMkXe11c/xeqCC9xNLV+oQ982wXLSkPDcsBWHwyzNuMX4bmfaEX4v0aRaJwGhDQD4mJch+zc0GkJXxHPfFUZaAS4LqzDHSCLsxjmILNQPmWoMp6XAEtHWgNomjMRgiqFeCVQty/xN/Q4ItuAPme0wXQHQBQJwwAAADg/kVPL3iFIeP5m+i0LOZdNgG0N9mIwLqYf5pUVo/RymUVO1hgebfP8ANsGh9VwtAcuIhT7Df4g/99n5ncbHebTNyoePom10LnoUlaQ72dbj6qntNONL7/uW2mw+f2qmJMcTvBVv5hEsJjwdoU2iYe7FxKA8WMxQKtBqw0aazs3mQSqVbRNBQWdevEgri8wALwVmZ9PPzgVjHYdSp/8ANTtB+HqKGnQNmJzBqvSZZNdRi/2r9WrF7Cm8QjYPFib1ef0Dv/4XlEKqCwZVQodSg5iwGp1CPQL5C/0fJAtgxge5j9NPeW3piePsqlz8fmIddgSm/eAPlentJ4euwzFFaVjrzUnsEC4xPZ9wqXiK1U3UPMTl45Kxh623DgqNKPfKNPeW8rJx2gGzqC6K0lAQejzFWtJhnWj5mA9n5wngAHx0uhBe/DMlZ/AbsgbnGzsexB8X8S2edtaRPLTbQDVlKyY2hsuWU1THkoLWdvKs8QwRbWeCUBqh2PHNRClhIcxt2ipUSlF6cwWH/BXMPgryJrKUC6b3uutFTLQ0HJmfTLOqnkR+CFyC/EoPN33TShSvTckMBg/lGIv+sIg7WNbWSw1gq/ETQPh+unkB2NQy/tItNRt7wJFxTRLhBWaMcsQxukytTDt2PBmWrs5ewS7/APwUKrqHEw72y3Xbpuw3c8IJ/wAEqwq12T9BpenU1DNrq5MZPb6qZf8AdkTqgpp2lXAVHtHeGGUFq+8opRAEBsIABoFdeQ/1ZLNFaHNxiVo17npV/oxj2VSvUe0pQEC7gPSyUX2xxAwbK09qhcLDiVWxeYMRj7FHUdvVtpm+8VzRQffoU/ErFseTvGYTmNhaYF7K571E69vw6mVZLE6ktsWv0iig2XDKsod0g2V2e8Tn7nsR3peh+8e3gOxjNE000e6FyUwlDEoa1vOtuHrdRaBS6TSDPyt7GJfdiprYqVKWYVKuFOB39t5cSfPoDOOZhroJnekd3q27TQKYVSAAoMBLdjeq9z+o9S6sV8I2uDUpznFt9o2+Marsu5UCGEbO80W/SumLeYVQeCJFdkaT4nvWGs2tXGcCirXz6pYl1ZrOStb3qbwb5Fdgt35gUB9dyVMqI+L3jzkoZYAAGA+rYGYaPn6uLXAQfPRhDVb5+vroMPJmdvxjYDyouIiwTiZ1Viqnb7XCoRDAUS/XWUVVFVVRdi7Vg/aBgCpXh6JV5fuX13Lfa6mifEAAFH0D7P6UuTj+h+gf06aYo8Kj+08dv3Z6K+sBnLQrUzrw0jhHv0Gy7n2jr/BMOHI8/rm/OQrXumDk7sEY1Pqm7q7M1jZ4g88Yl02h4g7NH7JeFQsuUHGWLbWKh17W/o2tAr7RXdrWaHsag8n0lCrdei9SrYwVYNVhSCNjp63sRscfpWRU++UQlkL/AEhrF5eJAGo9x2/WOjCQqltyTSWlmdj6rdoN1Fl4Zf3phOI7XvCVrt0SeNIxYmPzy1cp97AbO1Xa0JEE65P7jzBRKvL4lTHsfFKGl1CVWYaeB1uxuoHvDxpFdmy7AukEGgG1417UDxqSp134ppZHMYDqq64gAlZqnP3LziFsErxGUu1AzLwfDmDbYP5MuoYSg/EdZkWLC0mpiZ7kj+m6vmDATRmTdZm9/URBGx3mvo2VIN2x63D3fIgB6AfYl9F4Yv1yVT566nWsx3arU3ILva8ym0z18L9WZeRhMyaJMCi228JjQISzJbVBsGNTgn5/JFXC5/hmXSZJYnINWOz0ZKqyDbzNT9qE7agrmV5T4k1H0Ja22A5XSWoC9seH6/vQkrdctfrHP2/hBBaxtGo9oRk86/r1fcrMq83UdmnBS6zYy9rAv1Qzcs4+6rgPtXF+ZlG6D4mX+2s2PB10Oss/ue7gn/hmEo7TAl3RVSlelmPZLkOAuBf9Qq7Ag+IafbEuq6rYRsmYVHgaBikKtNmNGAZVdU1Tqwzwe8Xv1Hf0H9zD0zkqzyjFwt3F7cxEz/Bh4AYVtPIRqOTxt4/NHMLisnbjqO9+IeUz+S4x9It5bipyFwW/56pRRfIuv+kymoPJLh35PXxNBJrltpXVRfmTeJsDaduUVep3LiMsEsrPHrJssI7XBmwj+Iu/w1lqb5qusI4GRzejWqZsvSMeJm93MupntHbNt4L7wAjQIucpD7wiy6MUFNzAbhhmJ5ygHJNDg09C+lowdmDamthW1VHXF3+iVXufuelIKATuRxKy2tNH9cF13k/FdPgg/K9L6HM3c48fQI6q16X6XoG7sfTt9MEUALZICfjVKHPoemuJfrOs1qVmWDXj0u86nwRTZoflWV4LFDLiGr3L7Q79atw+HMMUG0HJCYq8pobc3c3v2/BhSQqjce8MRlh7x2YwnZ2lV1iQ2/6TRaeExw9h5HrTHU40Mo20MQYdKDBLC/dE8JMWZfaBBkDPHpZq/sPtCAOdRxASaFPy3+rfUcYuRB4r9HaO0vH7MYd7eiCI6MAADQ09TYYVj0D0fkX9c0MnX9ifQU9AvxLpyX4OCEXWkGINt9/4UGVnQ46fDS8/sop6CpkFtVrBgXNaUQa31jXyDv0UwuC5mKuVlBX7Q1YW8vNXnoYNoB3rL+hzUNh4fp41uxrxDApXT9HYEGCe0edD+jXYBfiaW5+zXHhZcDWXdoXBuvE85R1YtCywfOd9dPBDHifib0ZMU7N+GeUPWqT4WXL6K45lS+877j8Q+ZZe+caRK8mNpg8irWWa/Sd3RZdFOYdNGVGybQSjyWfTP/7Y6zwwNWU/mGfPqqT/ABUofl89btUC1lwBbwJw0U4v0D26nzzNaWGPLUMgwcSdU2iQq94egxVL7QgQIT8qoRXsXftozlGS+8Do6TqCCbhoZf5RdChgE1zTfQGw5UDl4fzFmtdepQ1Q8/sSXk1BkriOM01nMx6fcue9xlEpLIVQHaotsAlcTsTSKFEJ+H0q066xSWXRsZVAe5Ttiz3CmMqGIpklUI7zLmefR3zADlVfR0PnO8M7P/xPaF2VB8/3FEmdD2hGA/66/sKfMv7Wv3CJAuBPmWnc17mIamwHdSaTp/V16ql5oVfiRHuF7Jc2y+7KXhEB7rWBaWKijUjgfEDPJZrsO5Ma2B+0ULXQj/6dDTRuPECof8jUM/AxgKM7RhqPiTuwzBAEfLUphTkb6DWfcfMeJ/7mBcBxunjQluBprymm/V2I/FACixZ2xrGaxcu3eMs4bpqIzR+DyJpcvgxOb+P0XudDbzG6wbzCCaP1gphunRlwT95qfp5AXSJ5Po4PC192KWmapzqd4u9Rqy8NckNXln2+gi/5mlCU/RaR75Ey2zxr5Qm8qtnDNwwra/uTsAX261JlFLWK1mh4oeBVCB1KC6Tcg13a5TdgMUNIFNowe8FidoZzeK4vDr+yUNjCrbx5lakNxi4uBtMV+W5RoaKvtFhBTSYpNrPMRKTJpGjUL179OOIfOr8AhKSFtDdjZ+JkXVjPmO6ZbA5OkaYMrArEywOg2sFPvL8L3W39KrgZqS2+VzuFiXkx+iumdf1A06Dr0/A+yPrpKCn6FDjOSAAoNDr3vf64yirW+ejHB9L38PwfomdRNTRh2o+TCMbfoqH/AKZf7B4vvhuOv7ftKf8ANoNxxY0Dg/eNqjXjWPVY9Lg7daKWe4H8TZum3de76Nn7H4RKjovqBY8PxRrnqug8nyztJSfMG05Okjrh9q4/R2Zzpr+3qBTQFrLmy7VxLdMuJhTR9VaFj3B2XAK+odr7fQ2nQz7S6hpZ8Y+pS90H/Evm/wAHTZdXniJ/rzLFRWz2TWiwo2vn0KSzTqu02/L6xuGoPi/SgrxZ8/QOlxTyM9WGdO15dsQaDzNAGvw/Xue0uRaoNSc8tidlfrBUAPZXx121AmclTPE3M3Xa+ZjWaKvBaMZVlKhbsORr6LX+H22PS7CovaOXIni5bsHQ0ohg2AuISm87QS0OA2YyK3X5mb40v4JZKMdxrGEVY7OydQKmYOz1ijJNlx06Fb+Jeik1TT7zVyjGaI4GC4HMm8qaHFPhNGew/uB7r9pwFZyvU0ZUCMYaaWYsNXQPfEISupdnoJoY0aI9M+cXx+wfdsLjN+GK+uY2PjW46tCt2cOsBdGsFf5szF8vEG6WrXJ/EUBbc0EgtgYVf9hLbXAUHWoCugWzJ17BKy3IkX4F3Cq62hedyMyCXhSgjpDVeWXzq1ZmKR8N7h2aZXe1g7uGvaCVnfhuN2iCjWTSbTyO3Vd2p7GutQs0hql0hZ5cPF7QTkI3cFwtVF0jcwVJpsRVqss8OsOqPC3Y/wCwBGlPwhbTVh15CZdNZ2P/ACDggaqo4uaEXg/qGGi+3RV1efk2gKRFl2URuK4zBZBS1v0WduDGupaFzCxdAzllXRK7q/eKJ6Ow6n0yf69v0ARErIA/mG4sKq8vXTHT/K9KIippfoXmWPsx0X1K9Ya/FS+lUtBD3n+9xKtLDBps7P69OlON4+l37KoBgu+36h7xql7fvDuXPgjy7IVhFWuuayT/ADQWnEH3iwbTDyeQgl0Cv/5i8yiajr3mmDpGMP8ANCRqKoQi37QgdVb/AJqxEK2lw4oNL0P/AOY0eobYq7Gf9hBR3kYIAaJf801dWHtmDKorvVTsiH81woclUQp9zL/+2oFoDvNd3h/mug83wi60LNXpcLZ8k7o/zTQeYhEVWjsxhlm0yFdMvf8Amo2N8zQs8H/7a3k8UoO/L+a6soSIkVXKxASMpv8AzRpKBH3ig4FNYCeQN2GhQFH/APMWAV0lS4N8s53f+asf5Tf0dJPAG/j+aGxaKSCZL0FqpXI2sOnv/wDzF//EACsQAQACAQMEAgIDAAMBAQEAAAEAESEQMUEgMFFhQHGBkVChscHR8GDh8f/aAAgBAQABPxAhLSCNg+gJcvoroqV01rXdqVHSpXYqVK1qVKhCVAlSuipX8KfASGtdw7ldNdNdL1EqVqBKIGmIgban8PUr4LCYLWXvvXAMc+FVWyIhYlj/ABNSpUCVKldipX8DXVXw2BA2PJDhb/WuyF4dx4SoH1D5NdmpUOgDUrSpXTX8VXxGBoC01PARnXekDFp71SmDAWieCMDvVoNCiVKla1K/+HYHbzVm8XKqP0i/vInSTwF+FuxZzpN05jV4bHbskqVK0V0V/wDHMJUAtBNgSVDoqXcZNm5fMKmi13iX3EV7ikIVuT8Wh/dMeGmnS5KzzocMZwgJ9wxOFu7CSwB/tQGRTZ5VVRCAKbxALM8bSKK2lUhseLnA+S5UqVKlfzVfHroYaOxm70hBcxytiTZM/U9dQ8/6IJYGMLcQDYxwouO0mkaRRTujzmMFh5GIyvnyZRZ3tNxvhLFAfeZUOHdbfaoJ5mf4lMAyeArm4IHo6JYMsF3QvNwdmU/1uOE+o/gHZq6qWsDsYfJP4F1r5jCVL+SRkbKfQSxMaA8X1NheRalrdtDkqMsJ+lR2/H+0uVqV6uEWmhhDa5Y3YbxWJNqvIVUUbgEZYmzoGJVbk8AQIG4sH8ILqeh9eGUoUoqlYKi6jOB+5X51y3vhCCgN0urgBAopRZCxg2DB3T+HrsV85hokSuBDBohQUHVyOLC4BIyqjxEkbr+4l261MzNTOlSvnnXUroroPmnfOhhtrXdqBK0r5Scp8s4Pq/4Wvh1KlaBCd328q6K6BaEvbKVOYYae6yKXFvge3WlQ7HjoOw9mzzIP0jt9H+aL+Q5nuCA/+a7InkB8Vy0Ws9be+ZaiqC1PKdNdjJgb9obHsj0hLHZHT/zeozfxot+dh5Rq4xP76KY6+6JzYP3TEU2VNFDCVKTSN2lzLrRTFQvIdiqEE/cKSQ6AGz29LKfSCfjC/S9bNTS8j7GgpBF3HiKDFv8Ac0rpqCK6n5C4GMmyR0oUR2dOLgHyofPRTHpWYEeMLnklqYqkXxS6h3eQ/pKz1sYxbqIlfwqBanqXXUlVDXibe/n1sju9A8HgLmNU3Cfm0O6l+G6zAaAthtFSF5pqLggixex5YLM+w2gYbwZU9sy39owfLMnVVXByw1RQVV4OYPJ9hPqQ/s6aIV/2G4M1o71cKEAF8rxEIkALVxUEAqx0BNn7dRAfw9FTJWT7igIgBavEMvsPKWznXgPiGlr3wC6qHFigvmy5sKoBG9l7MQi4GNAB5qDIBBXmmSnxOP8A0xBGU2gWWodB9A4ZfDsN8h5Eah/9iIIFMHlCMrsQ2Owxv2DCr3DxUubVthWheVlbtVptaQnG0/EmISCWzg4oaWuEnvHMtcthSo9xvsAEX+xa6ypVOX5kKKhBMRCWfw9Y8sp4UgGCiWLrL5BKA4D9sM8it2wM8hLe0XuqLatgUZlqfZMPcW5puLZLX9orEJd/lRc/swQsEGIyoUBNoIA20vUhvG2pizvBRKgp4wSYukrsrX+iNCAAT2w1xAyKhdyvtQygbkyaedQfQYsi4wGeWIyGFBEURRXaAbNBccOzT9yMyQg+EVFsUI8Mzc9VyxmX8FcdGo79FkNgotejSAJ2eIO4KV9oARYLykPBK4AsE8nQHT3J+pbVrX9oR0RexrmoRaRjuOMYEZ07oaJjLFryStfsoW1lsIsrtNiILKAkGA4VBsE1UAEJ6JW4HKZgfIT8rCX0X+F4gI79XosjSCFmgLwEOMhM4vKhNr9eiXF5+YTYIBQmJYzSl5YRiPzqxxRF2jTcXz0MjCmwA19jAWbpLbszk4q/LUrbVxPMx4SR5FAFbS4pzCNSSxSnR+UUojhX1Q4S4cn1EGTQQ4UMXDjbP5AzyA2/apbRh1w7LDdmdq7fZFJN0rKsYNqBPdxcBhz+3e+AQ/aAP6jH4vMeX/BloPPmJbAbO2VF5UbzimBcGewCF1NvAR9MJctK3H6It9ZvE734Yt3MlUC/uJoWQydd7QSfW5lZCG8G1LqFecKooRS9IKgMT6pLCQrZVL2XxUtie7QqyWnie+UMTnb3YDhFoBextbg+o20xg0pjG808D39xOE4AQPuKHVbJuvl6Dcldg9CqBQRrQO78na4jd8Otbrs+ISI7lbMEoZ8Jaul3goCvi4s4nFIMuLrfTs3Gva94vg/RCEKUG6zJqLdpbEiqnNghhNgdOWA4tqV2D2oMc70lVUNsCgMBOKCiCktmxEaI+k7XqXSmE2/NIEaG7R8m4YobJzgYkIIjZVjAPnoOCWNgX0xW6l2S+FpcZAqFc1+BdwlbQfqys39CyHasxCWo4SFkQpGUNC4oBe9MylxW1LqKW2W/fszsg7iKH2hIfSfBdxTtCtvWMASoHlf23KxsRWUHcPEUgi7u0/RGMDB7vQLjpadLDXHTfQNGMWwk++U2qtgDVpEFiUjH9YB4US8VxVIwAUAeAqGnvtozMxQKKFks3rJtBeeivm1Kldq+m/hHXfwWEYBfzniLFelWCHDsTS9TQ+Dcv5YSpXYP4hCzFvLNdKhVoXrXQwYsoQ2dX+s20Sf9bM6alSpWldFK1BNhhteYStalaV0VDnT2ESK2z261KlSulbgVPsjE3+cjXUW3kX8SzGpSVMzPTdI8Cwa9BL2rS+g3izKI/C3IaXLlweglga3tgiCbJcrzHCdQFgLV2IIChGWhKHwTRngZBzUXYLp99lRLFF8150BqG3xaUm7DSonFH+/HQZY18d2K1aHiWO0CJLecf5I46HVdtKvf7h2OMQOAFAdF6nWSudzShE4w3b5WBRMLbwFI9RBwwXyygO6lJYUINXEBVAN1g+PmV8T0N0pmzS7HpagLyCTK4Id0tpsELWloSVozV4baEDTVcWi0iFTlf31WDuxd9VE9g30qCKi+SIB+Z9xgEP8AcRD7/GIvVsi/uSyOCfpfqDKLAuXASkIgldrKiiz0LzKimkbp8MHCop72waNoOCZ8TfQ9FXGZLJ/KcCP00KiW1YTGDdWgggII7MdQ4FH/ALQU6J6AWsRR4l4GK92ixyCF85I/IIROxf0dAKwpEijTyS4U3SMkJAOagFcVAbplaiC12gjO45fKX6l0WvjlIBHcpLra4XWkeoAaEEuDBAvdTy3T8iXoS6CpNwYM0BEAZGA5hcSiLdxh0oaoq1R9ILw79YAsbPJq6st7B11UKCrg4Y3yfm7xYAywRurJR6azDishkBgz5YzxQjKg92TI4WCt0bymKmWqGpuan+xXSxpVDRLJbkN1osGLdWasEahhhIOgVB5D4+y/yYhUEgcrmUVoiv7XpxJa5l9ngJa7/pxR6wh7LSrsU1Vt2X9R6NKkst9fQlYwQqptfnHOXaYo4IF/fmxOWI0yRu2qzwSp9XvLHDLvFI08q9KVcVTywj3mO/VRkJwTbOoc2uIta7WOpDnzshETxRQxA9xIUUWPnLl2/wDxdA0w6N9n4iZeQxafUcWIIXUJMZSoBQckAy3YrPUZvCNi6sKtIPrMYwO+m8g3ItVfRN0dt8uiSqhui0TVoynIbl6qD/1xDrFieTv0AS4GGN2qm0M8EP6g+ahS5RNtilgh2h+vcigEJhYS7Rm7vmy5zCMihshDnUnCv2HWQuE7XAdpNihVvotcVXxikd5nJluisU3hKjFQExfmGjDQAzNgDHpOzz3Mlp8zKzOCvDEb9FYpDBfUbxcVi1iisRwlA+lCrhUILx5uZdcFrD6ir18VVznTOl49IP0w4aMHgOk63wIEgwlWVmrIuqS1tQqC6CtWfpKHLhs8kvJEoUteSR5y+Ybs4hSjmHiLvFweAwowqiBzZCNoo8NdVJGGcpURgaZweSPvCvoJUGFDqKB/ywLAFrpywltv2RUTPen+XTsBVnlGISoCO4y0vcEG8nmpa9G160Av7i+i2z0xa+phWPcAKBZ+FuPBB1JGlGzVpEciUw4cmlGEpiiCVy8XLYoEVJuaX2L1HrYEYvp+elEBnDlwSchph4Y6EPhv8BfcGoCAFrX33b6bSC4q0bF/iZxsjlyPy2ETfMFKAc/MhSUq9uYCVYXxcYfHqVK7N/D57N9N92/4Bgy458YJcpx+VRjDqXvBKgfw72b66+O9xho9B00wqNuVxBusNLyX0V0jtZsNQGyXMd1W/cxhNkE7Z72D/W/R+JR/+xUuOGMkxdBd3URunaLZRECU/wAgdphLlDNwmD2+SVodPPk9icCFsxMvBxJZgrI26BSKZP2uMJAYAn1g/o3B/wCrh1Y1VL6IU3JcZRIX1zgN1CsLMRuO089n5FJcHtE9lJNorPlA5ZuuL/KlSOsRMHi1qyKYyb+CApS/7F9i5crMcv0C0DVB+jFQMhq8MPzat9cRoVBLEAUNPLuKuCBb5B7Cp/spwJXRZSvBKPJhH2qBgTD3Dtf8SaOlPKqDYuT7jcYBKdyO8pRbLg9NiKXMawCpwjrUCUVN7fuHt8gFwckus8/4+ggWhk2qLXN6P6xcQyi09e7/AGys6z+iw91gTbGKQV2i/wDrCyGLPlku+UFs7PSbWZDvyID6gR8p1Fhe6UQZOXFe0h/5dIQPC/rG9+q3loALRsIxVDxSHDACW6DVDUFua/Qg5LsmtDdeAm2h08ULGklaeFtlO64vqC7/AHpUTETKq/8AHhELT2IYCB9xDs9odJcCgGxrpN4TqWP8DgiWJXmEZ9pMn4cYPBDwLMlPJ4BpXQQKzCTyfCSAAKrwEKkQsTZ7eKVaAtlpmar9NQ0NGBEHeAQdb7LMLReGVuDAiQ2lSpUqVKgaVobzJXdXYosYIuhX3AeUC/Qi6jmGB78VaUgzy4M4XD5c9fAUIg40zhRcCdtgOBhbMq1AUNoBoi1oKyxubecQm8JCyYoAo6j5EKFlxawPANgEZnA8ERtbDYCJ+2IM6apbQM4IMpgVWArYjWixdO/Qgk8aZEE9eBjhi3hZttnROKKflj9srWwzQ7ctvVZKjMDRSx5FSpCbY2UjVS+MrkYLIUnxgEPmfo2yOguGN/8Axlqd4TSyxg2+sDQdJXmtbbbA8sTsoi8khSMUUNK0g6ArPqGUDS5lzIeEzVjdc9XZgvSjZ5le44YOYqjmAP1OYtrgc9J6MFq4jZZS59DDW0EPPUkiCiemE3eVeQje24fZKxco6UnupwRHqDyUjR8gBL4jRVoXteiaQHdC+i5TKxTeYrwvMw/9OIWgLO12sX5XTSHElKnDyYt+aCFPvRhqyondt7Bp+f8AdB+f/DPEwb5QVDqOqiVwP2CxpEQR3GMmVW/Uype4l3+4/afkCLb0Cm0S2XdDZ9QQKK2tafVy2K90fZqZ7ECvGC+yOMy3bYnf6IgaDHA84Nd5eiRfERuRVjHdMeuxsWEBTr5i8I0PYKo4XApKUFbarEIliP0AAajTLYUgsIcBKcKP/NpKUbfxHn0skAY3lKDY03rAlhIn/NDi0wNmzugOlwqGtWNWUEbrhPdDaGbMWfJd0JXGoWwtg5wsI0u8IraItXG9BC/Hl8JdTZHYnK8wKEEiWvuFgmUx3POgjmhH9oxRRcUTOYw2lSinUdyXlgq6vD9ktQB/cJKqo5EQ7ml9jiYjCctW6xQQvMYMvoa6Xuuu4ZF9M/qEaFEo0Xe5fwL1UYwNNmr2ahFdSgOUUQsZf3CsxBU2SnoXCbyBLxJifIhYkHri2GG1eItGVtWqeUy9R8iA7SgUJwObIsue4D9EpRHRnRUh5VQguAgKJJaUDvTiHxClLR4F0RlGzeJ9iYwAAFAbBp5EsZewm23vXlSpAMD4ImErAVb7lBQABxKgAhQqALu1ljLkLHf/AIiA0ZHRYLdoLxtOoME6MB7IfZCxOT4FxhH4Brfw3sPaOyS/lMNGDF/yQ+0iiFC/K5uVCZeYtDJf0Gh3AV8mC4Sijk/RcyS8tgLVeY1wKRaHk2rx5nSSmkzlGi4G+2JWtfNdTsup/EMDTNVQk2gmqTsVDFjoHZOlm56t3KJjtaHMeocwPR4hzgzey3yw/glTwEJtYr27gRQvgUytArLNbsLz6EAZEpxgYkWPhXH8VFLQ5QrzKLu5ZXfqVrUqzU0rStahE6q6q+CfHNGHZrs7URLOTklLUQwm/wD0Tjt/1lOH8sGIZkSJsjB2oTUZIbdQQINgXOMYYYGggDYvomaPpaBbxowQi2CkU5X0SogLWla1E1ZUrSumuutKlfy5ow1FaAupovYrRa8wZhGVZUHgWXlDpjDF9tb1VA4wS5UcErVABEpHkYOPYDYuV8K+xUrTn41dNfJdWEuPFJR0wu4RFGE/MPBSlD2fyNfxB10uT7cAajoi6NEONyx6gtJnYE+6LuUr1MNEU0J4lARiUpwGuLw6jLRMtZvFkruvxTrrtVHtV8G+pex0RtXh1bw1/uXLoP8A9D6ehWXcVYmarUXdeAg2AKdy08tR+LBdzzNY/kJKxD3Dh/ca8CEyjgOWKGlJjF+dDRho9UsIlkXAP1CgoUHTUBtHTTTPGcmz4EyLFjurt1AbV8LmPE55MGIio3V/oYnfqMVx6oBgp0e66Ealat8EeuuiuhBSqvhqBpA58upstvRcrqRRnF3f7Q4p7JZEFoPuFbEqYAIUkthskHqK5KHPRsnZUMCTgXcFnaDc8pXscaM7jBAtP0C1hvreLpdRFyaN6UfFh3yZW73R48BKkggQUxiu+sIo+4RtvFLiwRmPtX3QKg7eKvE9N34xuoz+ofcOhHp+f8tSJgiTxhy+zHWFusFrT62iLCwDkQEtW44RUuuAU58wgJwi7PMcvQNhVfuyAWCp4L1eg1OkFVAJUicyvdefJpPY6Kh0lQ9gNV7zbhfJfyxnwdIeu4zUkjcyphPU0/FnsrwlLbyLLkNoYgm7Lv1GpiQFPkjN7z/4GEV7iqFdRxVBNq0om796VqR5TS/EbHKObhpD1gA5GXQLy8heWCgGQ5HWtHy2/wCpWuDia0UEBJCg1jUUaoDYocRUl2Yxpsmx4Oyz7YxS608LVvAQarMSlIYu0o7F+YuFWz6IlAdy23ox0MLB8RN4bZwRlT/mXcdGpVx4TcU5OYd9agR5e3wPAXqC82YwHsSm1O2xzz9Sm8leTG6MSLvYYyJMdCvKuUuVMLW1nmi4DaaIXd/QEK3EFrtQ9wOpRMm49qvGWVkNzccRN50OsEwhE00HYUywqGhosk06Mm2q1fgzKR6inmODKDwRhBhA59utpysUqAc3mxgCqDfoyhqtDmyHQ4ISArLH1aigVaN9F/YKSEKGoLVUtew6gyng5YZSNtzCkEsdnrtbwYJegzcA3BRFKrg8RyqAbqFXqTlG32PTKgLWjd3Zercj6dItMqALVxYC4FPSXBQWX3/TgNmcWxCHhL6kys0H1JqfUzeMOrxt9FWwwqAz83C8MMLyoLhqm++xlDFj9DsYwhkbxUXCx5Q1qBmBy0OVQHibtIF0j22Vkv6md2xGx+/Sfr5wurVoRQaEALVTUNy7ovXgfEH8nQ2y/p3ye4lGisY3kpiwoONLWqmL7Mv1JkDgCKp3T+gwS+SDRpk7QwAys32+Yez/AMDqbhWTZQUl7yy+AVlOtAfCkuHZKw13u+YoMQ3EXsoEeHnoo/lqPQa3vWbrdZg7ggUgdCeEGGCgA8BUFGLYvoFPNplCwK8EV50vWi8C6oZb50t0EPVXddDEWxt4IKuGvl/keKKBaHUdSblUCyPa2CBSVVke5fHkiLZtExs89huKwEbKf7MV6HQ4qxXkFETOAgqDkSK3uoMtpVrCLIwhCiPaQizCs+yRSYE/QiRQp6XUY79NpbbOI3JHXC1eO98nmFV2Y/18szdG6rySwFiU7I1eOhDRAC1uCQlYlRV1sHAgiX6JY5irzpjkEl23KP4Vb0iwY6WkgVa3XoHQ+dUr4DoQ8gMEtAIQRXTkQMWT7TGErUJz133c6LfRuKpZcAtvUa31mla1rXZqVrXXnuX8lNRlq0YdL8Ouu+zXxV6TS+m+9WtStKlStalSozOh2HoTRh1B8c/gcQ6HvGidF957pDRLjlVBOmeBEtoHZGHw663+FOs+DXQdVSug7lYEf9Y75WxguWV2IGFLEGMPlP8ABvaYHZqVrXRWj009LCPZdTNoUHAngHFrCEQNjaMOo634J/EvaOo1TStDQ6WHadb6A9t67+A92tK1ewanzbj2GGrKep0YZZntqYf65HRh216QWDeXXrbEMs13WK6VfxdaGpqmiQ7B0Gp0Oj2HSu2UPAInhMrRUKZTY2ZeQGUDyaGtniqcn4W7sSRu1V9iJmXJQR8Uh0KDuv8ARH8l/YwYbFHINyujiGUXnFKawRX4FrfC5l9Mtv401eu++yvjKsR5IO9am7Voy9LOCIo2L+x6DeEgAMz9jHaymr7k3AgFLukv6KOuSUPJXi4LWo3oYtCCyFxMRAq2KVFksJc0tugpHXLJ1toVIanw3rNyYqbgqhhB+AOVWgtqIQIWJUphqh8Z1O/XRWtR6aldFdutXsvaYaNCgJL1TXKB1MBZ2DtL79eiNgkV60AFpMl3yYqkdpYxZb52LhrC/pkmvUKEMD9RDeqlKWP5iqVzKNjZOKlS4f8AYR2aN2DwsUPJs0PFX8MygB7zQgNCUvQgjvGCgom+FSvrxfwUCJrQWfRU3UBDdD2X49fDr4FSuqpXwGHZqRcDw/MZt5s/5GgYV7AyWXXXk5+1OZQ8NC95sAFAUSjmbHbhFm+lvSMO5X8I6X/GsLoygg5bqFRjCCNjs6Glfwj/AAj8V+C6CrzPylWU2V98s3FXBsbKhiZBNDqOl+YN1m3dAqAHLHtImuxZbNfCIT9IFyFndevZ8tuhD6dXuPTfW9dau2p3H3VbQovLtzhixgCMNT4kssb20qBKu6SzQ0G/aWOVEtODa2EJg39VVzASjJRnsBnN34WoKRpsSi0+yY0JBQFe16HpKoX2tbibv2M9gmEbJvxdg0dXpqD54P2Jap/8kIbwBKUvo37DFEQAWrsBB7AsGRO89bq9kLuXoeAPodSFom0YaaWEAgoty1+DBwPdm0OIo5RmXogb1l4EUMwLmgA+tpkAcPVDDPVY3kFEp7OjzlKAQ20BZ1eTjv1hYsJ5OoQjfmHB7HxA5RL7LxJ9DwPhphluNeCUfwW2zw3EaGxNgVvVU3gfuChkNXH6KyjVdZvF9Cekil9T9mWUFGS3Bi0SjY7FS1IUwmJEuhg+DALNoMrWDhKOEiAgmqiKsVzAFAWhDPoIbCAF+Gh0nKa1UBK0pzJb0RPAFsBteSg5hv1H8YiC5Ej4oYq0XKSXSH61gXxl6Rc7kGRlDot4FDPG3UyJGjGea1jjbUqgxbc2S+NYw/CL9mAFsE/RBxYk2t8Qqe/+b6jRuevpHJvFWl6t0Z8XQLWNshgs9Ti+s16wHwsepTKemmIC1WgIeVWNm2JlaESeC08wCteSvBGxmHLU1K5LCQAVTm37IUtda6XdwwQzmREJwUD4A/tiqq+dBqS48INWUgpx2D0EohA93NR/Q6HEIAd08kTK3+P6RljBq6QL4WHZbWRVbjoY3BXINJWUDMtmKAsORvDrvAQA8xsTMEUOJTqW202LDmripmTQm9LpA5M+qlS7hk6ylv8AVCA2GotRCsUfSPSQ43GS1QbGuS7TIx6CCmfCrYqOCf0QOUCOdTJ5jSO89jQDGjYFWLfdQ5zhEW8lV7fKzabEwzSYexb016VPiuh8iBqSRMMAGFrInHASUhhX1tkoqIxmBLp3pTdNZQltGkZKmwledFyKin0EWAOnYN+MMWr/AMkh4W5Iq28I1XY39MWiEuKpaa4WAfuoUvIRq8K3FS2P2ybkuQypB80LvW1hZYc2IQ+MVtCLZD+bL0p8XPFzsXVFD9CEq3g4BtFUeTgiC5eNzUMEfpsX2YinhFEKjat4VBF9yWq3BbzE0RrdpR7oBS/qxOSJjJllH9IDdSxyFvKqxNghH9YTk1Cn0gQh8NmRQeWtiMDYLGAWKepVuIlwTlgwV+PdAwjnUxPRLbTQVaeVZfOAXKEbWxK9OhoHYFK2SFKoAEoxF8YODQ1t7oXNseou39wUi6l2gX6XLXHQYDHGwAP0dRANQ+qB/wBwhEjA3ihw0lz8fYYjappS1R6cwUir1UYhY07Yi301FXSuPCwmKAUWg5uCRFWQI+YEjGqq4PoSEzrgKgIUyDACtkRikJZR5WJtD8U+xl61DfbshtoTwlzYM88GwcGt0OWVQCCkciMvueKbPQm1cUBeh0EyJZzKV8J6IfUE1bjl0tlkYMW6no4CI9hV+yYhSsrGuY4pqzp39gxLYbdgIF8JVP8ALEwA4/oNAyv+8VKxmA+QuB2ZAlrD1ADl/LZVoDzsDy4hk4VBR5v3c5CGnl4E2G9/3GCloWg0eWNNXoF3bvIIDCWrzyQBIqrQIiBXgd4Qrdl7rKjcrYHJcEGVY9M6Dg0HfYqM0KwckslEoj7kJrWh/AHwL7J2a6ns30PVVW3vycSS43Nl9MoAHgKJlElLQeRtjQRBEpGLrG0hYZWQO/8AhHBFt0AqBdwC37gMCBsCiWwPllruwA2Aj0DSlQEoOIzE8VsRb0Oqo18/jJh8tcUVSJS9yoKUqB9oT/8At6F9io9GTU8lJ2KhIWydlF9jLIoW2yD8EldL8e6YkDbdf2eelldh6BHS+xUZINlQzyWn1UiXmB3O6UEDsC0ZE6hbEwv7JSeSLdtqfSZZURfRLWMixTUpWZXRu1ijEBNPsTN//VI9aNuBbLh4761wjlVCeELjqQ/FR/UsekI7RXNjB9sLpHeYj+qUdghpbd+6LuZT2seVSddngbvNLg+jDgKLPolSFO6IgvQ9s8GQGreDROvmrL8aIhiyy5h5rRwoUL9lEemit4V28PZqV2TpYaehbta+hF59jMjZ1lIIrSnIlKTu+qctwO8NmlR6q1ndHkeIQS/SM2QZoOwUnFlylQnvl6QHKB7FzYrIThDeXLTuEWOeR0NggqrSjeUbCf7HtUwq1yEoj/rCpfSSnMklwBREtmAHlJRS8UC7coTi3tFLGN7LHmHBpZvWeK4i9yikYobigpzvj5RlpXmMZfRuTLyzKXFKVfoImw/U+DqwWqAFqx/7tpUynhH+Kwyx5QoxmFrnQTQM2h+9vbGrRQBVRLhGVYEk+BYTVIG9QNLxB6eabhWMsXS1MPhhPKrkFnBc26NhfBGvyz9CCECrYsNYSVHBAlGUABLVFS+knfqXv4HF6CBpIM4pdRqc861lUysU0PwqYiMWLSq2CCmos5mqIuTt9RNRpER56K8g3VolVY8OynPRuxKHXq6OJmU9520NBHY5lRWtg7sqYQrUIkv53q81odIpCPwVfSqWxRnIlNImyPDDoURVB8XLeoYI0uW89CJAPDFW3rvtM0KDuN7jH1odQoKdpYWWxTAbbsclMgFbtjEI17DA1Uo5S1lxcV9rFRO2irVb8iNLp4Gqv3D6AYC0ESgNIzGSyUEASe66jYIMpuAqBYaH8BLFoCuoOw+41VUBuFq/qEFlrwk/tYqyZdNVRM0cQ7HgSO+quljRgdwYXC6gtXEsFYn6MfFkEu0UDzb2uUgaXYJ+egziHGrogxjusl+a2SBZIXyQapquTaohyuQWqFbEvB4LVft1dCF/tgaqtmxHI3CpGRFSJVJRSjhgHXPnKHvRBqDtO9rO+JeIu/VIEASbpM5cE5KZ2VtA1i+BkB99Cucg/iBhWxfOSH8/zqtTeU5RceFgZmJg19NyuMS8HgwEe1XWNLOT82Co+4ikOwGwjy6HUK/MIouafqotlsFlONov4FlLa2463YpZ8FBKmLgK/JKFhn8Mlz/wY7HB6JZmgzLm4j7iOtDdRdosURlrGvmjeNBAI8JZBoAA2BRLeeg0tgpLR37kuR6bltQRsxW7hSGKqirXmfQFYF/uCsQtaCssGyAu6ALpfQP8tJskO/gNjiJlVcwXnRzUdDeMN3bfsS3QZwHuliQ7pZ3Vh671vrGhZLYziHUfDrtBpae+7T/faevCu1YPSOo/AI90Yq9BNNRfYEVxqIK/9iO1krIczTL0ZWDEeXzHuPQNCU63/JnxX5FtV3XVhAEvEYm8YljqvopaQsNko9B0X/BXZ1ujD5+PlvSKFyiPpAN8l2JBUqGt7SB8Meg1rjyGi4jbzDuJpcJT40HQIWNWvETseozAftnitnJKYIoBTc5IN54+UIAZRX+KXXYU4MbMg7WdTqAKCjoNCzF5eCVLvXx0CqBDcWCwRzKplLOWfV8IzMxErI7BeTSe1GbujE3jxSWxdO53HUwUEQt9b2r6ToegSoEvBYhDwINhlSgAADg1cw+JAUWcLAv1cQNjC5A4TM7o1GYJ73pOaB4MLYHuck/pgBm8vxsm91F7NbHvg+CZ1AR2DVD+8d4N79wsVKt2ttokBpncteEh4ginaq5ia2LuG2O1A0OKvEZiwhxRasd3p5Jd20w+6hj+45eUo4etNHSqS1f9UxMxb1I/aDh7tCoChyNuY7wTOb9rSIDUSC5aIirQXQspOt6fDOos/YL+p+l6SymGOvHEr6j1WWllm50kCYgFateNBqvC8iK22qpnw1ZULKxtvNDv31X0Or1E1wiJY7jC5QRghnZN+qZzd6AfqoQZjEzEXjv8UB9a3EBZvxrWm4Iz75ajqaRzS39UMvbvB2XJeWGLG1IGkzsZ5j49GxGTbmPRJEUCxHkqElr0QgM0QyBS3r1E6S5naqCfaXTgYJ19oL87UfsVwVnyeozeKZBRwdbLneTBCKM6VFy1SQ8L3tiEiJvZuIBpnx/Coqe4fQyBlKONVH4BOYYP4Z4QBbN5odRscAIIlMuqK4wdyt7WS3pEine4cBcWyN+uX0EcRjg7GLvMts3zUEah3bNXgu3DEqnAEzsW0NC1CrpcwiIXGqWAY8suw7RNwWVza3QKRCeegioUOGo//iUKCPULKI6dmuDrzL4aWeIXXHjBQpVcYkBAUAuGycuUWFPuo5VFzOE51I4rNiFkWjp6nE3lgDXQzhLd8gfJdWGigKoBuu0qzPKvt7N9iWX0gAvBfoR1vQ63sOH6JQv/ALQvoNPZKWQx4eD9wVGyCX4ROCwzowMQ2CbxSqGIxQUhUFG7MCohVNly+ktN0Kxmywb6rAh4swcgDBBayK4Ngp5RgvXBITkpl6HdI3oBY9JM2427oKOaWoQxuzr4p5Ip6vAQkX6uHknDGgjwDiB689Kpsy0qLCQEjwGxvAwrkDhFDo2Br31rAxqqa3tAgi7C3aqaOEhQHMOFA3glcEYPIFRv9yVodAQ2cqiUH2xGs71GVQlLi0teIeI523BUrOv+NShMywzArYj6mXDAN2+pTmJ6bgkO1LSeMzDnv+VO/gUx3Rw+oeWkBj6Mk1pegjv+ooiktngheUOqKArw0LzRLguCLj5qoxgHSqQSsMDpGRykBdDaZkPNCWCwdhYcJk3MxVV6RsdIPBeYA6AD5PwK7YJ6xFhj9oahjW0px7m1kB7hkewTZGopbWW6GDyOGYoAoAA8B1kWgZocpaw2a1/k0m/Q9RCutkPA0DQCiHhLill31CnMHDBQDHgIS+y9XNRP6uxZg4BVEDHxeu7BfmswlvmEmAiOyMRSFgLOlvQDmIAZBrbpXyHsie6CCKkB2R4Y8VwAtgBobo7ix7JofNOqu/ewu+IGr1vR0PlX8YUv24LIoqryair3L/8Ah3px038J7A9HmIIrBVpMOuKBcwAukEspzoannFslvqxhEiUQVjrzQn9MVPwrc22s7ZENb/gX4T2q660QWQKjlCVpWro6uh0DtbosPSqKCDQqCNcNm46GuDuEG1Cu8+K7itsW4ak4t8xde/xEKBy7TywL3f2kCIAHF7n08REYE3i2O2pycDdUv7ziBL8WaQy7L1u7l25Vio79B8CWDyhBUNk+UPlVnRtUF4hCVvBU3ScdgLahDMdiAOGuhicD0bB5db2DX7oX5BFzoxAKeytBdXXOzYiHLow6ALbf5FQXZsm2983DZTGZbLeP4OkAhJTas5hc3A3/ADzGCVpdG7Haai7xTWo1K4dboAXEM/7kxfuYgXV4KUIKQrWwURuzTYLy7yh/MwLLpiD2raea6bibBzTL1FqBshpLaqSzfePvljDtY1p5gqgQBTkvJK7sW9AaggsE8k/u9kCye47RLC5g/Cg5egXWj9UXFjjKiy0JTLU6FDchcNRX0WLl4lZ4bURffIlKBjcvYHcgJUBnuuxdHg5Jww8bT4ilgJEWq8u19YJfPbahlCTxpisaloTmOyom7R7uZF2HWa8A/eRDqUvb9wlKpy+FB2GOxkb7pfUXOjnFZzXLUWORLkW4eZmOiD3QSdXrKWoByxfzvjo4EFoJPf5YzkmIQLyqYKmdFvcaXiUzQm57jVpRpdKXFANXfNoSAODTgKuOqAd4Fclxh9QOQtJfJIsYEwfdMAAsC3lvGtlwRcHllkIlsXmF1s/p1dMBageWVfJXmJUAVIoECZrpEPD/ANDNoOitMwuiCYqzyrpEsqM1q97fJDB+YtkrpEDpLIrzLqJYVcdK1S/TYpN6Y7nG79iOUgjl9wXdfKUi2Q08jbAQe2Bf8MQWAqx1HD9Rqg9OW0RKGS/vjBidc/bLwoEYLN4ijU+sEOBQdv0P0wItnXj9RQhigye5AhG2JdDeoy233IjD0Iu2AD7xcBueVGPivML9cWXgRwrPsa4lgnxMPJIU4Skqm1ooaIWFqTsObYlq7DikoSqtZSy6qPqUA/NUxZ3mFeRwjDr8EAv1eKggehT0bobSYwVfzyiLV3tAKtqVVPqRCwTvBl6WKjvp+JcYuxj6ZXLHY600Rp1GbHlb9sqmoN2UMLbTwdNgKtBGimp9VlyJetUUqymElZRf6pcvNOYb3R4BDe+TxELPrvjeyCm26rasfsY63NerxkvygMoAEDYOwQ1Gwf6RWM97pQqodGFcUKKXBpuByABxgeowvdM+lmLdgj/YoMF4w9sqasTDZeXmWd/ygAlGGIFoKFHllpuvKotvxExkQmyywadCxFjyFObms52rwsIKwFR84dBgsWvXBgMiOhlHEWN3steUZMYFJMrKrUyU3/3Vg+6a8DhV5TxF1XWWXIpOSwUr2Q6XqFNb7JAzpRzuMBQpqKaeZcuDLH0wjdeAU2YbwduPZ3Gy2wZttDyMBVBK3QUTEKGvOWT0nZ+iBEue5lsU7stDRKa+6EioFfTQzL4QYLgPrHSTkLFqvEjmqi/bv/sMtCVhWFbZw8+JWqIyumhqnqaGbtPLapC5lFw4MHBTBKy8V9glIDP9Z4zGUQrT+S6/NM8Zfz0NAN0MrvClWeKhTMEFVMaVS0Y6qnnD5IwFmQh4ZAAwc8LbMW6VrhpVQgaCC6tmCra6aBAq+KVDJtlPNEYA1VAGXnEu/MvMWUy+DGluAUq8NbkBClFvLWi2L1GMsGzMstNmLbaF+eZctlkReGkTkYhILhf6AYAoNC0O2fJvpOs+A9AtfEvSvllHIoC1jzXCsr8lgc6IQuPZO2Hxr/lK0vsvfdL1H0sA+LJgnsjz7PJFu8S7ov4P4Bel9m9bl63L0v51/MegMSsQ0UuzskKMLa8EComldDN9BjUQmn9g+xgdFQBILkg86UsrFj1KAEW7Hn4V9Vy9b6L0uX21rPce9fwwlaV2QtLrsihMCjArFnDHFFu4BXfcpvQIN0jY7MNk2E/bpZmHZWxpeYWOLYAxDnlJVMFoW02CDYlYgj5GZhbTLLhuOBipB3GHeHn22V4l2fPezffqVKlSuhPgvYYOivYdKfdiBoqB6TQ3qTB2ngigLG11AVXEShUCshu0wghQxVqQauC8MdmUgvOmGd+VLC6rqtsDlmVhdXdSreiC+KsP7nMR7Wz7ilQZ/asj00xBabULB3fuKeJHbD9sTLV103hiHrd22uExXy0tzhEW4cy1z5gAMJRyt35L8W+wdi/hkesRBf8AmdYmQO7d+3eFDByo1mBtnZfkNK6RSAWVTPsMMq0QfalP/PslhgsXN00R1qVhOQUjDQXdUa3aTBwwgh7C7VINuS4/YFf1CNzwKN91xKqUN71+SKY6LAg2QykWpLs2k7sISGuRWJSicMJhVPYCBJhZH3VRO2XPJP8Agmw0W1DlAhkYd/p+GdddD8Al/wASwj4jLKiWqXyiGQXNWJR4MHo0OoWi923W/gHaNHtp030HYvR+M9kMvqvW5ely5cuX23sEf4gl9F6HcBleJXMBYymV2XrYdLDruX2M9N/FuXrfSd86TCNkfbXZvUIZ5om+ArGo2AiFCAicjHoN5ui6DWvAjckI33j4Ce87wIbxkRAqqxVHj66AISffhgv7TMhG450PbYg3MpTg8wxMmgQCxOSMOm+mwsI6Zxo1SoDVlHJqycOuevf7N34xMFQsM9gohoDlrqPIO/xqY9V9J0ERSXqKQJeuTS4Q+FWvyjR1P+AgWIIpBUVjJvXmpfS1NhW+7SGqw/ujBi7D+hMeSJ0ZprxKsbp9lx6XS+ODcbBXXyJQw71p3tsWuws41aBVoMrLmogE5gjYY/0KsBy1iA8sqLMnkYzbii4DzFQEAJhOp0//ALM6hiMMW3s3gC7YRUtult4YdLVwEISxgQ4RyWl0PQBx8aCOyuWEoZ+wih6j9C1FaiOwV05MZTwZkFiPsk85+LUu1wEJdRtGgvB9TOgwjwJZu2MC59h+6iYTXu6IxF1IKgbY5hHxd6sq3eiOFxhXMXH7rqVN2Rc10XN88dPIraWdtqEvGSMTKLscly+EVeRdeapiM8c9jqLwVkFD/HGaXNApqlwslPPDyLEomVK4uqnk7sQQkpMCufoTAF2XkRliM2hbUcAIZtwWDbxZBHzgGqb0o1L98umUFw6XoL1pNDejaNB+ohc2cfYySUtaDl1Ww9w9YaLZVCIS4CH7HhF690S2grEIdfApV3uweChVZWFVvAKQaW7uGBLL6NkEGgZqo0LWUDoS3EfAbeoexSxssmLkEBr7z+henBTFo3ilmTg7Y1aRnGy0YCyhXru7XZhd74u82Yagt7CmtPxcwhGnAULrgwsXAgK21spmBCmJvBsRgWZijWS5ZuIFiEy003dBJYxQVvdmwHFQhrUUtAgnKPR82kIwltyo8XIwVLceT7zDAaKNHQ0dQm3TFowA2fzwZQgBsBodJnBytKT6myoAKDVP6aL2kTXaoBbKfiFLiCfjE1mq/BKYpV/Y65Wt5uBR/wBjKAiR21VtkaFIx9kJP1YDWtLYcgVbyxt7PxwH+whDuF1k/CMCnI1B6uKO98usQf1qqblgwe6AAxgUV4gDL0oFeEmD4R/T0DRhvKdVI7MYY90JrzklxeKMf1S2KiznUeSGgyzIN8rLhuP0T48tanMwTTm3rhIVONLih5EaHOMFeLThhjbFArc5daiq2qvM9di1vIjAMso1LfFs/JcF47IwsJ+4b1/AsEYWcbKbscLi6TmJDx5xSX6wRp2jDeMSZ4Eprcj6W5UIq6beiCFuinYRZR4BCXpQ3m4/PgtEMxRgpbYCobc5+Y0ZYNRYpO30R/AzdXfoJkNfsphXNQm7LpS0XKQNiuRm586EZvtuvAWjIAHigQuO2KT4JNy4Rgx2q6cEwtCiUg/ZLUjL6L1DBv8AI0/8o79G8b8BsvW+yw6js7R5P2Kh+5a75lwXQIodGHTs2Pdl4H6M760VCZisbp4qmbL6kfyIizAAKCXLenDxpRQuNCGt4wLH60Cc6AsRjAjrYSh9FiKdDRly5bDVhFJjaeSCW9DCOlulupvcHTKQq1u6EGhBegNQ3aU0Q1vUZehow1YOjoavTfcGlSnqO89kjpUNGBq9RpWp1OlSumtLgfgKnYCBXOygjkTQ6WGronQdRlqXOUcN0utTthj2Q6mqGvuXLi65jbSB3KWVCiL1HLUp0vPS6sIRCpg+T7ngE8G0SDNFwfZ189VWoI1v61Iodv8AEUIZiSjlEQx4JcOq4tfmbglr9R36GKjpLYcsyjLjVXZ+Bh8kYmxTIaXoR1vTDq2NG7UW6k3bUlHSdFssKg1SbZ/wabYbiCLvQvU0dKZdv+bGrPM1yI0eQrsmzrwYgjazo6r0I6EuU6Wg1QLXgWm6ecTRJXcIuHIab+0kAGwrUwvW4+TNgIFvLtOAKA8qhGyy1w4tB4nG8/SVAR5H22EB1XJLS1JMuoX+2x2JBld2Z6HV0dmO9Dhptwwox3yEXx0nXXIC9haqWBqMSXE8BtLqwS47NAUv+oJza/lNil0y4Rn9xO6QiC/WS4INyBNrzXuKbroYEEBlrgExUeq223SA/wB5q13XSyxxschYg2v6LYnCALrK2A3WUs8ltrb1ME5gtKsgASzYwMAgqLbgNmAU+yi1SdwtZguVgr+Qz2WVLdAj7o8ng2wm4Pd3digSLQ2ftgp7I/RDfki4Hi/GQMWavCbTlb/XlmRtRVQeUDCqPUFpM6GicAqELaQ0rYrBAEBG0DhhLEIK2TZl1L1eh2/skANj/PHJcwyry5RtZEHUFGOt7Yu4S61e4WDS23I99g/oaOqtmRgpuJbFrNWhpaaSA29pMOyvqKqRZuXuweEiRbSAj3M6URQVlKHm5VOXqZJwO6U7Mt8IBubMAIjU8grA7udXQH6I7P8A/GMVOUq2T9QEQUJKzYquYB1WOtO+BAlpc1VU7mkjuHHidYOdXGo+a5kUfebmGnNaXxZBZUUA8YfgimWa6RbLIKvH+FGwJie2Wrdlksz1ahrcJLEU2pVsO0sTQDwEZgfhP8cWDb5Wuh1YaIfahk+mOmLayAAAKDQ1OtFyTTgKsoANgCMB8pUJtkDG47N0sDGCISi4I+WLpfUXO8NSwJDfjUrviJBo0UPAFS3chhZtl03IX8cBqKGoGRS8D+sn0dII0sgjuDzDCka/okTy0iAkMziKooxDFtcfURJgueOODLJHortbcS8XmI2YRjx3r6bH7EtdjsXmZfDCkI2Zg92CpUNLmP8A+uVw1aPvcXs0Se1zEYntArqp5xF/OdVW25QDY85HCfW8zuBRhBE3klw3sFRw8A3dF17WPQGJhJNYy6ivoKVBKVpk2+URAE/temrCVUU+zrf0K4raYC915garoq51A9RMEGVIUpYLYJkIPgm2bCkEreJguE5lxiNZo76YtsoIigxkKEGp+taihEMbrTiIWV6seShDsv0k6Eo1CCygAfqxIw4ZDTyBMZSKdh39AnNqpV5srY0VUeptihV23LkniUfh/EDWaipd/sgpEqje9QSiEBnloMMw+x/jIEpvEC2TZU5l2X6ZjLQ3gqwy3uPZEZfQdo1GWqpfbxswM6kDyrZh+NwzoRlqBYk/VcmHio2TW0AP6hA/FBej+9LarrPsBELEZQAAAFAbBLYeV4G7QYfFhBYrFMxX94nuTRrfSMqqT7VmlxXmX0hy/wCyJb6v0sTKMFHimw0t6rqW8xV1W+i+5fwWGhU5uIQ74ewiJodt6yHatfA3NK/jWPFYezWt9Z3jpI9h0N563LZGVSyEaiqDC3I6HbvoJ1FfZMG1gPFL0VPRiGwWp/ujavglbOivS9N8H6EkDKulhF0FboLQhS0gtAW7E3IUydBy2Q/Qw9DjTQ13b7F9D8Ij8V6XVhpdsw3aCrIJbbs/sKRpEYdnpGHcTDCSOYJJKd5XBDWVBI1VssZfBv5CJafiMDRi6lC2XvIQmRRxpFEKTYcooyS7L3btQDuEA2R6bhAfDV3bUGqWcggVY6LlxYCXYX4UsbWi89gmUBBeTIwp3sOW5HiCPVQW38svqqJ8K+6/wTDUA2DU666ad3UvwCY8hzIIJQRmRABPSABCkgtbuTiFgQHG5A6cCtX0S67QdyhRLwt+y+iZIvDnbEPKSxhRgvg6TC5bhNxqUQl4lbsWzjIat0qEYOGtV4rGENRh4JlGQAIUjSxgSJWZ4vQZnUFFqOF3CYytoXLDmuu9GXpct1O6Om8Zb130VrcvsPddWHSw7hCY7ojkSCABujl8ryx5mEt02mXrYaJqHSLNos9U+AIAAAUAUE3hSyvBvaMOh6Fl6861GGt61HorqfgHYdWGgZi2uoPC4L+kE12sSaHfO8uo6MOg6DoZfYvpJel6vQ9FaMuX1MOm+ojK1vrek3T9QRutS8mX9IsYsdXyxLsp+UuHS7/FdXSpWjDV1XqeoYvUkqo9B0sNXR7tfJUW5Six8QnwuKMB+4+6j1137ly+0aGrpfW6X1Mzc41vR6XsOj2X47qw1vRh3eeq9Kld06AZXW9ioGjMw0el7NaJqX8I7TDR1C5bRh0vdGSJO5G6ug039bqGXGBsj/F1pUrovoSV816Bo51vb/v9CDTNWwolTpZh4dDtJKErBaWvEpgWYbgMtjy6C8rErYbWxKWI7yMFl+At6Fw1kzBg224ApEwiZbVquACNWqNJsfIxzndgH+hAHLTlHLRwE3VumymUvEydoZfTXeP5N1YRFB6la3w0kw+VJCgoIVroO0jVrRxWqNnTT9AlKeU8VAjwix5NVsNiRJFhFPKrxFxCqGvFznF68KlHMZf+8ykq5f8AhOO3r3UDvTX2zQD0DgitEOtjembwMWBKn6v0JMtiA2fTFFNeoKMRK/b3AoL3b6r+S9i9X5rDQqONr4+mGJVaklVR290PlfrbRPv5JEqQwNet3iPFXEtqL26vag6HeXqFIpwUG0YkeU0koXiyXCCNKrP2RB2rJw0bn/Psibf01RWA4vmK25leMm+lAjDY4FNQaPCxIlKfpXKvmyRJdMahE3ecCu/lYhwvLdziM3u+DQywZkqYOK5uPQ9m/gmla3D4dfwY7BAsiAIvkEKAAAQKV420VfQnZtwEf3A7jYAD6CDpbqty3btPxb+TXVXSXWTtHYdXSp4lCurg9/22LEroYfMv5dfJvs11HwGLLocRPXG9VKpEyq1A4fMd+3u8yvmvw7h2ToZX8e6uiHEbdWxtW4QjCfAWoI8Vql8qMNDs303H+CrtsvW/4t1dWnDkgbQdwIRfMQD+5lA+P+2mJA/A/YJigALA2JHCQtCLfUy2K7CtLp3MVWpki35Fmpt0H8Is+RcCUKv2sdmu+/HdLiJUOIW26I/GdXrOyWohS7tMAeQXW/eCbJeABzjuAKFlAMwcMTYpfpbBLAVMAEIW0HtYbzYZ6WD4jU2f6HrzCApFSHdGaQYVa0VbE8Ibyu1j9OYJ1P4I9Xr9v7zF2w/R6al2OqW+JnoviiHDuJZqQDqYL4voNOE0/aXY0e3+fDUm0lXBy2wcLQJZSixYc612SZ180/2hzDLVu+7RELC8dihdMetQD3TK0RW14uInSjRMccPcdXQhXFKI+hcHdDnIgqPaOFvF6mKDwUQn/wCPIg2hTF/JhswBN2efJJECWCr7IDD/AP3bMWIXRtvEL1zFhtXErqNJvn+ioKpm40RcJLJTBPFJGuDSlnhS1GBTRRVVEUDNQAOG8FpMgEEwlFQAuWfhLdmzF4r8o+Il7L8p6TMVs1sE2b3llnPJ7MOBI2M/CpXQ/kIDwCy6W7wBEqEVpqW03FgXf/hQXtaix6uBpQgWXbkUibJUeHwkBcJ4Lr7uAiutZlRLf2h1yxNC3VAvc9oDd6ORFR00dwWEcYe73UElOLoYUv4ILBaJyDKyMHDj2kD5bHUoI9VP40LKrGUlvC0KcbNMhobfos8iH9zZGwTjjE9AY0PALlbPXvDIP6l55QNPSY+Ii1ujQZdSroeDVJq9AgGmCOYH2y8WH0TL+jAWqWJTbW8sdZedADFjsRai7oAxRIRXZz5tZLbEj9VXCKWkOFKMr01YrKRy0mJl4L0BcXXglbbSUqUPkWKr7W/QFO26ul8K3XzUKsHa15VnokwRu7+9dzmWp2APtkskhd2VyhWLTtWD+yVXwYhsjwCupufOwa6zszbpQ+grR1qVM34Akw4drMo0QjWFXgg3ZZPKkG6zG9MpQb3HL32KRyzcpbDIFClgm17TYn2Ee1BUaeXmiWRra7J6VjlvWpUdv4wXLjNV0oU9Q3wEH4RE+qm8Q3HhSVoN3Vurc5jGUtscU5f3UKEn5u8J+gju5oFVZFUxDqwNBHt6J6BaI90ucUEM2NLzDQAtgTBVlN7d5MKVm798jirJ/SHBC2ydxEWWSgq1VIi9bV1iIPIq2sYbOR/dJcPYBEuydHKQGAaqdzYGmpQmRpvtB5EiiRZnHAdyOID1D6QKIMoVPQshTZcw/awlB8zt+YC8YDgJijUFrMftQZ6ajVxNkS4ZIXSbnIkCjCsEDltVw6w3BGIrwwDRmktG0KNxeKsoHk5GbaNRiDxwQfFFTvblwlXcOShOR3GJhVGFR/ZcMh7it1yesFMJZVks/Js26grLqdnZoLqPIEbwxXadXQCLZIFnclp+AhI9bWtKpwAPAakeymyinIG7ovs2pLyQDdpbomxG/wDNK75b3ZPlKTAyYFKSy40bN20cfNsWRRl4VaEZZ9F59FSloYLWg+5bTMQCIIlIyv66MV4jKeqUDueAynKJpihVSgAAAKCVox+FEf5HS5eoowG1RWxvTRlPQisvW9RxFERmyb/EwLvs/cGX8FfxKUqC82wZ7B8NvrDouXpQqQvY+PkX0VK6T4L1AZbx3ueKFH0RBRsHpuB0U/v/AFoWXbO+dZqvTet/I3zpTwNx+IdDq6E2eH3paXFNmbciythvHvQ6TovQDd/UH/VwKI5BzQtPdRO5h3Xgx5WBm1IQ2yClPMSUyJ+aJf8ApCL23WGZJYNLDBvwC2CQKockHxSFDdtogg2wJ+e1TALUW7vg1YAxbB5q2r+IXY7dQEQEAKMiMKVBFNyFOyMPvS4x2B2A6X2nvuYGJeU15a36Ho36qc9BGbEcfOhKb4AF/BPU6ugsPIxlCRwO4SJxWx9zeIyfb3Xw7boRIWMPDuxG/NjtdVL7KfwJm22h/wBiRqNYAAKA2A4jmDMVrcTH008IgmEYfeGBwUASqGT27IJ6hW7XOFikVGkB+xxA60t9kN3AYv8A0de0L4Wt5VEaKn9LYGcoVUsV9KmfKpqUFMEMOFqYQMtLImgv4VwVZJgR3J5Is0kfCHyn3lZEQHZrulZC27ZLsMPzsG+mWmw/20nUGoyPorNyCAYljIOyylLVwlXUh9QFiQXYtRBbnYwU7FXEGlalmBYGxggERHk0HyarhF3UGCxd9qI+UCq4CD5hSN2OQ9Q0vGXdVS78aEeilFbhs9qwqHLYv9BCofrL309MRvQcS3gOkLVYxFIhZfIOaiWgpWEW4jA8bhCBJKlWmI2kldwsf6YbwXfVktkQ8AzwpmCdR/Iq6MREoXzxLmQbcs3UAv6dq2l5yUGngnkjHa6i8+hHEuirR57g610PpdQ+c7K0fvt1rR5Z/qVSoSVC5Uqj3CBX6EJ5BiGFlE3dZjNNGZVwBxLpO+abUzgVmOsueUljNQqOAQhWLl3aVcL9H/Qhg/H+HQauCBl5YnzG0H0WET/0gS/fmOXbdbSq5Y9TYiMS7K4iDVgD8BQJ60nZ+6HYWPMHZMtrTV7kEOdx4DXJLZqfMEkOnZMu8j+nSwg/3OsVmE1La/HWPVzDfjm93l6ubzDV9w84+5No3hl2j12w1IRKj+ELJkC/FUwHEN6tX+aQt89uwKIY2x/sT6yz5ATbRvDww+0u9495vgiwWcvxeVw8j5T6IHGd6FqE0Nq7AqD0WNtFKy8aSMS0hLDCu8XqBcnnKtGOH2qKj9MIygD/AIygmZcVxb1wQDaOdY1bOY1byKUBKr3UtvV4vmXH3p4Kv2gVZ8I4SnANH0iAyId+3TBe+0eQqXe5Y9aBbBdxTxWgYUtQlSCEAKVx9w1uEM5EBajO2bNqNmdS+NALzZTDLi1vlKo5ZdjR/YbdnJA7YtvSq9HrdX4ThXJ6LFP66bv/ANBCXLPQL1tIjingddS5hBcM3liAF0Bbb7YeKy3wVegAAAAoCXU37O/4ELnEcltPH/EQyZSNf4i4v+ciRYkIW1qyXCo8X6JHqH5nJASRghkwoMLHpJBxLxKDxvxhKCgAfREX/sC7FqpFxQxmpc7oUSUfaJd0ReK0Qyg6O1iUTC28Bl+GLDd7s5n2ouNOHxZCgogttgmsSzqo6ZgsRZcsiYSmJ3q82wndv3EYIAEZX2zTlPEYRdz4FB9T94xmsdFg39LbkpXZc5G696CG+lD8LLS9VXoJfo1dL0et12a2YzYXL9ENCfay3R0Cuu+wvAg+hX+3+FN5am/7StBbsETyMBAAAHAS2EweH4NKU+5cPAhsCgoAAA2DjpadwYvY+1P9Wze+Mdl6W7mX6FxkTWX4PAEAUW5MOQl4iAyKXFv8wAXQFtvt1XV676SBLDkSWdOAlq+sJHL8R7bq6b/ZX0lRV5yNk9kZRVzYoKDvAmUrg9DoH1NdUpFFriri8CgPhQFF2vpAWooWl5DSmtLfXuU2ixE1pvftkG2Pl47Rcz7w1zS6m8Aj4o9d9xuGP2wuzUXnwR37OeyKF05XgXL38ovfpe6R0Y07gwA2A6C/Pa5h67Y5cUX7CLF0Jlq2EcHryX7iehBSGfFzet3jwExfj+iFE5f121UNSlX8KqJa36S9RmzLjitBCtjWgrDyzUx/w65yX7suTMdZVweNfMwvSJAQCXT2igLKdI6VwO5N4H0wybAqA4eoYW5/6Gt1mQTJsTKUhfa9kpmChS3b3Li2E/Snsc/vvrDG0rYCHyv0PJhGEXNco2SwF4LuF8M52qoIFGdZerQhYCrBlcG6t0BSjPyyqlMKlWqQsaRkQQW8rsxQ2JN9r1ftRCQpBVXgxgSh4r6mLmklu8+44qXCZt6qO++4nrp2ew9zVO/FkCf/AIKKHGSsW8DoZuoGJFhaot2Jtq9h1dHqz2iFP/aCh/uwGjkFhXZJYC14X/SwEKfYy85mGVAlOBBClAwSnbwQR6LZ68x1CygyYSlkK5vLuVQwoLTVYnZMSW+kobKah8RxYO1iiJMkd2Fxn6YWy4slPFQER56zmVMr9oJ5NgD+ql/cp0TxRpYH0I7wyeQ5wUs0avjK+utC0ofasyjSG8JGVYr9Ff6Iziniy3jIQJ7qAEVAoDLK26wJW6T6LmJhxnAltGmaAPQszNSX9bC13TpCJhZHNbyS3lEguH0BlSuIOrN690gGEIoFX0Qcc/ex/KYZRQjsypJtj5IRaewPy4GmHEtCh5spv82EWSuWoOaKsQAA3kbMdFaXLE3lhQGoIJR9ayDdm8gbywQNVwdyKC0B5WoldLj7tP2leYZVVcpENBWCsy2M4pljulLTGVYU29qHjzG0mOpaVtHcdXV2xMvY/dH9kW2goQhY6HcR9AgHJFVXUf8As0sX7uq5fRgFlrjIMvW9L1oKd4eW1l2lzUgBsAbxAvOJD7HYai8uV+YQ/T/orrb9RL4HH6I9UbxbEExNJ6hFKO7OPFzg7KBJqd8ywZX9J1KinDIyWEy3GJyLG/yYoaGmvR1Mbe53Bt1jhLdFurblSQ/YgZRjVsvxZKf4PZEUsbHtkgBYiJDM7BM2faUqIl7wRbIS6VJXltlON/lsrqbimCWkCFK3mw5IKC1XyKViI8NCrVVvSAWgW5jvrf6mYEQVjq3eY73VuMdqHEAzRJfZUULUC7RgRV5xM0XEO/RZ+SfkFMGUIC1QYC2LelwWHz/UMd46X2HpSo3CMmtq73yhF0xpB6Epmg+Bd9I7nxb1yiVR4tvqJkLf9nLDU+V/EI09eWPsQUgKRUBQHTelFKFBB9PS9ptGzXyudLl+iUNu0GtzY/oJO8ZUrtsNFcze4oXPXnLbnG7ux+CpRp/WsO72zv3L1uDzH4qzMl1vwXS4PVfeQtddkgn3ASVOA+2g9p0I9F/wtbNu3gipuZcvoBU0FzE1cp6heYe4wyXn+JfhuhHWoZ2R677BPvuZ3sJnsMaFZ4RHrAT4KX130+TyfuSlBsgn09WLf/mhlrbRaWgpMc1S/s6CPZCKdjuPs/DEQBdgdv4a+hhowh2lkbAZWB00sQOMeTNBXxNiTkOs6gproWVakaZAxBWx1FLkfTrIbeOH5MUO5Hq1Gt6X18OxhJxlgzKlPjQRUUBeVMsfw/8AUDdgcwWBgKrNK/F6EbLiAgrZGx6QtCVarLO1fHTely+ptquDhFHML1tUPDAlw6GKKW3hSRz00AbtwlsB3YY4gBphXFBzyPmGhG/g6eyYDjp/p5IDumOOW2KluQx6jq3hmDf/AGS7zivnc/T1ga6A59Fm87K04oqEW4flTkARHZJRI5XAFhDOViLLSqHTcdAmg32kucFAYIuCTvgOCL8pA8CkjKOrqbGRzcfW4/AjM1XbCtpG6qU2ZobxRghX9yV4+69szE863YCYLEdeY9WK6rXwiiRbXqFxuYLspCwboFWoj8K5mllVQPi0Wy9uw+hv4V3/ACMvhhQ2xBJdYlKfmQirPsZlsrICtG/0I8iXRfWM2VtQfpBMYrpQIBurRMsIvuhTZClVqIBSzetyzyPRlIFeNxiBkITxmfRrS/kOhGDoCFHtXBJUcmtHuG8Jylh7SGMqpGFqt2fN9VxaiWtTllahrdsvqI5M0Kl15qgp7j18SrzjiVAMWP7ah60igP1gvrb6kJ4CGGKAAKOTiAQqChQbu9aw8sW/PNZg91K9g0NoNUBXitKYPaZKpm0SReQ+DaBBSqO4pqf7C5GnaijwAMWodxW0yv8AuBddISxDLH6Os6GhO/argIMrzGBtMqlpd28uIYpw2NeYQtwFnWEI4/IT4PKRtRI3GwX3Bt1Yr7aGNg4mrdzzcEZseUr/AHwgT2YBf4lMoftT/wBWjooPDZ0Y7hW3Yyo8EAyRt0XeBQQPLexrVo9F0N0/iE7mAZ2cVCmliKAwv/gNOQuPyHVh8PnrGmM8imVwLRAoGDRQUdlMMEQAH9OhBqwajoS2Lpb1lbVABzd4RoIqS1bXFHVzESVtvC6Lo0lIOj6ttAU+pcpCe8EQ01YY0tOYrqBaVLxdUYs6DEfwjW/8iRjcY/aWCUlh7qIpC5d/IRfhvS6upb8g4sajyUREXvF/GYKjPgsp2+O4GYauD3yXf69OfiFAAAGwfKdCO2jAloJ7Rl/YlrVZwVw8hE/DU5/gToubyzunXf8AJuhHT+iRIVCFPbW17JuG0xH6GAbRwdV/EO8dgK63pel/jDR0I60O8ANiuwPevu3/ADN9kj2nXiDDrOgOxfU9F/wDDvH8S7aKAqAC1lShxzyzmPIb2S0A2JY+n+JOsroNT+Bv5JHaVMJ5cEoCGtw59GXY9/L/AIZ+WfwTtCIIjsxLwAEXHi9dYJ9EvW/4e+i+66mj/HurCX0PbNTsvadT+Fvs31Xq9d9N9kjDSl2lOmflHQfzhHsX3nbS46r+iMzC4968wubGk2TEPphv857r3j4d/CvuPSaO2g92NHlRSbgiI0juPhlwFUDlYi7ao+UPh32K6zVg9F9x/mjRcao1Lui/3UClbcn7GPYvW+zcvSyXLJZLly5fW6Xpehpety5cHrv5N631XrfeNGGjt8l6a0x011UdNdFStK6HWpXbrWu5XYdK6K+A7Q0XeakBLD8KOnPXet6sz3K7Sa3pXcvtn8kR+8+/C4jUg3V4JWhpVjyTFtJbPY1/EHcf5t1YQ0rY/kj5UkUw+RiNhhwPa8EuqynyLL/AvXf/AMLXSw0pQ/gDA6P9BL7tdq+8fz1d4jtDS5enPw3+Yv4J2TtEI7QhCH5FpA6O7M4SxsdmHQfKNH4dfEet7D1nYe47QgkftWsMtPuVasQrZluN8sGX0X3TtP8A8kwhHaEAyzr0KmdHZgfkMp2DaIyBoMBsBrcuXpcsgy+gf4U7T8G/g38B0Iw1Nodiu2EqVK0rv12M9p+DT8s666CEYakOq5fVel9N/GrvX2j+QdtFQAAqvARevqeX6grU0Ha4fyoVz0H8Sd8jCJ29o/ZCOYihRGNpvP8Ad7i9b0vtXrf81XySO2hJ0kbI8RuJKkoRRwytvKfhXL0uXrcvS5el/wAYfw5HbXN/FvW5fRfRet9i/h3pWlR7B/DVCOta3rfTfRfTety5ely5cuXLly5cGXTLly5cuXLlw0uXLl6XpcvS5cvpvS+m9Lly9bly9Lly5etwZcvov4YxZ//Z)"
      ],
      "metadata": {
        "id": "1cV6ezEtcibN"
      }
    },
    {
      "cell_type": "markdown",
      "source": [],
      "metadata": {
        "id": "pO-xX3Rx7n10"
      }
    },
    {
      "cell_type": "markdown",
      "source": [
        "# Practical Questions:"
      ],
      "metadata": {
        "id": "gPz_L9hWdLY3"
      }
    },
    {
      "cell_type": "code",
      "source": [
        "#1. Write a Python function that takes a list of numbers as input and returns the sum of all even numbers in the list.\n",
        "def sum_of_even_numbers(numbers):\n",
        "  sum = 0\n",
        "  for number in numbers:\n",
        "    if number % 2 == 0:\n",
        "      sum += number\n",
        "  return sum\n",
        "\n",
        "my_list = [1, 2, 3, 4, 5, 6]\n",
        "result = sum_of_even_numbers(my_list)\n",
        "print(result)\n",
        "\n",
        "\n"
      ],
      "metadata": {
        "colab": {
          "base_uri": "https://localhost:8080/"
        },
        "id": "i-nDVT2idKq4",
        "outputId": "35c76828-c8f8-4eeb-ceb0-cf40efcd96ae"
      },
      "execution_count": 17,
      "outputs": [
        {
          "output_type": "stream",
          "name": "stdout",
          "text": [
            "12\n"
          ]
        }
      ]
    },
    {
      "cell_type": "code",
      "source": [
        "\n",
        "#2.Create a Python function that accepts a string and returns the reverse of that string.\n",
        "\n",
        "\n",
        "def reverse_string(text):\n",
        "  return text[::-1]\n",
        "text = \"Hello, world!\"\n",
        "reversed_text = reverse_string(text)\n",
        "print(reversed_text)"
      ],
      "metadata": {
        "colab": {
          "base_uri": "https://localhost:8080/"
        },
        "id": "HwEKF9JkeBA7",
        "outputId": "4b780ac4-8aa0-49f2-ec61-525b514002bc"
      },
      "execution_count": null,
      "outputs": [
        {
          "output_type": "stream",
          "name": "stdout",
          "text": [
            "!dlrow ,olleH\n"
          ]
        }
      ]
    },
    {
      "cell_type": "code",
      "source": [
        "#3. Implement a Python function that takes a list of integers and returns a new list containing the squares of each number.\n",
        "def square_numbers(numbers):\n",
        "    return [x**2 for x in numbers]\n",
        "nums = [1, 2, 3, 4, 5]\n",
        "squared = square_numbers(nums)\n",
        "print(squared)\n"
      ],
      "metadata": {
        "colab": {
          "base_uri": "https://localhost:8080/"
        },
        "id": "0z9UNZ7thuzX",
        "outputId": "6b52c550-2b14-489b-d223-af6df200884b"
      },
      "execution_count": 18,
      "outputs": [
        {
          "output_type": "stream",
          "name": "stdout",
          "text": [
            "[1, 4, 9, 16, 25]\n"
          ]
        }
      ]
    },
    {
      "cell_type": "code",
      "source": [
        "#4. Write a Python function that checks if a given number is prime or not from 1 to 200.\n",
        "def is_prime(n):\n",
        "    if n <= 1:\n",
        "        return False\n",
        "    if n == 2:\n",
        "        return True\n",
        "    if n % 2 == 0:\n",
        "        return False\n",
        "    for i in range(3, int(n**0.5) + 1, 2):\n",
        "        if n % i == 0:\n",
        "            return False\n",
        "    return True\n",
        "\n",
        "\n",
        "for number in range(1, 201):\n",
        "    result = \"Prime\" if is_prime(number) else \"Not Prime\"\n",
        "    print(f\"{number}: {result}\")\n"
      ],
      "metadata": {
        "colab": {
          "base_uri": "https://localhost:8080/"
        },
        "id": "A9dgQRDrh2rK",
        "outputId": "ffe891fc-cc80-469e-c5c9-5393b11f6d76"
      },
      "execution_count": 19,
      "outputs": [
        {
          "output_type": "stream",
          "name": "stdout",
          "text": [
            "1: Not Prime\n",
            "2: Prime\n",
            "3: Prime\n",
            "4: Not Prime\n",
            "5: Prime\n",
            "6: Not Prime\n",
            "7: Prime\n",
            "8: Not Prime\n",
            "9: Not Prime\n",
            "10: Not Prime\n",
            "11: Prime\n",
            "12: Not Prime\n",
            "13: Prime\n",
            "14: Not Prime\n",
            "15: Not Prime\n",
            "16: Not Prime\n",
            "17: Prime\n",
            "18: Not Prime\n",
            "19: Prime\n",
            "20: Not Prime\n",
            "21: Not Prime\n",
            "22: Not Prime\n",
            "23: Prime\n",
            "24: Not Prime\n",
            "25: Not Prime\n",
            "26: Not Prime\n",
            "27: Not Prime\n",
            "28: Not Prime\n",
            "29: Prime\n",
            "30: Not Prime\n",
            "31: Prime\n",
            "32: Not Prime\n",
            "33: Not Prime\n",
            "34: Not Prime\n",
            "35: Not Prime\n",
            "36: Not Prime\n",
            "37: Prime\n",
            "38: Not Prime\n",
            "39: Not Prime\n",
            "40: Not Prime\n",
            "41: Prime\n",
            "42: Not Prime\n",
            "43: Prime\n",
            "44: Not Prime\n",
            "45: Not Prime\n",
            "46: Not Prime\n",
            "47: Prime\n",
            "48: Not Prime\n",
            "49: Not Prime\n",
            "50: Not Prime\n",
            "51: Not Prime\n",
            "52: Not Prime\n",
            "53: Prime\n",
            "54: Not Prime\n",
            "55: Not Prime\n",
            "56: Not Prime\n",
            "57: Not Prime\n",
            "58: Not Prime\n",
            "59: Prime\n",
            "60: Not Prime\n",
            "61: Prime\n",
            "62: Not Prime\n",
            "63: Not Prime\n",
            "64: Not Prime\n",
            "65: Not Prime\n",
            "66: Not Prime\n",
            "67: Prime\n",
            "68: Not Prime\n",
            "69: Not Prime\n",
            "70: Not Prime\n",
            "71: Prime\n",
            "72: Not Prime\n",
            "73: Prime\n",
            "74: Not Prime\n",
            "75: Not Prime\n",
            "76: Not Prime\n",
            "77: Not Prime\n",
            "78: Not Prime\n",
            "79: Prime\n",
            "80: Not Prime\n",
            "81: Not Prime\n",
            "82: Not Prime\n",
            "83: Prime\n",
            "84: Not Prime\n",
            "85: Not Prime\n",
            "86: Not Prime\n",
            "87: Not Prime\n",
            "88: Not Prime\n",
            "89: Prime\n",
            "90: Not Prime\n",
            "91: Not Prime\n",
            "92: Not Prime\n",
            "93: Not Prime\n",
            "94: Not Prime\n",
            "95: Not Prime\n",
            "96: Not Prime\n",
            "97: Prime\n",
            "98: Not Prime\n",
            "99: Not Prime\n",
            "100: Not Prime\n",
            "101: Prime\n",
            "102: Not Prime\n",
            "103: Prime\n",
            "104: Not Prime\n",
            "105: Not Prime\n",
            "106: Not Prime\n",
            "107: Prime\n",
            "108: Not Prime\n",
            "109: Prime\n",
            "110: Not Prime\n",
            "111: Not Prime\n",
            "112: Not Prime\n",
            "113: Prime\n",
            "114: Not Prime\n",
            "115: Not Prime\n",
            "116: Not Prime\n",
            "117: Not Prime\n",
            "118: Not Prime\n",
            "119: Not Prime\n",
            "120: Not Prime\n",
            "121: Not Prime\n",
            "122: Not Prime\n",
            "123: Not Prime\n",
            "124: Not Prime\n",
            "125: Not Prime\n",
            "126: Not Prime\n",
            "127: Prime\n",
            "128: Not Prime\n",
            "129: Not Prime\n",
            "130: Not Prime\n",
            "131: Prime\n",
            "132: Not Prime\n",
            "133: Not Prime\n",
            "134: Not Prime\n",
            "135: Not Prime\n",
            "136: Not Prime\n",
            "137: Prime\n",
            "138: Not Prime\n",
            "139: Prime\n",
            "140: Not Prime\n",
            "141: Not Prime\n",
            "142: Not Prime\n",
            "143: Not Prime\n",
            "144: Not Prime\n",
            "145: Not Prime\n",
            "146: Not Prime\n",
            "147: Not Prime\n",
            "148: Not Prime\n",
            "149: Prime\n",
            "150: Not Prime\n",
            "151: Prime\n",
            "152: Not Prime\n",
            "153: Not Prime\n",
            "154: Not Prime\n",
            "155: Not Prime\n",
            "156: Not Prime\n",
            "157: Prime\n",
            "158: Not Prime\n",
            "159: Not Prime\n",
            "160: Not Prime\n",
            "161: Not Prime\n",
            "162: Not Prime\n",
            "163: Prime\n",
            "164: Not Prime\n",
            "165: Not Prime\n",
            "166: Not Prime\n",
            "167: Prime\n",
            "168: Not Prime\n",
            "169: Not Prime\n",
            "170: Not Prime\n",
            "171: Not Prime\n",
            "172: Not Prime\n",
            "173: Prime\n",
            "174: Not Prime\n",
            "175: Not Prime\n",
            "176: Not Prime\n",
            "177: Not Prime\n",
            "178: Not Prime\n",
            "179: Prime\n",
            "180: Not Prime\n",
            "181: Prime\n",
            "182: Not Prime\n",
            "183: Not Prime\n",
            "184: Not Prime\n",
            "185: Not Prime\n",
            "186: Not Prime\n",
            "187: Not Prime\n",
            "188: Not Prime\n",
            "189: Not Prime\n",
            "190: Not Prime\n",
            "191: Prime\n",
            "192: Not Prime\n",
            "193: Prime\n",
            "194: Not Prime\n",
            "195: Not Prime\n",
            "196: Not Prime\n",
            "197: Prime\n",
            "198: Not Prime\n",
            "199: Prime\n",
            "200: Not Prime\n"
          ]
        }
      ]
    },
    {
      "cell_type": "code",
      "source": [
        "#5. Create an iterator class in Python that generates the Fibonacci sequence up to a specified number of terms.\n",
        "class FibonacciIterator:\n",
        "    def __init__(self, max_terms):\n",
        "        self.max_terms = max_terms\n",
        "        self.count = 0\n",
        "        self.a = 0\n",
        "        self.b = 1\n",
        "\n",
        "    def __iter__(self):\n",
        "        return self\n",
        "\n",
        "    def __next__(self):\n",
        "        if self.count >= self.max_terms:\n",
        "            raise StopIteration\n",
        "        if self.count == 0:\n",
        "            self.count += 1\n",
        "            return self.a\n",
        "        elif self.count == 1:\n",
        "            self.count += 1\n",
        "            return self.b\n",
        "        else:\n",
        "            self.a, self.b = self.b, self.a + self.b\n",
        "            self.count += 1\n",
        "            return self.b\n",
        "\n",
        "\n",
        "fib = FibonacciIterator(10)\n",
        "for num in fib:\n",
        "    print(num)"
      ],
      "metadata": {
        "colab": {
          "base_uri": "https://localhost:8080/"
        },
        "id": "aDun8WwNh8YU",
        "outputId": "25b2ab90-e859-4838-fdf0-f3fee526bc29"
      },
      "execution_count": 20,
      "outputs": [
        {
          "output_type": "stream",
          "name": "stdout",
          "text": [
            "0\n",
            "1\n",
            "1\n",
            "2\n",
            "3\n",
            "5\n",
            "8\n",
            "13\n",
            "21\n",
            "34\n"
          ]
        }
      ]
    },
    {
      "cell_type": "code",
      "source": [
        "#6. Write a generator function in Python that yields the powers of 2 up to a given exponent.\n",
        "def powers_of_two(max_exponent):\n",
        "    for exponent in range(max_exponent + 1):\n",
        "        yield 2 ** exponent\n",
        "for power in powers_of_two(5):\n",
        "    print(power)"
      ],
      "metadata": {
        "colab": {
          "base_uri": "https://localhost:8080/"
        },
        "id": "lkwY2_3viGEN",
        "outputId": "393daa3c-a851-446c-f207-c398766e75e1"
      },
      "execution_count": 22,
      "outputs": [
        {
          "output_type": "stream",
          "name": "stdout",
          "text": [
            "1\n",
            "2\n",
            "4\n",
            "8\n",
            "16\n",
            "32\n"
          ]
        }
      ]
    },
    {
      "cell_type": "code",
      "source": [
        "#7. Implement a generator function that reads a file line by line and yields each line as a string.\n",
        "def read_file_line_by_line(filepath):\n",
        "  \"\"\"Reads a file line by line and yields each line as a string.\n",
        "\n",
        "  Args:\n",
        "    filepath: The path to the file.\n",
        "\n",
        "  Yields:\n",
        "    str: Each line from the file.\n",
        "  \"\"\"\n",
        "  try:\n",
        "    with open(filepath, 'r') as file:\n",
        "      for line in file:\n",
        "        yield line.rstrip('\\n')  # Remove trailing newline character\n",
        "  except FileNotFoundError:\n",
        "    print(f\"Error: File not found at {filepath}\")\n",
        "\n",
        "# Example usage:\n",
        "if __name__ == \"__main__\":\n",
        "  # Create a sample file\n",
        "  with open(\"sample.txt\", \"w\") as f:\n",
        "    f.write(\"This is the first line.\\n\")\n",
        "    f.write(\"This is the second line.\\n\")\n",
        "    f.write(\"And this is the third line.\\n\")\n",
        "\n",
        "  # Use the generator function to read and print the file\n",
        "  for line in read_file_line_by_line(\"sample.txt\"):\n",
        "    print(f\"Line: {line}\")"
      ],
      "metadata": {
        "colab": {
          "base_uri": "https://localhost:8080/"
        },
        "id": "qU3LEEkxiO0O",
        "outputId": "533d7c9b-a855-4003-aa4d-c7c6bb95e85a"
      },
      "execution_count": 23,
      "outputs": [
        {
          "output_type": "stream",
          "name": "stdout",
          "text": [
            "Line: This is the first line.\n",
            "Line: This is the second line.\n",
            "Line: And this is the third line.\n"
          ]
        }
      ]
    },
    {
      "cell_type": "code",
      "source": [
        "#8. Use a lambda function in Python to sort a list of tuples based on the second element of each tuple.\n",
        "# Sample list of tuples\n",
        "my_list = [(1, 3), (4, 1), (2, 2), (5, 0)]\n",
        "\n",
        "# Sort using lambda (based on the second element)\n",
        "sorted_list = sorted(my_list, key=lambda x: x[1])\n",
        "\n",
        "print(sorted_list)\n"
      ],
      "metadata": {
        "colab": {
          "base_uri": "https://localhost:8080/"
        },
        "id": "fybOgO2ziSZS",
        "outputId": "fecaa8e2-993b-444f-8356-4dd55788b792"
      },
      "execution_count": 24,
      "outputs": [
        {
          "output_type": "stream",
          "name": "stdout",
          "text": [
            "[(5, 0), (4, 1), (2, 2), (1, 3)]\n"
          ]
        }
      ]
    },
    {
      "cell_type": "code",
      "source": [
        "#9. Write a Python program that uses `map()` to convert a list of temperatures from Celsius to Fahrenheit.\n",
        "# Function to convert Celsius to Fahrenheit\n",
        "def celsius_to_fahrenheit(celsius):\n",
        "    return (celsius * 9/5) + 32\n",
        "\n",
        "# List of temperatures in Celsius\n",
        "celsius_temps = [0, 20, 37, 100]\n",
        "# Use map() to convert to Fahrenheit\n",
        "fahrenheit_temps = list(map(celsius_to_fahrenheit, celsius_temps))\n",
        "\n",
        "# Print the result\n",
        "print(\"Celsius temperatures:\", celsius_temps)\n",
        "print(\"Fahrenheit temperatures:\", fahrenheit_temps)\n",
        "\n",
        "\n",
        "\n",
        "\n",
        "\n",
        "\n",
        "\n",
        "\n",
        "\n"
      ],
      "metadata": {
        "id": "EDww26N2ijx8"
      },
      "execution_count": 40,
      "outputs": []
    },
    {
      "cell_type": "code",
      "source": [
        "#10. Create a Python program that uses `filter()` to remove all the vowels from a given string.\n",
        "def remove_vowels(input_string):\n",
        "    # Define a function that returns True for non-vowel characters\n",
        "    def is_not_vowel(char):\n",
        "        return char.lower() not in 'aeiou'\n",
        "\n",
        "    # Use filter to keep only non-vowel characters\n",
        "    filtered_chars = filter(is_not_vowel, input_string)\n",
        "\n",
        "    # Join the filtered characters back into a string\n",
        "    result = ''.join(filtered_chars)\n",
        "\n",
        "    return result\n",
        "    # Example usage\n",
        "input_string = \"Hello, World!\"\n",
        "output_string = remove_vowels(input_string)\n",
        "print(\"Original String:\", input_string)\n",
        "print(\"String without vowels:\", output_string)"
      ],
      "metadata": {
        "colab": {
          "base_uri": "https://localhost:8080/"
        },
        "id": "VFECKSnMnB7x",
        "outputId": "c5eb4776-4c76-46d9-c107-8e777bbc1ca6"
      },
      "execution_count": 42,
      "outputs": [
        {
          "output_type": "stream",
          "name": "stdout",
          "text": [
            "Original String: Hello, World!\n",
            "String without vowels: Hll, Wrld!\n"
          ]
        }
      ]
    },
    {
      "cell_type": "code",
      "source": [
        "#11) Imagine an accounting routine used in a book shop. It works on a list with sublists, which look like this:Write a Python program, which returns a list with 2-tuples. Each tuple consists of the order number and theproduct of the price per item and the quantity. The product should be increased by 10,- € if the value of the order is smaller than 100,00 €. Write a Python program using lambda and map.\n",
        "\n",
        "orders = [\n",
        "    [34587, \"Learning Python, Mark Lutz\", 4, 40.95],\n",
        "    [98762, \"Programming Python, Mark Lutz\", 5, 56.80],\n",
        "    [77226, \"Head First Python, Paul Barry\", 3, 32.95],\n",
        "    [88112, \"Einführung in Python3, Bernd Klein\", 3, 24.99]\n",
        "]\n",
        "\n",
        "# Using lambda and map to calculate order values\n",
        "order_values = list(map(lambda order: (order[0], order[2] * order[3] + (10 if order[2] * order[3] < 100 else 0)), orders))\n",
        "\n",
        "# Printing the order values\n",
        "print(order_values)\n"
      ],
      "metadata": {
        "id": "TaaG7lSengbU"
      },
      "execution_count": 47,
      "outputs": []
    }
  ]
}